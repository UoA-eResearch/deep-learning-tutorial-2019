{
  "nbformat": 4,
  "nbformat_minor": 0,
  "metadata": {
    "colab": {
      "name": "Exercise 1 - binary pima indians.ipynb",
      "version": "0.3.2",
      "provenance": [],
      "include_colab_link": true
    },
    "language_info": {
      "codemirror_mode": {
        "name": "ipython",
        "version": 3
      },
      "file_extension": ".py",
      "mimetype": "text/x-python",
      "name": "python",
      "nbconvert_exporter": "python",
      "pygments_lexer": "ipython3",
      "version": "3.6.8"
    },
    "kernelspec": {
      "name": "python3",
      "display_name": "Python 3"
    },
    "accelerator": "GPU"
  },
  "cells": [
    {
      "cell_type": "markdown",
      "metadata": {
        "id": "view-in-github",
        "colab_type": "text"
      },
      "source": [
        "<a href=\"https://colab.research.google.com/github/UoA-eResearch/deep-learning-tutorial-2019/blob/master/Exercise%201%20-%20binary%20pima%20indians.ipynb\" target=\"_parent\"><img src=\"https://colab.research.google.com/assets/colab-badge.svg\" alt=\"Open In Colab\"/></a>"
      ]
    },
    {
      "cell_type": "markdown",
      "metadata": {
        "id": "1x5mlvDi1pNE",
        "colab_type": "text"
      },
      "source": [
        "## Neural Network Fundamentals\n",
        "\n",
        "A neural network is a computer system inspired by the human brain and nervous system.\n",
        "\n",
        "![catndog](http://www.hoydelivery.com/oc-content/uploads/1/571_preview.jpg)\n",
        "\n",
        "### Basic structure\n",
        "\n",
        "![Neural network diagram](https://res.cloudinary.com/dyd911kmh/image/upload/f_auto,q_auto:best/v1547672259/3_qwv5gr.png)\n",
        "\n",
        "The basic structure of a neural network model contains one input layer, one hidden layer and one output layer.\n",
        "\n",
        "### How do neural network models learn?\n",
        "\n",
        "The models learn through forward propagation and back propagation. \n",
        "\n",
        "In neural networks, the model takes the input, put different weights on input, do computations to get the output. This is called the ***forward propagation***.\n",
        "\n",
        "\n",
        "![forward-propagation](http://storage.ning.com/topology/rest/1.0/file/get/2808365824?profile=original)\n",
        "\n",
        "The activation function (`activation` parameter) determines the output of a neuron given certain inputs. The main purpose is to convert an input signal of a node to an output signal, it also adds non-linear properties to the network. Here is one of the activation functions  [Sigmoid activation function](https://en.wikipedia.org/wiki/Sigmoid_function) (`sigmoid`)\n",
        "\n",
        "![activation function](https://cdn-images-1.medium.com/max/1600/1*4QUv7dYWT5J1SCHikbu3Zg.gif)\n",
        "\n",
        "Then it will compare the predicted output with the real value to get the error.\n",
        "\n",
        "To minimise the error, it performs ***back propagation*** by calculating the reasonable update values and updating the weights used in the network.\n",
        "\n",
        "\n",
        "![Backpropagation](https://www.python-course.eu/images/backpropagation_one_node_linear.png)\n",
        "\n",
        "\n",
        "With the new weights, it will then again repeat this process. The main idea here is overtime, the weights keep getting adjusted so the model learns to predict more accurate output, minimising the error.\n",
        "\n",
        "\n",
        "*Note that here we are only referring to the sequential neural network models*\n",
        "\n",
        "### Key Points\n",
        "\n",
        "*   Basic structure of a neural network includes input layer, hidden layers and output layer\n",
        "*   How a neural network \"learns\" through forward and back propagation algorithms\n",
        "\n",
        "***Learning flow over time***\n",
        "\n",
        "![Learning flow](https://media3.giphy.com/media/HC5CFjbYxFiKc/source.gif)"
      ]
    },
    {
      "cell_type": "markdown",
      "metadata": {
        "id": "gMZkV8eGwAb5",
        "colab_type": "text"
      },
      "source": [
        "## Exercise 1: Pima Indians Diabetes\n",
        "In this exercise we will create a neural network to predict the onset of diabetes mellitus in [Pima Indians](https://en.wikipedia.org/wiki/Pima_people), a high risk population who live in southern Arizona.\n",
        "\n",
        "This type of supervised learning is called binary classification, because our desired output consists into one of two groups.\n",
        "\n",
        "There are 6 main steps when creating a deep learning model using Keras:\n",
        "\n",
        "1. Import data\n",
        "2. Separate and split data\n",
        "3. Create model\n",
        "4. Compile model \n",
        "5. Fit model\n",
        "6. Evaluate model"
      ]
    },
    {
      "cell_type": "markdown",
      "metadata": {
        "id": "7gpSvqHYwAcD",
        "colab_type": "text"
      },
      "source": [
        "### Import data\n",
        "The Pima Indians Diabetes dataset contains 9 features and 768 samples, including whether the subject developed diabetes mellitus within 5 years of the examination (or if it didn't develop). The features in the dataset are described below.\n",
        "\n",
        "* P: Number of times pregnant \n",
        "* PG: Plasma glucose concentration a 2 hours in an oral glucose tolerance test \n",
        "* DIA: Diastolic blood pressure (mm Hg) \n",
        "* SF: Triceps skin fold thickness (mm) \n",
        "* INS: 2-Hour serum insulin (mu U/ml) \n",
        "* BMI: Body mass index (weight in kg/(height in m)^2) \n",
        "* DP: Diabetes pedigree function \n",
        "* Age: (years) \n",
        "* Class: whether the subject developed diabetes more than 5 years from examination (0 - diabetes free or 1 - diabetes)\n",
        "\n",
        "|P|PG|DIA|SF|INS|BMI|DP|Age|Class|\n",
        "|--|--|--|--|--|--|--|--|--|\n",
        "|6|148|72|35|0|33.6|0.627|50|1|\n",
        "|1|85|66|29|0|26.6|0.351|31|0|\n",
        "|8|183|64|0|0|23.3|0.672|32|1|\n",
        "|1|89|66|23|94|28.1|0.167|21|0|\n",
        "|0|137|40|35|168|43.1|2.288|33|1|\n",
        "|5|116|74|0|0|25.6|0.201|30|0|\n",
        "\n",
        "To load this data into memory, use the `np.loadtxt` function."
      ]
    },
    {
      "cell_type": "code",
      "metadata": {
        "id": "-2qxgFzRwAcE",
        "colab_type": "code",
        "colab": {}
      },
      "source": [
        "import numpy as np\n",
        "data = np.loadtxt(\"https://raw.githubusercontent.com/UoA-eResearch/deep-learning-tutorial-2019/master/data/pima.csv\", delimiter=\",\")\n",
        "#print(data) # Uncomment this line"
      ],
      "execution_count": 0,
      "outputs": []
    },
    {
      "cell_type": "markdown",
      "metadata": {
        "id": "9SkN5JBYwAcG",
        "colab_type": "text"
      },
      "source": [
        "Separate the data into input (X) and output (y) variables."
      ]
    },
    {
      "cell_type": "code",
      "metadata": {
        "id": "DxXsVCncwAcH",
        "colab_type": "code",
        "colab": {}
      },
      "source": [
        "X = data[:, 0:8]\n",
        "#print(X[0]) # Uncomment this line\n",
        "y = data[:, 8]\n",
        "#print(y[0])  # Uncomment this line"
      ],
      "execution_count": 0,
      "outputs": []
    },
    {
      "cell_type": "markdown",
      "metadata": {
        "id": "YLf_SQNfwAcA",
        "colab_type": "text"
      },
      "source": [
        "### Set seed\n",
        "Set a seed value so that when we repeatedly run our code we will get the same result. Using the same seed is important when you want to compare algorithms."
      ]
    },
    {
      "cell_type": "code",
      "metadata": {
        "id": "uPBUw_tJwAcB",
        "colab_type": "code",
        "colab": {}
      },
      "source": [
        "seed = 7\n",
        "np.random.seed(seed)"
      ],
      "execution_count": 0,
      "outputs": []
    },
    {
      "cell_type": "markdown",
      "metadata": {
        "id": "5AHxDhnWwAcK",
        "colab_type": "text"
      },
      "source": [
        "Use the `train_test_split` function from scikit-learn to split the input and target data into training, validation and test datasets. We set the `test_size` and `validation_size` to be 20% of our total samples and the `random_state` is set to our seed so that we get the same results.\n",
        "\n",
        "![train-valid-test](https://cdn-images-1.medium.com/max/1600/1*8fphzGUa4BdpoXaNGttziw.png)"
      ]
    },
    {
      "cell_type": "code",
      "metadata": {
        "id": "2qBMWKMawAcK",
        "colab_type": "code",
        "colab": {}
      },
      "source": [
        "from sklearn.model_selection import train_test_split\n",
        "X_train, X_test, y_train, y_test = train_test_split(X, y, test_size=0.2, random_state=seed)                                             \n",
        "X_train, X_val, y_train, y_val = train_test_split(X_train, y_train, test_size=0.25, random_state=seed) # 0.2/0.8=0.25"
      ],
      "execution_count": 0,
      "outputs": []
    },
    {
      "cell_type": "markdown",
      "metadata": {
        "id": "9K_ss59CwAcM",
        "colab_type": "text"
      },
      "source": [
        "### Create the model\n",
        "The code snippet below creates a very basic neural network model, with three layers: an input layer, a hidden layer and an output layer.\n",
        "\n",
        " ![architecture](http://nicolamanzini.com/wp-content/uploads/2017/11/single_hidden_layer.jpg)\n",
        "\n",
        "We start by instantiating a `Sequential` model, onto which we add a number of layers.\n",
        "\n",
        "The first layer is a fully connected neural network layer, defined by the `Dense` class. The first `Dense` layer added to a `Sequential` model actually acts as two layers: the input layer and the first hidden layer.\n",
        "\n",
        "***Forward propagation recap***\n",
        "\n",
        "![forward propagation](https://harishnarayanan.org/images/writing/artistic-style-transfer/neuron.gif)\n",
        "\n",
        "The first argument in the `Dense` class is the number of neurons in the layer. In the first layer we set this value to 12, which becomes 12 neurons in the hidden layer (choosing a good value for this variable requires trial and error). Our input data set has 8 features, so we set the `input_dim` variable to 8, which creates 8 input neurons, one for each feature. We use the Sigmoid activation function (sigmoid) within the network.\n",
        "\n",
        "The last layer is specified by adding a `Dense` layer with 1 neuron. The number of neurons in the output layer always equals the number of outputs you are predicting. In this case we are estimating one output, whether the subject developed diabetes or not, so we set it to 1. The activation function on the last layer is a [Sigmoid activation function](https://en.wikipedia.org/wiki/Sigmoid_function) (`sigmoid`) because we want to guarantee that the output will be between 0 and 1.\n",
        "\n",
        "\n",
        "\n",
        "\n",
        "\n"
      ]
    },
    {
      "cell_type": "code",
      "metadata": {
        "id": "h-AWK20wwAcN",
        "colab_type": "code",
        "outputId": "2b16c0ac-c1a0-4127-cbb1-f38b73226e13",
        "colab": {
          "base_uri": "https://localhost:8080/",
          "height": 158
        }
      },
      "source": [
        "from keras.models import Sequential\n",
        "from keras.layers import Dense\n",
        "from sklearn import metrics\n",
        "model = Sequential()\n",
        "model.add(Dense(12, input_dim=8, activation='sigmoid'))\n",
        "model.add(Dense(1, activation='sigmoid'))"
      ],
      "execution_count": 0,
      "outputs": [
        {
          "output_type": "stream",
          "text": [
            "WARNING: Logging before flag parsing goes to stderr.\n",
            "W0709 00:51:39.023694 139633492354944 deprecation_wrapper.py:119] From /usr/local/lib/python3.6/dist-packages/keras/backend/tensorflow_backend.py:74: The name tf.get_default_graph is deprecated. Please use tf.compat.v1.get_default_graph instead.\n",
            "\n",
            "W0709 00:51:39.076860 139633492354944 deprecation_wrapper.py:119] From /usr/local/lib/python3.6/dist-packages/keras/backend/tensorflow_backend.py:517: The name tf.placeholder is deprecated. Please use tf.compat.v1.placeholder instead.\n",
            "\n",
            "W0709 00:51:39.083469 139633492354944 deprecation_wrapper.py:119] From /usr/local/lib/python3.6/dist-packages/keras/backend/tensorflow_backend.py:4138: The name tf.random_uniform is deprecated. Please use tf.random.uniform instead.\n",
            "\n"
          ],
          "name": "stderr"
        }
      ]
    },
    {
      "cell_type": "markdown",
      "metadata": {
        "id": "9wsEssOJwAcP",
        "colab_type": "text"
      },
      "source": [
        "### Compile the model\n",
        "The next step is to compile the model, by calling the `compile` function. \n",
        "\n",
        "The compilation process uses TensorFlow to create a network that can be trained and used to make predictions. Training involves finding weights that can make accurate predictions based on the input data. \n",
        "\n",
        "***Back propagation recap***\n",
        "\n",
        "![Backpropagation](https://www.python-course.eu/images/backpropagation_one_node_linear.png)\n",
        "\n",
        "\n",
        "During each iteration of training, the network produces a result, and to check the error, a `loss function` is used to evaluate the effectivness of the neuron weights. This is specified through the `loss` parameter. In this example we use the `binary_crossentropy` loss function, because we are solving binary classification problem.\n",
        "\n",
        "How loss functions work is outside the scope of this tutorial, however, you can view the available loss functions in the Keras documentation [here](https://keras.io/losses/).\n",
        "\n",
        "The last parameter is the `optimizer`, which is the algorithm that actually tries to minimise the error by adjusting the weights in the neural network. The `adam` optimiser uses the [gradient descent algorithm](https://en.wikipedia.org/wiki/Gradient_descent) and is often an efficient choice.\n",
        "\n",
        "![gradient-descent](https://thumbs.gfycat.com/AngryInconsequentialDiplodocus-size_restricted.gif)\n",
        "\n",
        "How these algorithms work is also out of scope of the tutorial, however, you can view the available optimizers in the Keras documentation [here](https://keras.io/optimizers/)."
      ]
    },
    {
      "cell_type": "code",
      "metadata": {
        "id": "yp_2TAybwAcQ",
        "colab_type": "code",
        "outputId": "297bd499-f728-4d12-d4d4-d1b6284c6c20",
        "colab": {
          "base_uri": "https://localhost:8080/",
          "height": 158
        }
      },
      "source": [
        "model.compile(loss='binary_crossentropy', optimizer='adam', metrics=['accuracy'])"
      ],
      "execution_count": 0,
      "outputs": [
        {
          "output_type": "stream",
          "text": [
            "W0709 00:51:39.116307 139633492354944 deprecation_wrapper.py:119] From /usr/local/lib/python3.6/dist-packages/keras/optimizers.py:790: The name tf.train.Optimizer is deprecated. Please use tf.compat.v1.train.Optimizer instead.\n",
            "\n",
            "W0709 00:51:39.143098 139633492354944 deprecation_wrapper.py:119] From /usr/local/lib/python3.6/dist-packages/keras/backend/tensorflow_backend.py:3376: The name tf.log is deprecated. Please use tf.math.log instead.\n",
            "\n",
            "W0709 00:51:39.148792 139633492354944 deprecation.py:323] From /usr/local/lib/python3.6/dist-packages/tensorflow/python/ops/nn_impl.py:180: add_dispatch_support.<locals>.wrapper (from tensorflow.python.ops.array_ops) is deprecated and will be removed in a future version.\n",
            "Instructions for updating:\n",
            "Use tf.where in 2.0, which has the same broadcast rule as np.where\n"
          ],
          "name": "stderr"
        }
      ]
    },
    {
      "cell_type": "markdown",
      "metadata": {
        "id": "OcBQsdl4wAcS",
        "colab_type": "text"
      },
      "source": [
        "### Fit the model\n",
        "Now that we have compiled the model, we can train it with the data we prepared earlier. The data to train with is specified with the first two parameters: `X_train` (input) and `y_train` (target). The data the fit function will validate the training data with is specified with the `validation_data` parameter.\n",
        "\n",
        "The number of iterations that we will train the model for is specified with the `epochs` parameter. The `batch_size` specifies the number of training samples that are evaluated before the weights are updated in the network. Trial and error is the usual method for working out good values for the `epochs` and `batch_size`.\n",
        "\n",
        "Sample output from the fit function is illustrated below. The output displays the average loss and accuracy of the training (loss, acc) and test dataset (val_loss, val_acc) for each epoch.\n",
        "\n",
        "```\n",
        "Train on 768 samples, validate on 254 samples\n",
        "Epoch 1/150\n",
        "768/768 [============] - 0s - loss: 5.1268 - acc: 0.6302 - val_loss: 4.9765 - val_acc: 0.6378\n",
        "Epoch 2/150\n",
        "768/768 [============] - 0s - loss: 4.9509 - acc: 0.6354 - val_loss: 4.8132 - val_acc: 0.6339\n",
        "Epoch 3/150\n",
        "```"
      ]
    },
    {
      "cell_type": "code",
      "metadata": {
        "scrolled": false,
        "id": "cW6G9eviwAcT",
        "colab_type": "code",
        "outputId": "449a406d-c4fa-4a58-eac0-93037ca0b3f6",
        "colab": {
          "base_uri": "https://localhost:8080/",
          "height": 71
        }
      },
      "source": [
        "history = model.fit(X_train, y_train, validation_data=(X_val, y_val), epochs=150, batch_size=10, verbose= 0)"
      ],
      "execution_count": 0,
      "outputs": [
        {
          "output_type": "stream",
          "text": [
            "W0709 00:51:39.335512 139633492354944 deprecation_wrapper.py:119] From /usr/local/lib/python3.6/dist-packages/keras/backend/tensorflow_backend.py:986: The name tf.assign_add is deprecated. Please use tf.compat.v1.assign_add instead.\n",
            "\n"
          ],
          "name": "stderr"
        }
      ]
    },
    {
      "cell_type": "code",
      "metadata": {
        "id": "c749xFMFwAcV",
        "colab_type": "code",
        "colab": {}
      },
      "source": [
        "import matplotlib.pyplot as plt\n",
        "\n",
        "def plot_acc_loss(history):\n",
        "    f, (ax1, ax2) = plt.subplots(2,1, figsize=(10,10))\n",
        "    \n",
        "    # Summarize history of accuracy\n",
        "    ax1.plot(history.history['loss'])\n",
        "    ax1.plot(history.history['val_loss'])\n",
        "    ax1.set_title('model loss')\n",
        "    ax1.legend(['train', 'validation'], loc='upper left')\n",
        "    \n",
        "    # Summarize history of accuracy\n",
        "    ax2.plot(history.history['acc'])\n",
        "    ax2.plot(history.history['val_acc'])\n",
        "    ax2.set_title('model accuracy')\n",
        "    ax2.set_xlabel('epoch')\n",
        "    ax2.legend(['train', 'validation'], loc='upper left')\n",
        "    \n",
        "    plt.subplots_adjust(hspace=0.5)\n",
        "    plt.show()"
      ],
      "execution_count": 0,
      "outputs": []
    },
    {
      "cell_type": "code",
      "metadata": {
        "id": "rF3ap0J_wAcW",
        "colab_type": "code",
        "outputId": "ac0df837-1030-4415-bc57-6fbff14dfd12",
        "colab": {
          "base_uri": "https://localhost:8080/",
          "height": 621
        }
      },
      "source": [
        "plot_acc_loss(history)"
      ],
      "execution_count": 0,
      "outputs": [
        {
          "output_type": "display_data",
          "data": {
            "image/png": "[encoded data removed]",
            "text/plain": [
              "<Figure size 720x720 with 2 Axes>"
            ]
          },
          "metadata": {
            "tags": []
          }
        }
      ]
    },
    {
      "cell_type": "markdown",
      "metadata": {
        "id": "IrM5SIcdwAcZ",
        "colab_type": "text"
      },
      "source": [
        "### Evaluate the model\n",
        "Now that we have trained our model, we can evaluate the performance on the test data prepared earlier. This is done with the `evaluate` function, simply supply the input and target parameters to the function.\n",
        "\n",
        "The value printed out is the accuracy (%)."
      ]
    },
    {
      "cell_type": "code",
      "metadata": {
        "id": "EvA-scpVwAca",
        "colab_type": "code",
        "outputId": "815e938c-2792-4991-d5e3-ebfc7e4c3824",
        "colab": {
          "base_uri": "https://localhost:8080/",
          "height": 69
        }
      },
      "source": [
        "scores = model.evaluate(X_test, y_test)\n",
        "print(\"\\n{0}: {1:.2f}%\".format(model.metrics_names[1], scores[1]*100))"
      ],
      "execution_count": 0,
      "outputs": [
        {
          "output_type": "stream",
          "text": [
            "154/154 [==============================] - 0s 131us/step\n",
            "\n",
            "acc: 65.58%\n"
          ],
          "name": "stdout"
        }
      ]
    },
    {
      "cell_type": "markdown",
      "metadata": {
        "id": "Ma8sE9HMtnlg",
        "colab_type": "text"
      },
      "source": [
        "### Key Points\n",
        "\n",
        "*   Essential steps to create a deep learning model\n",
        "*   Create a deep learning model using Keras for a binary classification problem\n",
        "\n",
        "\n",
        "\n"
      ]
    }
  ]
}