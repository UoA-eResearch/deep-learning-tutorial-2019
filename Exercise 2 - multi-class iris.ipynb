{
  "nbformat": 4,
  "nbformat_minor": 0,
  "metadata": {
    "colab": {
      "name": "Exercise 2 - multi-class iris.ipynb",
      "version": "0.3.2",
      "provenance": [],
      "include_colab_link": true
    },
    "language_info": {
      "codemirror_mode": {
        "name": "ipython",
        "version": 3
      },
      "file_extension": ".py",
      "mimetype": "text/x-python",
      "name": "python",
      "nbconvert_exporter": "python",
      "pygments_lexer": "ipython3",
      "version": "3.6.8"
    },
    "kernelspec": {
      "display_name": "Python 3",
      "language": "python",
      "name": "python3"
    }
  },
  "cells": [
    {
      "cell_type": "markdown",
      "metadata": {
        "id": "view-in-github",
        "colab_type": "text"
      },
      "source": [
        "<a href=\"https://colab.research.google.com/github/UoA-eResearch/deep-learning-tutorial-2019/blob/master/Exercise%202%20-%20multi-class%20iris.ipynb\" target=\"_parent\"><img src=\"https://colab.research.google.com/assets/colab-badge.svg\" alt=\"Open In Colab\"/></a>"
      ]
    },
    {
      "cell_type": "markdown",
      "metadata": {
        "id": "xPQTvjnTzTqM",
        "colab_type": "text"
      },
      "source": [
        "## Exercise 2: The Iris Dataset\n",
        "In this exercise we will create a neural network to classify 3 different types of Iris (Setosa, Versicolor and Virginica) based on their sepal length, sepal width, petal length and petal width.\n",
        "\n",
        "![Irises](http://dataaspirant.com/wp-content/uploads/2017/01/irises.png)\n",
        "\n",
        "This is a multi class classification problem. It is similar to the Pima Indian's binary classification exercise, but with three classes to predict instead of two."
      ]
    },
    {
      "cell_type": "markdown",
      "metadata": {
        "id": "-x9VrMNin1Yi",
        "colab_type": "text"
      },
      "source": [
        "### Q: How many steps are there in creating a neural network model? Please list those steps\n",
        "\n",
        "*answer...*"
      ]
    },
    {
      "cell_type": "markdown",
      "metadata": {
        "id": "l6B9pUqCzTqO",
        "colab_type": "text"
      },
      "source": [
        "### Import dependencies\n",
        "Start by importing the dependencies we will need for the project"
      ]
    },
    {
      "cell_type": "code",
      "metadata": {
        "id": "JB8CJHppzTqP",
        "colab_type": "code",
        "colab": {
          "base_uri": "https://localhost:8080/",
          "height": 34
        },
        "outputId": "c6afb6fb-1471-4aad-f839-dbfe93dae12d"
      },
      "source": [
        "from keras.models import Sequential\n",
        "from keras.layers import Dense\n",
        "import numpy as np\n",
        "from sklearn.model_selection import train_test_split\n",
        "from sklearn.preprocessing import LabelEncoder\n",
        "from keras.utils import np_utils\n",
        "import matplotlib.pyplot as plt\n",
        "from sklearn import metrics\n",
        "import seaborn as sns"
      ],
      "execution_count": 1,
      "outputs": [
        {
          "output_type": "stream",
          "text": [
            "Using TensorFlow backend.\n"
          ],
          "name": "stderr"
        }
      ]
    },
    {
      "cell_type": "markdown",
      "metadata": {
        "id": "OxNqXnJTzTqY",
        "colab_type": "text"
      },
      "source": [
        "### Import data\n",
        "The Iris dataset contains four features from 150 different Iris flowers. The features in the dataset are described below.\n",
        "\n",
        "* Sepal length (cm)\n",
        "* Sepal width (cm)\n",
        "* Petal length (cm)\n",
        "* Petal width (cm)\n",
        "* Class: Iris setosa, Iris versicolor or Iris virginica\n",
        "\n",
        "Sepals are the part of a flower that protect and support the petals. The petals surround the reproductive parts of the flower.\n",
        "\n",
        "![Iris labeled](http://terpconnect.umd.edu/~petersd/666/html/iris_with_labels.jpg)\n",
        "\n",
        "A snapshot of the dataset is illustrated below (not in order).\n",
        "\n",
        "|Sepal Length|Sepal Width|Petal Length|Petal Width|Class|\n",
        "|---|---|---|---|-----------|\n",
        "|5.1|3.5|1.4|0.2|Iris-setosa|\n",
        "|4.9|3.0|1.4|0.2|Iris-setosa|\n",
        "|7.0|3.2|4.7|1.4|Iris-versicolor|\n",
        "|6.4|3.2|4.5|1.5|Iris-versicolor|\n",
        "|6.3|3.3|6.0|2.5|Iris-virginica|\n",
        "|5.8|2.7|5.1|1.9|Iris-virginica|\n",
        "\n",
        "To load this data into memory, use the `np.loadtxt` function. The data type (`dtype`) is set to `str` because our input data is a mix of numbers and strings. This will be dealt with when we split the data."
      ]
    },
    {
      "cell_type": "code",
      "metadata": {
        "id": "-wYz6SEDzTqY",
        "colab_type": "code",
        "outputId": "239d03e2-bba5-455f-dcd3-de794f736744",
        "colab": {
          "base_uri": "https://localhost:8080/",
          "height": 119
        }
      },
      "source": [
        "data = np.loadtxt('https://raw.githubusercontent.com/UoA-eResearch/deep-learning-tutorial-2019/master/data/iris.csv', delimiter=\",\", dtype=str)\n",
        "print(data[:6]) #Show the first 6 rows"
      ],
      "execution_count": 2,
      "outputs": [
        {
          "output_type": "stream",
          "text": [
            "[['5.1' '3.5' '1.4' '0.2' 'Iris-setosa']\n",
            " ['4.9' '3.0' '1.4' '0.2' 'Iris-setosa']\n",
            " ['4.7' '3.2' '1.3' '0.2' 'Iris-setosa']\n",
            " ['4.6' '3.1' '1.5' '0.2' 'Iris-setosa']\n",
            " ['5.0' '3.6' '1.4' '0.2' 'Iris-setosa']\n",
            " ['5.4' '3.9' '1.7' '0.4' 'Iris-setosa']]\n"
          ],
          "name": "stdout"
        }
      ]
    },
    {
      "cell_type": "markdown",
      "metadata": {
        "id": "KGLO13AQzTqb",
        "colab_type": "text"
      },
      "source": [
        "Separate the data into input (X) and output (y) variables.\n",
        "\n",
        "Note that we convert the input data into floats."
      ]
    },
    {
      "cell_type": "code",
      "metadata": {
        "id": "y-EcR4awzTqb",
        "colab_type": "code",
        "colab": {}
      },
      "source": [
        "X = data[:, 0:4].astype(float)\n",
        "y = data[:, 4]"
      ],
      "execution_count": 0,
      "outputs": []
    },
    {
      "cell_type": "markdown",
      "metadata": {
        "id": "A2zYDMAbzTqd",
        "colab_type": "text"
      },
      "source": [
        "If you look carefully at the target values, you will notice that they are strings, i.e. 'Iris-setosa', 'Iris-versicolor' and 'Iris-virginica'.\n",
        "\n",
        "**Keras needs numbers or matrices to work with, so we will need to reformat the target values.**\n",
        "\n",
        "The problem with converting the class values to numbers (e.g. 'Iris-setosa' becomes 0, 'Iris-versicolor' 1 etc) is that it implies that the target values are ordinal. That is, 'Iris-setosa' is somehow less than 'Iris-versicolor', which is not the case for this dataset.\n",
        "\n",
        "A better way to represent classes in a multi-class classification problem, is to 'one hot encode' the target values. An example is shown below. A matrix of zeros is generated. Each row corresponds to a sample and each column corresponds to a particular class. A 1 is placed into the column to incidicate the class that it belongs too.\n",
        "\n",
        "|Iris-setosa|Iris-versicolor|Iris-virginica|\n",
        "|---|---|---|\n",
        "|1|0|0|\n",
        "|0|1|0|\n",
        "|0|0|1|\n",
        "\n",
        "One hot encoding is a two step process. First encode the target values (y) into an array of numbers using the `LabelEncoder` from scikit-learn and then one hot encode the numbers with the `np_utils.to_categorical` function."
      ]
    },
    {
      "cell_type": "code",
      "metadata": {
        "id": "QmReXRywzTqe",
        "colab_type": "code",
        "outputId": "1668fd63-13d0-4394-e49a-9f4de179db9f",
        "colab": {
          "base_uri": "https://localhost:8080/",
          "height": 34
        }
      },
      "source": [
        "y_encoded = LabelEncoder().fit(y).transform(y) # Convert the classes into numbers\n",
        "y_encoded[45:55]"
      ],
      "execution_count": 4,
      "outputs": [
        {
          "output_type": "execute_result",
          "data": {
            "text/plain": [
              "array([0, 0, 0, 0, 0, 1, 1, 1, 1, 1])"
            ]
          },
          "metadata": {
            "tags": []
          },
          "execution_count": 4
        }
      ]
    },
    {
      "cell_type": "code",
      "metadata": {
        "id": "jQgfvZcfzTqi",
        "colab_type": "code",
        "outputId": "f2969c75-8f30-4673-eaa8-ad2762b6e084",
        "colab": {
          "base_uri": "https://localhost:8080/",
          "height": 187
        }
      },
      "source": [
        "y_one_hot_encoded = np_utils.to_categorical(y_encoded) # One hot encode the numbers\n",
        "y_one_hot_encoded[45:55]"
      ],
      "execution_count": 5,
      "outputs": [
        {
          "output_type": "execute_result",
          "data": {
            "text/plain": [
              "array([[1., 0., 0.],\n",
              "       [1., 0., 0.],\n",
              "       [1., 0., 0.],\n",
              "       [1., 0., 0.],\n",
              "       [1., 0., 0.],\n",
              "       [0., 1., 0.],\n",
              "       [0., 1., 0.],\n",
              "       [0., 1., 0.],\n",
              "       [0., 1., 0.],\n",
              "       [0., 1., 0.]], dtype=float32)"
            ]
          },
          "metadata": {
            "tags": []
          },
          "execution_count": 5
        }
      ]
    },
    {
      "cell_type": "markdown",
      "metadata": {
        "id": "CMbd6-LV9Rm_",
        "colab_type": "text"
      },
      "source": [
        "### Set seed\n",
        "Set a seed value so that when we repeatedly run our code we will get the same result. Using the same seed is important when you want to compare algorithms."
      ]
    },
    {
      "cell_type": "code",
      "metadata": {
        "id": "FvjmpbYM9UN7",
        "colab_type": "code",
        "colab": {}
      },
      "source": [
        "seed = 7\n",
        "np.random.seed(seed)"
      ],
      "execution_count": 0,
      "outputs": []
    },
    {
      "cell_type": "markdown",
      "metadata": {
        "id": "O9s47Jx9zTqk",
        "colab_type": "text"
      },
      "source": [
        "Like the previous exercise, use the `train_test_split` function from scikit-learn to split the input and target data into training, validation and test datasets."
      ]
    },
    {
      "cell_type": "code",
      "metadata": {
        "id": "8qdeRm6LzTql",
        "colab_type": "code",
        "colab": {}
      },
      "source": [
        "X_train, X_test, y_train, y_test = train_test_split(X, y_one_hot_encoded, test_size=0.2, random_state=seed)\n",
        "\n",
        "X_train, X_val, y_train, y_val = train_test_split(X_train, y_train, test_size=0.2, random_state=seed)"
      ],
      "execution_count": 0,
      "outputs": []
    },
    {
      "cell_type": "markdown",
      "metadata": {
        "id": "9Gp1FcnQzTqn",
        "colab_type": "text"
      },
      "source": [
        "### Create the model\n",
        "The code snippet below creates a very basic neural network model, with three layers: an input layer, a hidden layer and an output layer.\n",
        "\n",
        "The first layer is a fully connected `Dense` layer. We use four neurons in the hidden layer and have 4 input neurons for the 4 features.\n",
        "\n",
        "The last layer has 3 neurons, one for each class."
      ]
    },
    {
      "cell_type": "code",
      "metadata": {
        "id": "hG9oXx6dzTqn",
        "colab_type": "code",
        "colab": {
          "base_uri": "https://localhost:8080/",
          "height": 156
        },
        "outputId": "0dafcafa-25fa-437d-b23c-049eaf264a52"
      },
      "source": [
        "model = Sequential()\n",
        "model.add(Dense(4, input_dim=4, activation='relu', kernel_initializer='normal'))\n",
        "model.add(Dense(3, activation='sigmoid', kernel_initializer='normal'))"
      ],
      "execution_count": 8,
      "outputs": [
        {
          "output_type": "stream",
          "text": [
            "WARNING: Logging before flag parsing goes to stderr.\n",
            "W0710 05:27:37.021554 139944564778880 deprecation_wrapper.py:119] From /usr/local/lib/python3.6/dist-packages/keras/backend/tensorflow_backend.py:74: The name tf.get_default_graph is deprecated. Please use tf.compat.v1.get_default_graph instead.\n",
            "\n",
            "W0710 05:27:37.074593 139944564778880 deprecation_wrapper.py:119] From /usr/local/lib/python3.6/dist-packages/keras/backend/tensorflow_backend.py:517: The name tf.placeholder is deprecated. Please use tf.compat.v1.placeholder instead.\n",
            "\n",
            "W0710 05:27:37.082700 139944564778880 deprecation_wrapper.py:119] From /usr/local/lib/python3.6/dist-packages/keras/backend/tensorflow_backend.py:4115: The name tf.random_normal is deprecated. Please use tf.random.normal instead.\n",
            "\n"
          ],
          "name": "stderr"
        }
      ]
    },
    {
      "cell_type": "markdown",
      "metadata": {
        "id": "McwgpeyfzTqp",
        "colab_type": "text"
      },
      "source": [
        "### Compile the model\n",
        "We then compile the model. The loss function is set to `categorical_crossentropy` (different from the loss function used in the binary classification exercise) because we are performing multi-class classification."
      ]
    },
    {
      "cell_type": "code",
      "metadata": {
        "id": "F86R20yJzTqp",
        "colab_type": "code",
        "colab": {
          "base_uri": "https://localhost:8080/",
          "height": 85
        },
        "outputId": "ea26ac91-0d0b-4951-c7cf-0216aac5a33d"
      },
      "source": [
        "model.compile(loss='categorical_crossentropy', optimizer='adam', metrics=['accuracy'])"
      ],
      "execution_count": 9,
      "outputs": [
        {
          "output_type": "stream",
          "text": [
            "W0710 05:27:37.139530 139944564778880 deprecation_wrapper.py:119] From /usr/local/lib/python3.6/dist-packages/keras/optimizers.py:790: The name tf.train.Optimizer is deprecated. Please use tf.compat.v1.train.Optimizer instead.\n",
            "\n",
            "W0710 05:27:37.176618 139944564778880 deprecation_wrapper.py:119] From /usr/local/lib/python3.6/dist-packages/keras/backend/tensorflow_backend.py:3295: The name tf.log is deprecated. Please use tf.math.log instead.\n",
            "\n"
          ],
          "name": "stderr"
        }
      ]
    },
    {
      "cell_type": "markdown",
      "metadata": {
        "id": "Hr-3q6CEzTqs",
        "colab_type": "text"
      },
      "source": [
        "### Fit the model\n",
        "Now that we have compiled the model, we can train it with the data we prepared earlier. We are using more epochs but a smaller batch size than the previous exercise.\n",
        "\n",
        "To see the model training history in text, just don't include `verbose=0`"
      ]
    },
    {
      "cell_type": "code",
      "metadata": {
        "id": "t0ohIS-DzTqs",
        "colab_type": "code",
        "outputId": "771eed57-0aeb-4cd3-f910-4b218e26e66e",
        "colab": {
          "base_uri": "https://localhost:8080/",
          "height": 1000
        }
      },
      "source": [
        "history = model.fit(X_train, y_train, validation_data=(X_val, y_val), epochs=200, batch_size=5)"
      ],
      "execution_count": 10,
      "outputs": [
        {
          "output_type": "stream",
          "text": [
            "W0710 05:27:37.340507 139944564778880 deprecation.py:323] From /usr/local/lib/python3.6/dist-packages/tensorflow/python/ops/math_grad.py:1250: add_dispatch_support.<locals>.wrapper (from tensorflow.python.ops.array_ops) is deprecated and will be removed in a future version.\n",
            "Instructions for updating:\n",
            "Use tf.where in 2.0, which has the same broadcast rule as np.where\n",
            "W0710 05:27:37.393544 139944564778880 deprecation_wrapper.py:119] From /usr/local/lib/python3.6/dist-packages/keras/backend/tensorflow_backend.py:986: The name tf.assign_add is deprecated. Please use tf.compat.v1.assign_add instead.\n",
            "\n"
          ],
          "name": "stderr"
        },
        {
          "output_type": "stream",
          "text": [
            "Train on 96 samples, validate on 24 samples\n",
            "Epoch 1/200\n",
            "96/96 [==============================] - 1s 8ms/step - loss: 1.0998 - acc: 0.3438 - val_loss: 1.0979 - val_acc: 0.4167\n",
            "Epoch 2/200\n",
            "96/96 [==============================] - 0s 293us/step - loss: 1.0972 - acc: 0.5833 - val_loss: 1.0968 - val_acc: 0.6667\n",
            "Epoch 3/200\n",
            "96/96 [==============================] - 0s 312us/step - loss: 1.0953 - acc: 0.6458 - val_loss: 1.0951 - val_acc: 0.6250\n",
            "Epoch 4/200\n",
            "96/96 [==============================] - 0s 277us/step - loss: 1.0926 - acc: 0.3854 - val_loss: 1.0932 - val_acc: 0.2500\n",
            "Epoch 5/200\n",
            "96/96 [==============================] - 0s 274us/step - loss: 1.0887 - acc: 0.3542 - val_loss: 1.0899 - val_acc: 0.2500\n",
            "Epoch 6/200\n",
            "96/96 [==============================] - 0s 279us/step - loss: 1.0836 - acc: 0.3438 - val_loss: 1.0855 - val_acc: 0.2500\n",
            "Epoch 7/200\n",
            "96/96 [==============================] - 0s 294us/step - loss: 1.0770 - acc: 0.3854 - val_loss: 1.0792 - val_acc: 0.4167\n",
            "Epoch 8/200\n",
            "96/96 [==============================] - 0s 305us/step - loss: 1.0689 - acc: 0.5625 - val_loss: 1.0707 - val_acc: 0.6250\n",
            "Epoch 9/200\n",
            "96/96 [==============================] - 0s 277us/step - loss: 1.0586 - acc: 0.6458 - val_loss: 1.0612 - val_acc: 0.6667\n",
            "Epoch 10/200\n",
            "96/96 [==============================] - 0s 277us/step - loss: 1.0470 - acc: 0.6563 - val_loss: 1.0499 - val_acc: 0.6667\n",
            "Epoch 11/200\n",
            "96/96 [==============================] - 0s 319us/step - loss: 1.0336 - acc: 0.6875 - val_loss: 1.0356 - val_acc: 0.6667\n",
            "Epoch 12/200\n",
            "96/96 [==============================] - 0s 314us/step - loss: 1.0180 - acc: 0.6875 - val_loss: 1.0202 - val_acc: 0.6667\n",
            "Epoch 13/200\n",
            "96/96 [==============================] - 0s 290us/step - loss: 1.0001 - acc: 0.6875 - val_loss: 1.0003 - val_acc: 0.6667\n",
            "Epoch 14/200\n",
            "96/96 [==============================] - 0s 323us/step - loss: 0.9805 - acc: 0.6875 - val_loss: 0.9814 - val_acc: 0.6667\n",
            "Epoch 15/200\n",
            "96/96 [==============================] - 0s 304us/step - loss: 0.9589 - acc: 0.6875 - val_loss: 0.9599 - val_acc: 0.6667\n",
            "Epoch 16/200\n",
            "96/96 [==============================] - 0s 267us/step - loss: 0.9378 - acc: 0.6875 - val_loss: 0.9368 - val_acc: 0.6667\n",
            "Epoch 17/200\n",
            "96/96 [==============================] - 0s 300us/step - loss: 0.9171 - acc: 0.6875 - val_loss: 0.9171 - val_acc: 0.6667\n",
            "Epoch 18/200\n",
            "96/96 [==============================] - 0s 274us/step - loss: 0.8927 - acc: 0.6875 - val_loss: 0.8919 - val_acc: 0.6667\n",
            "Epoch 19/200\n",
            "96/96 [==============================] - 0s 289us/step - loss: 0.8703 - acc: 0.6875 - val_loss: 0.8680 - val_acc: 0.6667\n",
            "Epoch 20/200\n",
            "96/96 [==============================] - 0s 289us/step - loss: 0.8475 - acc: 0.6875 - val_loss: 0.8431 - val_acc: 0.6667\n",
            "Epoch 21/200\n",
            "96/96 [==============================] - 0s 288us/step - loss: 0.8253 - acc: 0.6875 - val_loss: 0.8195 - val_acc: 0.6667\n",
            "Epoch 22/200\n",
            "96/96 [==============================] - 0s 285us/step - loss: 0.8028 - acc: 0.6875 - val_loss: 0.7985 - val_acc: 0.6667\n",
            "Epoch 23/200\n",
            "96/96 [==============================] - 0s 282us/step - loss: 0.7816 - acc: 0.6875 - val_loss: 0.7745 - val_acc: 0.6667\n",
            "Epoch 24/200\n",
            "96/96 [==============================] - 0s 280us/step - loss: 0.7593 - acc: 0.6875 - val_loss: 0.7508 - val_acc: 0.6667\n",
            "Epoch 25/200\n",
            "96/96 [==============================] - 0s 307us/step - loss: 0.7383 - acc: 0.6875 - val_loss: 0.7298 - val_acc: 0.6667\n",
            "Epoch 26/200\n",
            "96/96 [==============================] - 0s 294us/step - loss: 0.7186 - acc: 0.6875 - val_loss: 0.7066 - val_acc: 0.6667\n",
            "Epoch 27/200\n",
            "96/96 [==============================] - 0s 295us/step - loss: 0.6994 - acc: 0.6875 - val_loss: 0.6899 - val_acc: 0.6667\n",
            "Epoch 28/200\n",
            "96/96 [==============================] - 0s 285us/step - loss: 0.6798 - acc: 0.6875 - val_loss: 0.6670 - val_acc: 0.6667\n",
            "Epoch 29/200\n",
            "96/96 [==============================] - 0s 281us/step - loss: 0.6623 - acc: 0.6875 - val_loss: 0.6502 - val_acc: 0.6667\n",
            "Epoch 30/200\n",
            "96/96 [==============================] - 0s 272us/step - loss: 0.6441 - acc: 0.6875 - val_loss: 0.6307 - val_acc: 0.6667\n",
            "Epoch 31/200\n",
            "96/96 [==============================] - 0s 285us/step - loss: 0.6287 - acc: 0.6875 - val_loss: 0.6149 - val_acc: 0.7083\n",
            "Epoch 32/200\n",
            "96/96 [==============================] - 0s 278us/step - loss: 0.6133 - acc: 0.6875 - val_loss: 0.5960 - val_acc: 0.7083\n",
            "Epoch 33/200\n",
            "96/96 [==============================] - 0s 276us/step - loss: 0.5978 - acc: 0.7083 - val_loss: 0.5808 - val_acc: 0.7083\n",
            "Epoch 34/200\n",
            "96/96 [==============================] - 0s 308us/step - loss: 0.5833 - acc: 0.7083 - val_loss: 0.5660 - val_acc: 0.7083\n",
            "Epoch 35/200\n",
            "96/96 [==============================] - 0s 301us/step - loss: 0.5692 - acc: 0.7292 - val_loss: 0.5492 - val_acc: 0.7083\n",
            "Epoch 36/200\n",
            "96/96 [==============================] - 0s 294us/step - loss: 0.5558 - acc: 0.8125 - val_loss: 0.5340 - val_acc: 0.7917\n",
            "Epoch 37/200\n",
            "96/96 [==============================] - 0s 283us/step - loss: 0.5433 - acc: 0.7708 - val_loss: 0.5245 - val_acc: 0.7083\n",
            "Epoch 38/200\n",
            "96/96 [==============================] - 0s 263us/step - loss: 0.5312 - acc: 0.8333 - val_loss: 0.5095 - val_acc: 0.8333\n",
            "Epoch 39/200\n",
            "96/96 [==============================] - 0s 280us/step - loss: 0.5195 - acc: 0.8542 - val_loss: 0.4988 - val_acc: 0.8333\n",
            "Epoch 40/200\n",
            "96/96 [==============================] - 0s 277us/step - loss: 0.5084 - acc: 0.8854 - val_loss: 0.4848 - val_acc: 0.9167\n",
            "Epoch 41/200\n",
            "96/96 [==============================] - 0s 298us/step - loss: 0.4972 - acc: 0.9167 - val_loss: 0.4750 - val_acc: 0.9167\n",
            "Epoch 42/200\n",
            "96/96 [==============================] - 0s 269us/step - loss: 0.4890 - acc: 0.8750 - val_loss: 0.4669 - val_acc: 0.8333\n",
            "Epoch 43/200\n",
            "96/96 [==============================] - 0s 319us/step - loss: 0.4780 - acc: 0.8750 - val_loss: 0.4578 - val_acc: 0.8333\n",
            "Epoch 44/200\n",
            "96/96 [==============================] - 0s 297us/step - loss: 0.4678 - acc: 0.8958 - val_loss: 0.4467 - val_acc: 0.9167\n",
            "Epoch 45/200\n",
            "96/96 [==============================] - 0s 281us/step - loss: 0.4588 - acc: 0.9271 - val_loss: 0.4373 - val_acc: 0.9167\n",
            "Epoch 46/200\n",
            "96/96 [==============================] - 0s 279us/step - loss: 0.4500 - acc: 0.9688 - val_loss: 0.4286 - val_acc: 0.9167\n",
            "Epoch 47/200\n",
            "96/96 [==============================] - 0s 493us/step - loss: 0.4415 - acc: 0.9375 - val_loss: 0.4215 - val_acc: 0.9167\n",
            "Epoch 48/200\n",
            "96/96 [==============================] - 0s 347us/step - loss: 0.4338 - acc: 0.9167 - val_loss: 0.4137 - val_acc: 0.9167\n",
            "Epoch 49/200\n",
            "96/96 [==============================] - 0s 317us/step - loss: 0.4269 - acc: 0.8958 - val_loss: 0.4086 - val_acc: 0.9167\n",
            "Epoch 50/200\n",
            "96/96 [==============================] - 0s 312us/step - loss: 0.4175 - acc: 0.9271 - val_loss: 0.3980 - val_acc: 0.9583\n",
            "Epoch 51/200\n",
            "96/96 [==============================] - 0s 298us/step - loss: 0.4102 - acc: 0.9792 - val_loss: 0.3902 - val_acc: 0.9583\n",
            "Epoch 52/200\n",
            "96/96 [==============================] - 0s 281us/step - loss: 0.4036 - acc: 0.9792 - val_loss: 0.3846 - val_acc: 0.9583\n",
            "Epoch 53/200\n",
            "96/96 [==============================] - 0s 278us/step - loss: 0.3991 - acc: 0.9792 - val_loss: 0.3753 - val_acc: 0.9583\n",
            "Epoch 54/200\n",
            "96/96 [==============================] - 0s 267us/step - loss: 0.3895 - acc: 0.9792 - val_loss: 0.3736 - val_acc: 0.9583\n",
            "Epoch 55/200\n",
            "96/96 [==============================] - 0s 266us/step - loss: 0.3842 - acc: 0.9583 - val_loss: 0.3690 - val_acc: 0.9583\n",
            "Epoch 56/200\n",
            "96/96 [==============================] - 0s 279us/step - loss: 0.3796 - acc: 0.9792 - val_loss: 0.3585 - val_acc: 0.9583\n",
            "Epoch 57/200\n",
            "96/96 [==============================] - 0s 308us/step - loss: 0.3716 - acc: 0.9792 - val_loss: 0.3578 - val_acc: 0.9583\n",
            "Epoch 58/200\n",
            "96/96 [==============================] - 0s 300us/step - loss: 0.3662 - acc: 0.9792 - val_loss: 0.3508 - val_acc: 0.9583\n",
            "Epoch 59/200\n",
            "96/96 [==============================] - 0s 305us/step - loss: 0.3610 - acc: 0.9792 - val_loss: 0.3443 - val_acc: 0.9583\n",
            "Epoch 60/200\n",
            "96/96 [==============================] - 0s 304us/step - loss: 0.3559 - acc: 0.9792 - val_loss: 0.3437 - val_acc: 0.9583\n",
            "Epoch 61/200\n",
            "96/96 [==============================] - 0s 427us/step - loss: 0.3517 - acc: 0.9792 - val_loss: 0.3347 - val_acc: 0.9583\n",
            "Epoch 62/200\n",
            "96/96 [==============================] - 0s 334us/step - loss: 0.3474 - acc: 0.9792 - val_loss: 0.3308 - val_acc: 0.9583\n",
            "Epoch 63/200\n",
            "96/96 [==============================] - 0s 295us/step - loss: 0.3414 - acc: 0.9792 - val_loss: 0.3263 - val_acc: 0.9583\n",
            "Epoch 64/200\n",
            "96/96 [==============================] - 0s 297us/step - loss: 0.3387 - acc: 0.9792 - val_loss: 0.3222 - val_acc: 0.9583\n",
            "Epoch 65/200\n",
            "96/96 [==============================] - 0s 301us/step - loss: 0.3323 - acc: 0.9792 - val_loss: 0.3198 - val_acc: 0.9583\n",
            "Epoch 66/200\n",
            "96/96 [==============================] - 0s 323us/step - loss: 0.3287 - acc: 0.9792 - val_loss: 0.3189 - val_acc: 0.9583\n",
            "Epoch 67/200\n",
            "96/96 [==============================] - 0s 287us/step - loss: 0.3238 - acc: 0.9792 - val_loss: 0.3098 - val_acc: 0.9583\n",
            "Epoch 68/200\n",
            "96/96 [==============================] - 0s 295us/step - loss: 0.3221 - acc: 0.9792 - val_loss: 0.3092 - val_acc: 0.9583\n",
            "Epoch 69/200\n",
            "96/96 [==============================] - 0s 288us/step - loss: 0.3164 - acc: 0.9792 - val_loss: 0.3047 - val_acc: 0.9583\n",
            "Epoch 70/200\n",
            "96/96 [==============================] - 0s 281us/step - loss: 0.3151 - acc: 0.9792 - val_loss: 0.3040 - val_acc: 0.9583\n",
            "Epoch 71/200\n",
            "96/96 [==============================] - 0s 288us/step - loss: 0.3087 - acc: 0.9792 - val_loss: 0.2960 - val_acc: 0.9583\n",
            "Epoch 72/200\n",
            "96/96 [==============================] - 0s 278us/step - loss: 0.3068 - acc: 0.9792 - val_loss: 0.2922 - val_acc: 0.9583\n",
            "Epoch 73/200\n",
            "96/96 [==============================] - 0s 282us/step - loss: 0.3027 - acc: 0.9792 - val_loss: 0.2911 - val_acc: 0.9583\n",
            "Epoch 74/200\n",
            "96/96 [==============================] - 0s 294us/step - loss: 0.3036 - acc: 0.9792 - val_loss: 0.2945 - val_acc: 0.9583\n",
            "Epoch 75/200\n",
            "96/96 [==============================] - 0s 293us/step - loss: 0.2963 - acc: 0.9792 - val_loss: 0.2861 - val_acc: 0.9583\n",
            "Epoch 76/200\n",
            "96/96 [==============================] - 0s 301us/step - loss: 0.2922 - acc: 0.9792 - val_loss: 0.2856 - val_acc: 0.9583\n",
            "Epoch 77/200\n",
            "96/96 [==============================] - 0s 274us/step - loss: 0.2896 - acc: 0.9792 - val_loss: 0.2844 - val_acc: 0.9583\n",
            "Epoch 78/200\n",
            "96/96 [==============================] - 0s 305us/step - loss: 0.2879 - acc: 0.9792 - val_loss: 0.2818 - val_acc: 0.9583\n",
            "Epoch 79/200\n",
            "96/96 [==============================] - 0s 286us/step - loss: 0.2834 - acc: 0.9792 - val_loss: 0.2745 - val_acc: 0.9583\n",
            "Epoch 80/200\n",
            "96/96 [==============================] - 0s 296us/step - loss: 0.2814 - acc: 0.9792 - val_loss: 0.2717 - val_acc: 0.9583\n",
            "Epoch 81/200\n",
            "96/96 [==============================] - 0s 292us/step - loss: 0.2781 - acc: 0.9792 - val_loss: 0.2699 - val_acc: 0.9583\n",
            "Epoch 82/200\n",
            "96/96 [==============================] - 0s 307us/step - loss: 0.2767 - acc: 0.9792 - val_loss: 0.2711 - val_acc: 0.9583\n",
            "Epoch 83/200\n",
            "96/96 [==============================] - 0s 304us/step - loss: 0.2733 - acc: 0.9792 - val_loss: 0.2669 - val_acc: 0.9583\n",
            "Epoch 84/200\n",
            "96/96 [==============================] - 0s 286us/step - loss: 0.2719 - acc: 0.9792 - val_loss: 0.2668 - val_acc: 0.9583\n",
            "Epoch 85/200\n",
            "96/96 [==============================] - 0s 297us/step - loss: 0.2678 - acc: 0.9792 - val_loss: 0.2593 - val_acc: 0.9583\n",
            "Epoch 86/200\n",
            "96/96 [==============================] - 0s 310us/step - loss: 0.2659 - acc: 0.9792 - val_loss: 0.2546 - val_acc: 0.9583\n",
            "Epoch 87/200\n",
            "96/96 [==============================] - 0s 304us/step - loss: 0.2657 - acc: 0.9792 - val_loss: 0.2562 - val_acc: 0.9583\n",
            "Epoch 88/200\n",
            "96/96 [==============================] - 0s 298us/step - loss: 0.2638 - acc: 0.9792 - val_loss: 0.2509 - val_acc: 0.9583\n",
            "Epoch 89/200\n",
            "96/96 [==============================] - 0s 289us/step - loss: 0.2588 - acc: 0.9792 - val_loss: 0.2530 - val_acc: 0.9583\n",
            "Epoch 90/200\n",
            "96/96 [==============================] - 0s 308us/step - loss: 0.2559 - acc: 0.9792 - val_loss: 0.2479 - val_acc: 0.9583\n",
            "Epoch 91/200\n",
            "96/96 [==============================] - 0s 294us/step - loss: 0.2537 - acc: 0.9792 - val_loss: 0.2496 - val_acc: 0.9583\n",
            "Epoch 92/200\n",
            "96/96 [==============================] - 0s 297us/step - loss: 0.2515 - acc: 0.9792 - val_loss: 0.2487 - val_acc: 0.9583\n",
            "Epoch 93/200\n",
            "96/96 [==============================] - 0s 299us/step - loss: 0.2510 - acc: 0.9792 - val_loss: 0.2479 - val_acc: 0.9583\n",
            "Epoch 94/200\n",
            "96/96 [==============================] - 0s 305us/step - loss: 0.2470 - acc: 0.9792 - val_loss: 0.2397 - val_acc: 0.9583\n",
            "Epoch 95/200\n",
            "96/96 [==============================] - 0s 295us/step - loss: 0.2443 - acc: 0.9792 - val_loss: 0.2383 - val_acc: 0.9583\n",
            "Epoch 96/200\n",
            "96/96 [==============================] - 0s 341us/step - loss: 0.2444 - acc: 0.9792 - val_loss: 0.2394 - val_acc: 0.9583\n",
            "Epoch 97/200\n",
            "96/96 [==============================] - 0s 293us/step - loss: 0.2408 - acc: 0.9792 - val_loss: 0.2354 - val_acc: 0.9583\n",
            "Epoch 98/200\n",
            "96/96 [==============================] - 0s 282us/step - loss: 0.2387 - acc: 0.9792 - val_loss: 0.2307 - val_acc: 0.9583\n",
            "Epoch 99/200\n",
            "96/96 [==============================] - 0s 319us/step - loss: 0.2361 - acc: 0.9792 - val_loss: 0.2306 - val_acc: 0.9583\n",
            "Epoch 100/200\n",
            "96/96 [==============================] - 0s 290us/step - loss: 0.2357 - acc: 0.9792 - val_loss: 0.2323 - val_acc: 0.9583\n",
            "Epoch 101/200\n",
            "96/96 [==============================] - 0s 300us/step - loss: 0.2333 - acc: 0.9792 - val_loss: 0.2283 - val_acc: 0.9583\n",
            "Epoch 102/200\n",
            "96/96 [==============================] - 0s 304us/step - loss: 0.2302 - acc: 0.9792 - val_loss: 0.2258 - val_acc: 0.9583\n",
            "Epoch 103/200\n",
            "96/96 [==============================] - 0s 287us/step - loss: 0.2330 - acc: 0.9688 - val_loss: 0.2200 - val_acc: 0.9583\n",
            "Epoch 104/200\n",
            "96/96 [==============================] - 0s 325us/step - loss: 0.2280 - acc: 0.9792 - val_loss: 0.2236 - val_acc: 0.9583\n",
            "Epoch 105/200\n",
            "96/96 [==============================] - 0s 277us/step - loss: 0.2254 - acc: 0.9792 - val_loss: 0.2197 - val_acc: 0.9583\n",
            "Epoch 106/200\n",
            "96/96 [==============================] - 0s 272us/step - loss: 0.2228 - acc: 0.9792 - val_loss: 0.2192 - val_acc: 0.9583\n",
            "Epoch 107/200\n",
            "96/96 [==============================] - 0s 288us/step - loss: 0.2230 - acc: 0.9792 - val_loss: 0.2207 - val_acc: 0.9583\n",
            "Epoch 108/200\n",
            "96/96 [==============================] - 0s 277us/step - loss: 0.2212 - acc: 0.9792 - val_loss: 0.2180 - val_acc: 0.9583\n",
            "Epoch 109/200\n",
            "96/96 [==============================] - 0s 291us/step - loss: 0.2192 - acc: 0.9792 - val_loss: 0.2144 - val_acc: 0.9583\n",
            "Epoch 110/200\n",
            "96/96 [==============================] - 0s 287us/step - loss: 0.2167 - acc: 0.9792 - val_loss: 0.2124 - val_acc: 0.9583\n",
            "Epoch 111/200\n",
            "96/96 [==============================] - 0s 286us/step - loss: 0.2150 - acc: 0.9792 - val_loss: 0.2089 - val_acc: 0.9583\n",
            "Epoch 112/200\n",
            "96/96 [==============================] - 0s 303us/step - loss: 0.2151 - acc: 0.9792 - val_loss: 0.2106 - val_acc: 0.9583\n",
            "Epoch 113/200\n",
            "96/96 [==============================] - 0s 305us/step - loss: 0.2124 - acc: 0.9792 - val_loss: 0.2077 - val_acc: 0.9583\n",
            "Epoch 114/200\n",
            "96/96 [==============================] - 0s 296us/step - loss: 0.2102 - acc: 0.9792 - val_loss: 0.2063 - val_acc: 0.9583\n",
            "Epoch 115/200\n",
            "96/96 [==============================] - 0s 280us/step - loss: 0.2095 - acc: 0.9792 - val_loss: 0.2071 - val_acc: 0.9583\n",
            "Epoch 116/200\n",
            "96/96 [==============================] - 0s 289us/step - loss: 0.2058 - acc: 0.9792 - val_loss: 0.1996 - val_acc: 0.9583\n",
            "Epoch 117/200\n",
            "96/96 [==============================] - 0s 287us/step - loss: 0.2057 - acc: 0.9792 - val_loss: 0.2000 - val_acc: 0.9583\n",
            "Epoch 118/200\n",
            "96/96 [==============================] - 0s 252us/step - loss: 0.2038 - acc: 0.9792 - val_loss: 0.1982 - val_acc: 0.9583\n",
            "Epoch 119/200\n",
            "96/96 [==============================] - 0s 302us/step - loss: 0.2024 - acc: 0.9792 - val_loss: 0.2017 - val_acc: 0.9583\n",
            "Epoch 120/200\n",
            "96/96 [==============================] - 0s 302us/step - loss: 0.2019 - acc: 0.9792 - val_loss: 0.1976 - val_acc: 0.9583\n",
            "Epoch 121/200\n",
            "96/96 [==============================] - 0s 275us/step - loss: 0.1991 - acc: 0.9792 - val_loss: 0.1995 - val_acc: 0.9583\n",
            "Epoch 122/200\n",
            "96/96 [==============================] - 0s 281us/step - loss: 0.1987 - acc: 0.9792 - val_loss: 0.1963 - val_acc: 0.9583\n",
            "Epoch 123/200\n",
            "96/96 [==============================] - 0s 282us/step - loss: 0.1967 - acc: 0.9792 - val_loss: 0.1949 - val_acc: 0.9583\n",
            "Epoch 124/200\n",
            "96/96 [==============================] - 0s 305us/step - loss: 0.1972 - acc: 0.9792 - val_loss: 0.1999 - val_acc: 0.9583\n",
            "Epoch 125/200\n",
            "96/96 [==============================] - 0s 291us/step - loss: 0.1951 - acc: 0.9792 - val_loss: 0.1946 - val_acc: 0.9583\n",
            "Epoch 126/200\n",
            "96/96 [==============================] - 0s 305us/step - loss: 0.1953 - acc: 0.9792 - val_loss: 0.1844 - val_acc: 0.9583\n",
            "Epoch 127/200\n",
            "96/96 [==============================] - 0s 376us/step - loss: 0.1940 - acc: 0.9688 - val_loss: 0.1897 - val_acc: 0.9583\n",
            "Epoch 128/200\n",
            "96/96 [==============================] - 0s 284us/step - loss: 0.1904 - acc: 0.9792 - val_loss: 0.1834 - val_acc: 0.9583\n",
            "Epoch 129/200\n",
            "96/96 [==============================] - 0s 320us/step - loss: 0.1894 - acc: 0.9688 - val_loss: 0.1843 - val_acc: 0.9583\n",
            "Epoch 130/200\n",
            "96/96 [==============================] - 0s 292us/step - loss: 0.1888 - acc: 0.9792 - val_loss: 0.1834 - val_acc: 0.9583\n",
            "Epoch 131/200\n",
            "96/96 [==============================] - 0s 327us/step - loss: 0.1866 - acc: 0.9792 - val_loss: 0.1845 - val_acc: 0.9583\n",
            "Epoch 132/200\n",
            "96/96 [==============================] - 0s 285us/step - loss: 0.1872 - acc: 0.9792 - val_loss: 0.1835 - val_acc: 0.9583\n",
            "Epoch 133/200\n",
            "96/96 [==============================] - 0s 309us/step - loss: 0.1837 - acc: 0.9792 - val_loss: 0.1780 - val_acc: 0.9583\n",
            "Epoch 134/200\n",
            "96/96 [==============================] - 0s 288us/step - loss: 0.1853 - acc: 0.9688 - val_loss: 0.1747 - val_acc: 0.9583\n",
            "Epoch 135/200\n",
            "96/96 [==============================] - 0s 302us/step - loss: 0.1834 - acc: 0.9792 - val_loss: 0.1833 - val_acc: 0.9583\n",
            "Epoch 136/200\n",
            "96/96 [==============================] - 0s 269us/step - loss: 0.1808 - acc: 0.9792 - val_loss: 0.1793 - val_acc: 0.9583\n",
            "Epoch 137/200\n",
            "96/96 [==============================] - 0s 279us/step - loss: 0.1795 - acc: 0.9792 - val_loss: 0.1786 - val_acc: 0.9583\n",
            "Epoch 138/200\n",
            "96/96 [==============================] - 0s 276us/step - loss: 0.1782 - acc: 0.9792 - val_loss: 0.1770 - val_acc: 0.9583\n",
            "Epoch 139/200\n",
            "96/96 [==============================] - 0s 286us/step - loss: 0.1770 - acc: 0.9792 - val_loss: 0.1756 - val_acc: 0.9583\n",
            "Epoch 140/200\n",
            "96/96 [==============================] - 0s 288us/step - loss: 0.1767 - acc: 0.9792 - val_loss: 0.1724 - val_acc: 0.9583\n",
            "Epoch 141/200\n",
            "96/96 [==============================] - 0s 339us/step - loss: 0.1766 - acc: 0.9792 - val_loss: 0.1721 - val_acc: 0.9583\n",
            "Epoch 142/200\n",
            "96/96 [==============================] - 0s 291us/step - loss: 0.1743 - acc: 0.9688 - val_loss: 0.1679 - val_acc: 0.9583\n",
            "Epoch 143/200\n",
            "96/96 [==============================] - 0s 290us/step - loss: 0.1755 - acc: 0.9792 - val_loss: 0.1721 - val_acc: 0.9583\n",
            "Epoch 144/200\n",
            "96/96 [==============================] - 0s 304us/step - loss: 0.1714 - acc: 0.9792 - val_loss: 0.1694 - val_acc: 0.9583\n",
            "Epoch 145/200\n",
            "96/96 [==============================] - 0s 276us/step - loss: 0.1713 - acc: 0.9792 - val_loss: 0.1661 - val_acc: 0.9583\n",
            "Epoch 146/200\n",
            "96/96 [==============================] - 0s 276us/step - loss: 0.1708 - acc: 0.9792 - val_loss: 0.1684 - val_acc: 0.9583\n",
            "Epoch 147/200\n",
            "96/96 [==============================] - 0s 286us/step - loss: 0.1691 - acc: 0.9792 - val_loss: 0.1639 - val_acc: 0.9583\n",
            "Epoch 148/200\n",
            "96/96 [==============================] - 0s 285us/step - loss: 0.1682 - acc: 0.9792 - val_loss: 0.1644 - val_acc: 0.9583\n",
            "Epoch 149/200\n",
            "96/96 [==============================] - 0s 347us/step - loss: 0.1680 - acc: 0.9792 - val_loss: 0.1664 - val_acc: 0.9583\n",
            "Epoch 150/200\n",
            "96/96 [==============================] - 0s 318us/step - loss: 0.1669 - acc: 0.9792 - val_loss: 0.1631 - val_acc: 0.9583\n",
            "Epoch 151/200\n",
            "96/96 [==============================] - 0s 290us/step - loss: 0.1652 - acc: 0.9792 - val_loss: 0.1618 - val_acc: 0.9583\n",
            "Epoch 152/200\n",
            "96/96 [==============================] - 0s 292us/step - loss: 0.1658 - acc: 0.9792 - val_loss: 0.1628 - val_acc: 0.9583\n",
            "Epoch 153/200\n",
            "96/96 [==============================] - 0s 292us/step - loss: 0.1643 - acc: 0.9792 - val_loss: 0.1622 - val_acc: 0.9583\n",
            "Epoch 154/200\n",
            "96/96 [==============================] - 0s 295us/step - loss: 0.1621 - acc: 0.9792 - val_loss: 0.1585 - val_acc: 0.9583\n",
            "Epoch 155/200\n",
            "96/96 [==============================] - 0s 286us/step - loss: 0.1617 - acc: 0.9792 - val_loss: 0.1556 - val_acc: 0.9583\n",
            "Epoch 156/200\n",
            "96/96 [==============================] - 0s 282us/step - loss: 0.1614 - acc: 0.9792 - val_loss: 0.1557 - val_acc: 0.9583\n",
            "Epoch 157/200\n",
            "96/96 [==============================] - 0s 283us/step - loss: 0.1604 - acc: 0.9792 - val_loss: 0.1550 - val_acc: 0.9583\n",
            "Epoch 158/200\n",
            "96/96 [==============================] - 0s 287us/step - loss: 0.1602 - acc: 0.9688 - val_loss: 0.1531 - val_acc: 0.9583\n",
            "Epoch 159/200\n",
            "96/96 [==============================] - 0s 289us/step - loss: 0.1592 - acc: 0.9792 - val_loss: 0.1548 - val_acc: 0.9583\n",
            "Epoch 160/200\n",
            "96/96 [==============================] - 0s 305us/step - loss: 0.1576 - acc: 0.9792 - val_loss: 0.1553 - val_acc: 0.9583\n",
            "Epoch 161/200\n",
            "96/96 [==============================] - 0s 295us/step - loss: 0.1565 - acc: 0.9792 - val_loss: 0.1547 - val_acc: 0.9583\n",
            "Epoch 162/200\n",
            "96/96 [==============================] - 0s 293us/step - loss: 0.1560 - acc: 0.9792 - val_loss: 0.1551 - val_acc: 0.9583\n",
            "Epoch 163/200\n",
            "96/96 [==============================] - 0s 278us/step - loss: 0.1552 - acc: 0.9792 - val_loss: 0.1561 - val_acc: 0.9583\n",
            "Epoch 164/200\n",
            "96/96 [==============================] - 0s 294us/step - loss: 0.1564 - acc: 0.9792 - val_loss: 0.1558 - val_acc: 0.9583\n",
            "Epoch 165/200\n",
            "96/96 [==============================] - 0s 280us/step - loss: 0.1530 - acc: 0.9792 - val_loss: 0.1495 - val_acc: 0.9583\n",
            "Epoch 166/200\n",
            "96/96 [==============================] - 0s 293us/step - loss: 0.1534 - acc: 0.9792 - val_loss: 0.1499 - val_acc: 0.9583\n",
            "Epoch 167/200\n",
            "96/96 [==============================] - 0s 311us/step - loss: 0.1515 - acc: 0.9792 - val_loss: 0.1499 - val_acc: 0.9583\n",
            "Epoch 168/200\n",
            "96/96 [==============================] - 0s 275us/step - loss: 0.1515 - acc: 0.9792 - val_loss: 0.1498 - val_acc: 0.9583\n",
            "Epoch 169/200\n",
            "96/96 [==============================] - 0s 328us/step - loss: 0.1509 - acc: 0.9792 - val_loss: 0.1462 - val_acc: 0.9583\n",
            "Epoch 170/200\n",
            "96/96 [==============================] - 0s 345us/step - loss: 0.1501 - acc: 0.9792 - val_loss: 0.1463 - val_acc: 0.9583\n",
            "Epoch 171/200\n",
            "96/96 [==============================] - 0s 295us/step - loss: 0.1497 - acc: 0.9688 - val_loss: 0.1433 - val_acc: 0.9583\n",
            "Epoch 172/200\n",
            "96/96 [==============================] - 0s 278us/step - loss: 0.1493 - acc: 0.9688 - val_loss: 0.1417 - val_acc: 0.9583\n",
            "Epoch 173/200\n",
            "96/96 [==============================] - 0s 298us/step - loss: 0.1480 - acc: 0.9792 - val_loss: 0.1425 - val_acc: 0.9583\n",
            "Epoch 174/200\n",
            "96/96 [==============================] - 0s 288us/step - loss: 0.1461 - acc: 0.9792 - val_loss: 0.1454 - val_acc: 0.9583\n",
            "Epoch 175/200\n",
            "96/96 [==============================] - 0s 284us/step - loss: 0.1459 - acc: 0.9792 - val_loss: 0.1482 - val_acc: 0.9583\n",
            "Epoch 176/200\n",
            "96/96 [==============================] - 0s 299us/step - loss: 0.1460 - acc: 0.9792 - val_loss: 0.1446 - val_acc: 0.9583\n",
            "Epoch 177/200\n",
            "96/96 [==============================] - 0s 316us/step - loss: 0.1452 - acc: 0.9792 - val_loss: 0.1430 - val_acc: 0.9583\n",
            "Epoch 178/200\n",
            "96/96 [==============================] - 0s 301us/step - loss: 0.1441 - acc: 0.9792 - val_loss: 0.1403 - val_acc: 0.9583\n",
            "Epoch 179/200\n",
            "96/96 [==============================] - 0s 275us/step - loss: 0.1461 - acc: 0.9688 - val_loss: 0.1371 - val_acc: 0.9583\n",
            "Epoch 180/200\n",
            "96/96 [==============================] - 0s 287us/step - loss: 0.1428 - acc: 0.9792 - val_loss: 0.1433 - val_acc: 0.9583\n",
            "Epoch 181/200\n",
            "96/96 [==============================] - 0s 281us/step - loss: 0.1421 - acc: 0.9792 - val_loss: 0.1395 - val_acc: 0.9583\n",
            "Epoch 182/200\n",
            "96/96 [==============================] - 0s 290us/step - loss: 0.1426 - acc: 0.9792 - val_loss: 0.1378 - val_acc: 0.9583\n",
            "Epoch 183/200\n",
            "96/96 [==============================] - 0s 281us/step - loss: 0.1412 - acc: 0.9792 - val_loss: 0.1380 - val_acc: 0.9583\n",
            "Epoch 184/200\n",
            "96/96 [==============================] - 0s 300us/step - loss: 0.1405 - acc: 0.9792 - val_loss: 0.1423 - val_acc: 0.9583\n",
            "Epoch 185/200\n",
            "96/96 [==============================] - 0s 299us/step - loss: 0.1422 - acc: 0.9792 - val_loss: 0.1365 - val_acc: 0.9583\n",
            "Epoch 186/200\n",
            "96/96 [==============================] - 0s 288us/step - loss: 0.1392 - acc: 0.9792 - val_loss: 0.1398 - val_acc: 0.9583\n",
            "Epoch 187/200\n",
            "96/96 [==============================] - 0s 281us/step - loss: 0.1384 - acc: 0.9792 - val_loss: 0.1356 - val_acc: 0.9583\n",
            "Epoch 188/200\n",
            "96/96 [==============================] - 0s 293us/step - loss: 0.1381 - acc: 0.9792 - val_loss: 0.1347 - val_acc: 0.9583\n",
            "Epoch 189/200\n",
            "96/96 [==============================] - 0s 281us/step - loss: 0.1375 - acc: 0.9792 - val_loss: 0.1359 - val_acc: 0.9583\n",
            "Epoch 190/200\n",
            "96/96 [==============================] - 0s 281us/step - loss: 0.1366 - acc: 0.9792 - val_loss: 0.1344 - val_acc: 0.9583\n",
            "Epoch 191/200\n",
            "96/96 [==============================] - 0s 279us/step - loss: 0.1364 - acc: 0.9792 - val_loss: 0.1325 - val_acc: 0.9583\n",
            "Epoch 192/200\n",
            "96/96 [==============================] - 0s 303us/step - loss: 0.1350 - acc: 0.9792 - val_loss: 0.1313 - val_acc: 0.9583\n",
            "Epoch 193/200\n",
            "96/96 [==============================] - 0s 279us/step - loss: 0.1351 - acc: 0.9792 - val_loss: 0.1305 - val_acc: 0.9583\n",
            "Epoch 194/200\n",
            "96/96 [==============================] - 0s 299us/step - loss: 0.1365 - acc: 0.9688 - val_loss: 0.1293 - val_acc: 0.9583\n",
            "Epoch 195/200\n",
            "96/96 [==============================] - 0s 273us/step - loss: 0.1344 - acc: 0.9792 - val_loss: 0.1310 - val_acc: 0.9583\n",
            "Epoch 196/200\n",
            "96/96 [==============================] - 0s 285us/step - loss: 0.1339 - acc: 0.9792 - val_loss: 0.1322 - val_acc: 0.9583\n",
            "Epoch 197/200\n",
            "96/96 [==============================] - 0s 281us/step - loss: 0.1343 - acc: 0.9792 - val_loss: 0.1306 - val_acc: 0.9583\n",
            "Epoch 198/200\n",
            "96/96 [==============================] - 0s 290us/step - loss: 0.1327 - acc: 0.9792 - val_loss: 0.1273 - val_acc: 0.9583\n",
            "Epoch 199/200\n",
            "96/96 [==============================] - 0s 294us/step - loss: 0.1315 - acc: 0.9792 - val_loss: 0.1274 - val_acc: 0.9583\n",
            "Epoch 200/200\n",
            "96/96 [==============================] - 0s 283us/step - loss: 0.1322 - acc: 0.9792 - val_loss: 0.1253 - val_acc: 0.9583\n"
          ],
          "name": "stdout"
        }
      ]
    },
    {
      "cell_type": "markdown",
      "metadata": {
        "id": "HHreB--UHEuB",
        "colab_type": "text"
      },
      "source": [
        "### Examining the plot\n",
        "\n",
        "In this model loss plot we can see that the model's loss gradually drops at it reaches 200 epochs and that our training and validation data loss do not deviate from each other meaning there is no overfitting present.\n",
        "\n",
        "We can also see that the accuracy of the training and validation data sets increase in accuracy in a similar fashion meaning which also indicate that there is no significant overfitting in our model."
      ]
    },
    {
      "cell_type": "code",
      "metadata": {
        "id": "BwYPK696zTqu",
        "colab_type": "code",
        "outputId": "b9d4832c-6b8e-48ed-b802-6d0164aac127",
        "colab": {
          "base_uri": "https://localhost:8080/",
          "height": 621
        }
      },
      "source": [
        "def plot_acc_loss(history):\n",
        "    f, (ax1, ax2) = plt.subplots(2,1, figsize=(10,10))\n",
        "    \n",
        "    # Summarize history of accuracy\n",
        "    ax1.plot(history.history['loss'])\n",
        "    ax1.plot(history.history['val_loss'])\n",
        "    ax1.set_title('model loss')\n",
        "    ax1.legend(['train', 'val'], loc='upper left')\n",
        "    \n",
        "    # Summarize history of accuracy\n",
        "    ax2.plot(history.history['acc'])\n",
        "    ax2.plot(history.history['val_acc'])\n",
        "    ax2.set_title('model accuracy')\n",
        "    ax2.set_xlabel('epoch')\n",
        "    ax2.legend(['train', 'val'], loc='upper left')\n",
        "    \n",
        "    plt.subplots_adjust(hspace=0.5)\n",
        "    plt.show()\n",
        "    \n",
        "plot_acc_loss(history)"
      ],
      "execution_count": 11,
      "outputs": [
        {
          "output_type": "display_data",
          "data": {
            "image/png": "[encoded data removed]",
            "text/plain": [
              "<Figure size 720x720 with 2 Axes>"
            ]
          },
          "metadata": {
            "tags": []
          }
        }
      ]
    },
    {
      "cell_type": "markdown",
      "metadata": {
        "id": "vw2wWtw5zTqy",
        "colab_type": "text"
      },
      "source": [
        "### Evaluate the model\n",
        "Now that we have trained our model, we can evaluate it's predictive performance on our test data."
      ]
    },
    {
      "cell_type": "code",
      "metadata": {
        "id": "KQtZLcOdzTq0",
        "colab_type": "code",
        "outputId": "4e2bd93b-cd86-4246-a968-383bc76b58e0",
        "colab": {
          "base_uri": "https://localhost:8080/",
          "height": 85
        }
      },
      "source": [
        "scores = model.evaluate(X_test, y_test)\n",
        "print(\"\\n\\n{0}: {1:.2f}%\".format(model.metrics_names[1], scores[1]*100))"
      ],
      "execution_count": 12,
      "outputs": [
        {
          "output_type": "stream",
          "text": [
            "\r30/30 [==============================] - 0s 108us/step\n",
            "\n",
            "\n",
            "acc: 96.67%\n"
          ],
          "name": "stdout"
        }
      ]
    },
    {
      "cell_type": "markdown",
      "metadata": {
        "id": "LR2ihtRTBQ9R",
        "colab_type": "text"
      },
      "source": [
        "Our accuracy across our test set is 96.67% meaning that if we were to use this model on new data from the same Iris dataset, it would correctly classify the Iris species 96.67% of the time."
      ]
    },
    {
      "cell_type": "markdown",
      "metadata": {
        "id": "xnnHSuWHBmIT",
        "colab_type": "text"
      },
      "source": [
        "### The Confusion Matrix\n",
        "\n",
        "A confusion matrix is useful for describing the performance of a classification model. Instead of seeing generalised accuracy, we're able to look how each individual classification performs. \n",
        "\n",
        "In this case we can see that a sample of Versicolor was incorrectly classified as Virginica which we could try to improve in the future."
      ]
    },
    {
      "cell_type": "code",
      "metadata": {
        "id": "PEnF0buSzTq4",
        "colab_type": "code",
        "outputId": "d33d8ac2-faaa-4b00-ae2f-d80b99dff277",
        "colab": {
          "base_uri": "https://localhost:8080/",
          "height": 283
        }
      },
      "source": [
        "def draw_confusion_matrix(true, pred, labels,str_labels):\n",
        "  \"\"\"\n",
        "  Drawing confusion matrix\n",
        "  \"\"\"\n",
        "  cm = metrics.confusion_matrix(true, pred, labels)\n",
        "  ax = plt.subplot()\n",
        "  sns.heatmap(cm, annot=True, ax=ax)\n",
        "  ax.set_xticklabels(str_labels+labels)\n",
        "  ax.set_yticklabels(str_labels+labels)\n",
        "  ax.set_xlabel(\"Predicted Classification\")\n",
        "  ax.set_ylabel(\"True Classification\")\n",
        "  plt.show()\n",
        "  return cm\n",
        "\n",
        "y_pred = model.predict_classes(X_test)\n",
        "y_test_encoded = [np.argmax(i) for i in y_test] # Reverse one hot encoded to label encoded\n",
        "matrix = draw_confusion_matrix(y_test_encoded, y_pred, [0,1,2], ['Setosa', 'Versicolor', 'Virginica']) #[setosa,versicolor, virginica]\n"
      ],
      "execution_count": 23,
      "outputs": [
        {
          "output_type": "display_data",
          "data": {
            "image/png": "[encoded data removed]",
            "text/plain": [
              "<Figure size 432x288 with 2 Axes>"
            ]
          },
          "metadata": {
            "tags": []
          }
        }
      ]
    },
    {
      "cell_type": "code",
      "metadata": {
        "id": "IhOFX6LUzTrD",
        "colab_type": "code",
        "outputId": "0af87a5b-f899-47a5-f228-95e258fb263c",
        "colab": {
          "base_uri": "https://localhost:8080/",
          "height": 34
        }
      },
      "source": [
        "print(\"acc: {0:.2f}%\".format(np.sum(np.diag(matrix))*100/np.sum(matrix)))"
      ],
      "execution_count": 24,
      "outputs": [
        {
          "output_type": "stream",
          "text": [
            "acc: 96.67%\n"
          ],
          "name": "stdout"
        }
      ]
    },
    {
      "cell_type": "markdown",
      "metadata": {
        "id": "CHe0CcqcsO1Q",
        "colab_type": "text"
      },
      "source": [
        "# Key Points\n",
        "\n",
        "\n",
        "*   Created a neural network to solve multiclass classification problem\n",
        "*   \"One hot encoded\" to categorise string target variable\n",
        "*  Different loss functions for different classfication problems\n",
        "* Confusion matrix and model improvements\n",
        "\n",
        "\n"
      ]
    }
  ]
}