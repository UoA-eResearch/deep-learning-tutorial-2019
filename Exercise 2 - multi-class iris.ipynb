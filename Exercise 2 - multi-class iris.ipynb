{
  "nbformat": 4,
  "nbformat_minor": 0,
  "metadata": {
    "colab": {
      "name": "Exercise 2 - multi-class iris.ipynb",
      "version": "0.3.2",
      "provenance": [],
      "include_colab_link": true
    },
    "language_info": {
      "codemirror_mode": {
        "name": "ipython",
        "version": 3
      },
      "file_extension": ".py",
      "mimetype": "text/x-python",
      "name": "python",
      "nbconvert_exporter": "python",
      "pygments_lexer": "ipython3",
      "version": "3.6.8"
    },
    "kernelspec": {
      "display_name": "Python 3",
      "language": "python",
      "name": "python3"
    }
  },
  "cells": [
    {
      "cell_type": "markdown",
      "metadata": {
        "id": "view-in-github",
        "colab_type": "text"
      },
      "source": [
        "<a href=\"https://colab.research.google.com/github/UoA-eResearch/deep-learning-tutorial-2019/blob/master/Exercise%202%20-%20multi-class%20iris.ipynb\" target=\"_parent\"><img src=\"https://colab.research.google.com/assets/colab-badge.svg\" alt=\"Open In Colab\"/></a>"
      ]
    },
    {
      "cell_type": "markdown",
      "metadata": {
        "id": "xPQTvjnTzTqM",
        "colab_type": "text"
      },
      "source": [
        "## Exercise 2: The Iris Dataset\n",
        "In this exercise we will create a neural network to classify 3 different types of Iris (Setosa, Versicolor and Virginica) based on their sepal length, sepal width, petal length and petal width.\n",
        "\n",
        "![Irises](http://dataaspirant.com/wp-content/uploads/2017/01/irises.png)\n",
        "\n",
        "This is a multi class classification problem. It is similar to the Pima Indian's binary classification exercise, but with three classes to predict instead of two.\n",
        "\n",
        "### Q: Is this a supervised learning problem or unsupervised learning problem?\n",
        "\n",
        "*answer...*"
      ]
    },
    {
      "cell_type": "markdown",
      "metadata": {
        "id": "-x9VrMNin1Yi",
        "colab_type": "text"
      },
      "source": [
        "### Q: How many steps are there in creating a neural network model? Please list those steps\n",
        "\n",
        "*answer...*"
      ]
    },
    {
      "cell_type": "markdown",
      "metadata": {
        "id": "l6B9pUqCzTqO",
        "colab_type": "text"
      },
      "source": [
        "### Import dependencies\n",
        "Start by importing the dependencies we will need for the project"
      ]
    },
    {
      "cell_type": "code",
      "metadata": {
        "id": "JB8CJHppzTqP",
        "colab_type": "code",
        "colab": {}
      },
      "source": [
        "from keras.models import Sequential\n",
        "from keras.layers import Dense\n",
        "import numpy as np\n",
        "from sklearn.model_selection import train_test_split\n",
        "from sklearn.preprocessing import LabelEncoder\n",
        "from keras.utils import np_utils\n",
        "import matplotlib.pyplot as plt\n",
        "from sklearn import metrics"
      ],
      "execution_count": 0,
      "outputs": []
    },
    {
      "cell_type": "code",
      "metadata": {
        "id": "YcA6fnZKzTqU",
        "colab_type": "code",
        "colab": {}
      },
      "source": [
        "def plot_acc_loss(history):\n",
        "    f, (ax1, ax2) = plt.subplots(2,1, figsize=(10,10))\n",
        "    \n",
        "    # Summarize history of accuracy\n",
        "    ax1.plot(history.history['loss'])\n",
        "    ax1.plot(history.history['val_loss'])\n",
        "    ax1.set_title('model loss')\n",
        "    ax1.legend(['train', 'test'], loc='upper left')\n",
        "    \n",
        "    # Summarize history of accuracy\n",
        "    ax2.plot(history.history['acc'])\n",
        "    ax2.plot(history.history['val_acc'])\n",
        "    ax2.set_title('model accuracy')\n",
        "    ax2.set_xlabel('epoch')\n",
        "    ax2.legend(['train', 'test'], loc='upper left')\n",
        "    \n",
        "    plt.subplots_adjust(hspace=0.5)\n",
        "    plt.show()"
      ],
      "execution_count": 0,
      "outputs": []
    },
    {
      "cell_type": "markdown",
      "metadata": {
        "id": "VuDTA3s9zTqV",
        "colab_type": "text"
      },
      "source": [
        "### Set seed\n",
        "Set a seed value so that when we repeatedly run our code we will get the same result. Using the same seed is important when you want to compare algorithms."
      ]
    },
    {
      "cell_type": "code",
      "metadata": {
        "id": "AeLiwmMNzTqW",
        "colab_type": "code",
        "colab": {}
      },
      "source": [
        "seed = 7\n",
        "np.random.seed(seed)"
      ],
      "execution_count": 0,
      "outputs": []
    },
    {
      "cell_type": "markdown",
      "metadata": {
        "id": "OxNqXnJTzTqY",
        "colab_type": "text"
      },
      "source": [
        "### Import data\n",
        "The Iris dataset contains four features from 150 different Iris flowers. The features in the dataset are described below.\n",
        "\n",
        "* Sepal length (cm)\n",
        "* Sepal width (cm)\n",
        "* Petal length (cm)\n",
        "* Petal width (cm)\n",
        "* Class: Iris setosa, Iris versicolor or Iris virginica\n",
        "\n",
        "Sepals are the part of a flower that protect and support the petals. The petals surround the reproductive parts of the flower.\n",
        "\n",
        "![Iris labeled](http://terpconnect.umd.edu/~petersd/666/html/iris_with_labels.jpg)\n",
        "\n",
        "A snapshot of the dataset is illustrated below (not in order).\n",
        "\n",
        "|Sepal Length|Sepal Width|Petal Length|Petal Width|Class|\n",
        "|---|---|---|---|-----------|\n",
        "|5.1|3.5|1.4|0.2|Iris-setosa|\n",
        "|4.9|3.0|1.4|0.2|Iris-setosa|\n",
        "|7.0|3.2|4.7|1.4|Iris-versicolor|\n",
        "|6.4|3.2|4.5|1.5|Iris-versicolor|\n",
        "|6.3|3.3|6.0|2.5|Iris-virginica|\n",
        "|5.8|2.7|5.1|1.9|Iris-virginica|\n",
        "\n",
        "To load this data into memory, use the `np.loadtxt` function. The data type (`dtype`) is set to `str` because our input data is a mix of numbers and strings. This will be dealt with when we split the data."
      ]
    },
    {
      "cell_type": "code",
      "metadata": {
        "id": "-wYz6SEDzTqY",
        "colab_type": "code",
        "outputId": "7626ee69-690d-44a9-f87f-9fb4e73999ae",
        "colab": {
          "base_uri": "https://localhost:8080/",
          "height": 119
        }
      },
      "source": [
        "data = np.loadtxt('https://raw.githubusercontent.com/UoA-eResearch/deep-learning-tutorial-2019/master/data/iris.csv', delimiter=\",\", dtype=str)\n",
        "print(data[:6]) #Show the first 6 rows"
      ],
      "execution_count": 6,
      "outputs": [
        {
          "output_type": "stream",
          "text": [
            "[['5.1' '3.5' '1.4' '0.2' 'Iris-setosa']\n",
            " ['4.9' '3.0' '1.4' '0.2' 'Iris-setosa']\n",
            " ['4.7' '3.2' '1.3' '0.2' 'Iris-setosa']\n",
            " ['4.6' '3.1' '1.5' '0.2' 'Iris-setosa']\n",
            " ['5.0' '3.6' '1.4' '0.2' 'Iris-setosa']\n",
            " ['5.4' '3.9' '1.7' '0.4' 'Iris-setosa']]\n"
          ],
          "name": "stdout"
        }
      ]
    },
    {
      "cell_type": "markdown",
      "metadata": {
        "id": "KGLO13AQzTqb",
        "colab_type": "text"
      },
      "source": [
        "Separate the data into input (X) and output (y) variables.\n",
        "\n",
        "Note that we convert the input data into floats."
      ]
    },
    {
      "cell_type": "code",
      "metadata": {
        "id": "y-EcR4awzTqb",
        "colab_type": "code",
        "colab": {}
      },
      "source": [
        "X = data[:, 0:4].astype(float)\n",
        "y = data[:, 4]"
      ],
      "execution_count": 0,
      "outputs": []
    },
    {
      "cell_type": "markdown",
      "metadata": {
        "id": "A2zYDMAbzTqd",
        "colab_type": "text"
      },
      "source": [
        "If you look carefully at the target values, you will notice that they are strings, i.e. 'Iris-setosa', 'Iris-versicolor' and 'Iris-virginica'.\n",
        "\n",
        "**Keras needs numbers or matrices to work with, so we will need to reformat the target values.**\n",
        "\n",
        "The problem with converting the class values to numbers (e.g. 'Iris-setosa' becomes 0, 'Iris-versicolor' 1 etc) is that it implies that the target values are ordinal. That is, 'Iris-setosa' is somehow less than 'Iris-versicolor', which is not the case for this dataset.\n",
        "\n",
        "A better way to represent classes in a multi-class classification problem, is to 'one hot encode' the target values. An example is shown below. A matrix of zeros is generated. Each row corresponds to a sample and each column corresponds to a particular class. A 1 is placed into the column to incidicate the class that it belongs too.\n",
        "\n",
        "|Iris-setosa|Iris-versicolor|Iris-virginica|\n",
        "|---|---|---|\n",
        "|1|0|0|\n",
        "|0|1|0|\n",
        "|0|0|1|\n",
        "\n",
        "One hot encoding is a two step process. First encode the target values (y) into an array of numbers using the `LabelEncoder` from scikit-learn and then one hot encode the numbers with the `np_utils.to_categorical` function."
      ]
    },
    {
      "cell_type": "code",
      "metadata": {
        "id": "QmReXRywzTqe",
        "colab_type": "code",
        "colab": {
          "base_uri": "https://localhost:8080/",
          "height": 34
        },
        "outputId": "fa6780ba-08ed-453e-ef61-29edd81aac24"
      },
      "source": [
        "y_encoded = LabelEncoder().fit(y).transform(y) # Convert the classes into numbers\n",
        "y_encoded[45:55]"
      ],
      "execution_count": 22,
      "outputs": [
        {
          "output_type": "execute_result",
          "data": {
            "text/plain": [
              "array([0, 0, 0, 0, 0, 1, 1, 1, 1, 1])"
            ]
          },
          "metadata": {
            "tags": []
          },
          "execution_count": 22
        }
      ]
    },
    {
      "cell_type": "code",
      "metadata": {
        "id": "jQgfvZcfzTqi",
        "colab_type": "code",
        "outputId": "fb732ad9-6fbe-4919-8d98-6943cbb7739e",
        "colab": {
          "base_uri": "https://localhost:8080/",
          "height": 187
        }
      },
      "source": [
        "y_one_hot_encoded = np_utils.to_categorical(y_encoded) # One hot encode the numbers\n",
        "y_one_hot_encoded[45:55]"
      ],
      "execution_count": 23,
      "outputs": [
        {
          "output_type": "execute_result",
          "data": {
            "text/plain": [
              "array([[1., 0., 0.],\n",
              "       [1., 0., 0.],\n",
              "       [1., 0., 0.],\n",
              "       [1., 0., 0.],\n",
              "       [1., 0., 0.],\n",
              "       [0., 1., 0.],\n",
              "       [0., 1., 0.],\n",
              "       [0., 1., 0.],\n",
              "       [0., 1., 0.],\n",
              "       [0., 1., 0.]], dtype=float32)"
            ]
          },
          "metadata": {
            "tags": []
          },
          "execution_count": 23
        }
      ]
    },
    {
      "cell_type": "markdown",
      "metadata": {
        "id": "O9s47Jx9zTqk",
        "colab_type": "text"
      },
      "source": [
        "Like the previous exercise, use the `train_test_split` function from scikit-learn to split the input and target data into training and test datasets."
      ]
    },
    {
      "cell_type": "code",
      "metadata": {
        "id": "8qdeRm6LzTql",
        "colab_type": "code",
        "colab": {}
      },
      "source": [
        "X_train, X_test, y_train, y_test = train_test_split(X, y_one_hot_encoded, test_size=0.33, random_state=seed)"
      ],
      "execution_count": 0,
      "outputs": []
    },
    {
      "cell_type": "markdown",
      "metadata": {
        "id": "9Gp1FcnQzTqn",
        "colab_type": "text"
      },
      "source": [
        "### Create the model\n",
        "The code snippet below creates a very basic neural network model, with three layers: an input layer, a hidden layer and an output layer.\n",
        "\n",
        "The first layer is a fully connected `Dense` layer. We use four neurons in the hidden layer and have 4 input neurons for the 4 features.\n",
        "\n",
        "The last layer has 3 neurons, one for each class."
      ]
    },
    {
      "cell_type": "code",
      "metadata": {
        "id": "hG9oXx6dzTqn",
        "colab_type": "code",
        "outputId": "b5a95fd5-50ea-454f-bb4a-84d49e8454d9",
        "colab": {
          "base_uri": "https://localhost:8080/",
          "height": 88
        }
      },
      "source": [
        "model = Sequential()\n",
        "model.add(Dense(4, input_dim=4, activation='relu', kernel_initializer='normal'))\n",
        "model.add(Dense(3, activation='sigmoid', kernel_initializer='normal'))"
      ],
      "execution_count": 25,
      "outputs": [
        {
          "output_type": "stream",
          "text": [
            "WARNING:tensorflow:From /usr/local/lib/python3.6/dist-packages/tensorflow/python/framework/op_def_library.py:263: colocate_with (from tensorflow.python.framework.ops) is deprecated and will be removed in a future version.\n",
            "Instructions for updating:\n",
            "Colocations handled automatically by placer.\n"
          ],
          "name": "stdout"
        }
      ]
    },
    {
      "cell_type": "markdown",
      "metadata": {
        "id": "McwgpeyfzTqp",
        "colab_type": "text"
      },
      "source": [
        "### Compile the model\n",
        "We then compile the model. The loss function is set to `categorical_crossentropy` (different from the loss function used in the binary classification exercise) because we are performing multi-class classification."
      ]
    },
    {
      "cell_type": "code",
      "metadata": {
        "id": "F86R20yJzTqp",
        "colab_type": "code",
        "colab": {}
      },
      "source": [
        "model.compile(loss='categorical_crossentropy', optimizer='adam', metrics=['accuracy'])"
      ],
      "execution_count": 0,
      "outputs": []
    },
    {
      "cell_type": "markdown",
      "metadata": {
        "id": "Hr-3q6CEzTqs",
        "colab_type": "text"
      },
      "source": [
        "### Fit the model\n",
        "Now that we have compiled the model, we can train it with the data we prepared earlier. We are using more epochs but a smaller batch size than the previous exercise.\n",
        "\n",
        "To see the model training history in text, just don't include `verbose=0`"
      ]
    },
    {
      "cell_type": "code",
      "metadata": {
        "id": "t0ohIS-DzTqs",
        "colab_type": "code",
        "outputId": "b0f9995f-e12b-4003-e5d5-20cd41371f2b",
        "colab": {
          "base_uri": "https://localhost:8080/",
          "height": 6905
        }
      },
      "source": [
        "history = model.fit(X_train, y_train, validation_data=(X_test, y_test), epochs=200, batch_size=5)"
      ],
      "execution_count": 27,
      "outputs": [
        {
          "output_type": "stream",
          "text": [
            "WARNING:tensorflow:From /usr/local/lib/python3.6/dist-packages/tensorflow/python/ops/math_ops.py:3066: to_int32 (from tensorflow.python.ops.math_ops) is deprecated and will be removed in a future version.\n",
            "Instructions for updating:\n",
            "Use tf.cast instead.\n",
            "Train on 100 samples, validate on 50 samples\n",
            "Epoch 1/200\n",
            "100/100 [==============================] - 1s 7ms/step - loss: 1.0999 - acc: 0.3600 - val_loss: 1.0989 - val_acc: 0.2800\n",
            "Epoch 2/200\n",
            "100/100 [==============================] - 0s 322us/step - loss: 1.0974 - acc: 0.5400 - val_loss: 1.0968 - val_acc: 0.6400\n",
            "Epoch 3/200\n",
            "100/100 [==============================] - 0s 316us/step - loss: 1.0952 - acc: 0.6800 - val_loss: 1.0942 - val_acc: 0.6400\n",
            "Epoch 4/200\n",
            "100/100 [==============================] - 0s 311us/step - loss: 1.0925 - acc: 0.6800 - val_loss: 1.0906 - val_acc: 0.6400\n",
            "Epoch 5/200\n",
            "100/100 [==============================] - 0s 323us/step - loss: 1.0886 - acc: 0.6600 - val_loss: 1.0855 - val_acc: 0.6400\n",
            "Epoch 6/200\n",
            "100/100 [==============================] - 0s 324us/step - loss: 1.0835 - acc: 0.6800 - val_loss: 1.0796 - val_acc: 0.6400\n",
            "Epoch 7/200\n",
            "100/100 [==============================] - 0s 298us/step - loss: 1.0762 - acc: 0.6800 - val_loss: 1.0720 - val_acc: 0.6400\n",
            "Epoch 8/200\n",
            "100/100 [==============================] - 0s 385us/step - loss: 1.0668 - acc: 0.6800 - val_loss: 1.0616 - val_acc: 0.6400\n",
            "Epoch 9/200\n",
            "100/100 [==============================] - 0s 351us/step - loss: 1.0553 - acc: 0.6800 - val_loss: 1.0495 - val_acc: 0.6400\n",
            "Epoch 10/200\n",
            "100/100 [==============================] - 0s 333us/step - loss: 1.0420 - acc: 0.6800 - val_loss: 1.0354 - val_acc: 0.6400\n",
            "Epoch 11/200\n",
            "100/100 [==============================] - 0s 332us/step - loss: 1.0257 - acc: 0.6800 - val_loss: 1.0188 - val_acc: 0.6400\n",
            "Epoch 12/200\n",
            "100/100 [==============================] - 0s 322us/step - loss: 1.0082 - acc: 0.6800 - val_loss: 1.0015 - val_acc: 0.6400\n",
            "Epoch 13/200\n",
            "100/100 [==============================] - 0s 337us/step - loss: 0.9886 - acc: 0.6800 - val_loss: 0.9818 - val_acc: 0.6400\n",
            "Epoch 14/200\n",
            "100/100 [==============================] - 0s 308us/step - loss: 0.9673 - acc: 0.6800 - val_loss: 0.9612 - val_acc: 0.6400\n",
            "Epoch 15/200\n",
            "100/100 [==============================] - 0s 293us/step - loss: 0.9451 - acc: 0.6800 - val_loss: 0.9397 - val_acc: 0.6400\n",
            "Epoch 16/200\n",
            "100/100 [==============================] - 0s 286us/step - loss: 0.9210 - acc: 0.6800 - val_loss: 0.9169 - val_acc: 0.6400\n",
            "Epoch 17/200\n",
            "100/100 [==============================] - 0s 284us/step - loss: 0.8987 - acc: 0.6800 - val_loss: 0.8961 - val_acc: 0.6400\n",
            "Epoch 18/200\n",
            "100/100 [==============================] - 0s 314us/step - loss: 0.8730 - acc: 0.6800 - val_loss: 0.8718 - val_acc: 0.6400\n",
            "Epoch 19/200\n",
            "100/100 [==============================] - 0s 257us/step - loss: 0.8495 - acc: 0.6800 - val_loss: 0.8496 - val_acc: 0.6400\n",
            "Epoch 20/200\n",
            "100/100 [==============================] - 0s 253us/step - loss: 0.8252 - acc: 0.6800 - val_loss: 0.8283 - val_acc: 0.6400\n",
            "Epoch 21/200\n",
            "100/100 [==============================] - 0s 256us/step - loss: 0.8016 - acc: 0.6800 - val_loss: 0.8074 - val_acc: 0.6400\n",
            "Epoch 22/200\n",
            "100/100 [==============================] - 0s 266us/step - loss: 0.7781 - acc: 0.6800 - val_loss: 0.7859 - val_acc: 0.6400\n",
            "Epoch 23/200\n",
            "100/100 [==============================] - 0s 266us/step - loss: 0.7549 - acc: 0.6800 - val_loss: 0.7649 - val_acc: 0.6400\n",
            "Epoch 24/200\n",
            "100/100 [==============================] - 0s 274us/step - loss: 0.7336 - acc: 0.6800 - val_loss: 0.7460 - val_acc: 0.6400\n",
            "Epoch 25/200\n",
            "100/100 [==============================] - 0s 293us/step - loss: 0.7123 - acc: 0.6900 - val_loss: 0.7270 - val_acc: 0.6400\n",
            "Epoch 26/200\n",
            "100/100 [==============================] - 0s 307us/step - loss: 0.6919 - acc: 0.6900 - val_loss: 0.7094 - val_acc: 0.6400\n",
            "Epoch 27/200\n",
            "100/100 [==============================] - 0s 288us/step - loss: 0.6729 - acc: 0.6900 - val_loss: 0.6925 - val_acc: 0.6600\n",
            "Epoch 28/200\n",
            "100/100 [==============================] - 0s 323us/step - loss: 0.6550 - acc: 0.6900 - val_loss: 0.6756 - val_acc: 0.6600\n",
            "Epoch 29/200\n",
            "100/100 [==============================] - 0s 281us/step - loss: 0.6380 - acc: 0.7100 - val_loss: 0.6618 - val_acc: 0.6600\n",
            "Epoch 30/200\n",
            "100/100 [==============================] - 0s 261us/step - loss: 0.6197 - acc: 0.7300 - val_loss: 0.6456 - val_acc: 0.6600\n",
            "Epoch 31/200\n",
            "100/100 [==============================] - 0s 271us/step - loss: 0.6051 - acc: 0.7300 - val_loss: 0.6320 - val_acc: 0.6600\n",
            "Epoch 32/200\n",
            "100/100 [==============================] - 0s 272us/step - loss: 0.5890 - acc: 0.7500 - val_loss: 0.6178 - val_acc: 0.7400\n",
            "Epoch 33/200\n",
            "100/100 [==============================] - 0s 312us/step - loss: 0.5746 - acc: 0.7900 - val_loss: 0.6045 - val_acc: 0.8200\n",
            "Epoch 34/200\n",
            "100/100 [==============================] - 0s 324us/step - loss: 0.5609 - acc: 0.8500 - val_loss: 0.5920 - val_acc: 0.8600\n",
            "Epoch 35/200\n",
            "100/100 [==============================] - 0s 263us/step - loss: 0.5483 - acc: 0.8900 - val_loss: 0.5795 - val_acc: 0.8600\n",
            "Epoch 36/200\n",
            "100/100 [==============================] - 0s 254us/step - loss: 0.5358 - acc: 0.9000 - val_loss: 0.5688 - val_acc: 0.9200\n",
            "Epoch 37/200\n",
            "100/100 [==============================] - 0s 270us/step - loss: 0.5245 - acc: 0.9700 - val_loss: 0.5577 - val_acc: 0.9600\n",
            "Epoch 38/200\n",
            "100/100 [==============================] - 0s 258us/step - loss: 0.5132 - acc: 0.9700 - val_loss: 0.5478 - val_acc: 0.9600\n",
            "Epoch 39/200\n",
            "100/100 [==============================] - 0s 256us/step - loss: 0.5028 - acc: 0.9700 - val_loss: 0.5381 - val_acc: 0.9600\n",
            "Epoch 40/200\n",
            "100/100 [==============================] - 0s 252us/step - loss: 0.4926 - acc: 0.9700 - val_loss: 0.5286 - val_acc: 0.9600\n",
            "Epoch 41/200\n",
            "100/100 [==============================] - 0s 251us/step - loss: 0.4839 - acc: 0.9700 - val_loss: 0.5199 - val_acc: 0.9800\n",
            "Epoch 42/200\n",
            "100/100 [==============================] - 0s 259us/step - loss: 0.4740 - acc: 0.9700 - val_loss: 0.5115 - val_acc: 0.9600\n",
            "Epoch 43/200\n",
            "100/100 [==============================] - 0s 275us/step - loss: 0.4666 - acc: 0.9700 - val_loss: 0.5037 - val_acc: 0.9600\n",
            "Epoch 44/200\n",
            "100/100 [==============================] - 0s 252us/step - loss: 0.4587 - acc: 0.9600 - val_loss: 0.4953 - val_acc: 1.0000\n",
            "Epoch 45/200\n",
            "100/100 [==============================] - 0s 246us/step - loss: 0.4487 - acc: 0.9700 - val_loss: 0.4874 - val_acc: 0.9800\n",
            "Epoch 46/200\n",
            "100/100 [==============================] - 0s 255us/step - loss: 0.4428 - acc: 0.9700 - val_loss: 0.4804 - val_acc: 0.9600\n",
            "Epoch 47/200\n",
            "100/100 [==============================] - 0s 248us/step - loss: 0.4332 - acc: 0.9700 - val_loss: 0.4726 - val_acc: 0.9800\n",
            "Epoch 48/200\n",
            "100/100 [==============================] - 0s 276us/step - loss: 0.4257 - acc: 0.9700 - val_loss: 0.4658 - val_acc: 0.9800\n",
            "Epoch 49/200\n",
            "100/100 [==============================] - 0s 270us/step - loss: 0.4199 - acc: 0.9600 - val_loss: 0.4588 - val_acc: 0.9800\n",
            "Epoch 50/200\n",
            "100/100 [==============================] - 0s 268us/step - loss: 0.4134 - acc: 0.9700 - val_loss: 0.4527 - val_acc: 0.9600\n",
            "Epoch 51/200\n",
            "100/100 [==============================] - 0s 246us/step - loss: 0.4090 - acc: 0.9700 - val_loss: 0.4462 - val_acc: 1.0000\n",
            "Epoch 52/200\n",
            "100/100 [==============================] - 0s 249us/step - loss: 0.4017 - acc: 0.9700 - val_loss: 0.4395 - val_acc: 0.9600\n",
            "Epoch 53/200\n",
            "100/100 [==============================] - 0s 249us/step - loss: 0.3940 - acc: 0.9700 - val_loss: 0.4333 - val_acc: 0.9800\n",
            "Epoch 54/200\n",
            "100/100 [==============================] - 0s 252us/step - loss: 0.3861 - acc: 0.9700 - val_loss: 0.4277 - val_acc: 0.9800\n",
            "Epoch 55/200\n",
            "100/100 [==============================] - 0s 257us/step - loss: 0.3825 - acc: 0.9700 - val_loss: 0.4222 - val_acc: 1.0000\n",
            "Epoch 56/200\n",
            "100/100 [==============================] - 0s 265us/step - loss: 0.3747 - acc: 0.9700 - val_loss: 0.4167 - val_acc: 0.9600\n",
            "Epoch 57/200\n",
            "100/100 [==============================] - 0s 248us/step - loss: 0.3699 - acc: 0.9700 - val_loss: 0.4110 - val_acc: 0.9600\n",
            "Epoch 58/200\n",
            "100/100 [==============================] - 0s 277us/step - loss: 0.3638 - acc: 0.9700 - val_loss: 0.4059 - val_acc: 0.9800\n",
            "Epoch 59/200\n",
            "100/100 [==============================] - 0s 275us/step - loss: 0.3605 - acc: 0.9600 - val_loss: 0.4006 - val_acc: 1.0000\n",
            "Epoch 60/200\n",
            "100/100 [==============================] - 0s 303us/step - loss: 0.3557 - acc: 0.9700 - val_loss: 0.3961 - val_acc: 0.9600\n",
            "Epoch 61/200\n",
            "100/100 [==============================] - 0s 333us/step - loss: 0.3493 - acc: 0.9700 - val_loss: 0.3906 - val_acc: 0.9800\n",
            "Epoch 62/200\n",
            "100/100 [==============================] - 0s 283us/step - loss: 0.3439 - acc: 0.9700 - val_loss: 0.3856 - val_acc: 0.9800\n",
            "Epoch 63/200\n",
            "100/100 [==============================] - 0s 279us/step - loss: 0.3419 - acc: 0.9700 - val_loss: 0.3814 - val_acc: 0.9800\n",
            "Epoch 64/200\n",
            "100/100 [==============================] - 0s 274us/step - loss: 0.3359 - acc: 0.9700 - val_loss: 0.3772 - val_acc: 0.9800\n",
            "Epoch 65/200\n",
            "100/100 [==============================] - 0s 259us/step - loss: 0.3305 - acc: 0.9700 - val_loss: 0.3723 - val_acc: 0.9800\n",
            "Epoch 66/200\n",
            "100/100 [==============================] - 0s 239us/step - loss: 0.3262 - acc: 0.9700 - val_loss: 0.3681 - val_acc: 0.9800\n",
            "Epoch 67/200\n",
            "100/100 [==============================] - 0s 255us/step - loss: 0.3218 - acc: 0.9700 - val_loss: 0.3637 - val_acc: 0.9800\n",
            "Epoch 68/200\n",
            "100/100 [==============================] - 0s 281us/step - loss: 0.3185 - acc: 0.9700 - val_loss: 0.3601 - val_acc: 0.9600\n",
            "Epoch 69/200\n",
            "100/100 [==============================] - 0s 275us/step - loss: 0.3150 - acc: 0.9700 - val_loss: 0.3556 - val_acc: 0.9800\n",
            "Epoch 70/200\n",
            "100/100 [==============================] - 0s 288us/step - loss: 0.3099 - acc: 0.9700 - val_loss: 0.3520 - val_acc: 0.9800\n",
            "Epoch 71/200\n",
            "100/100 [==============================] - 0s 267us/step - loss: 0.3066 - acc: 0.9700 - val_loss: 0.3481 - val_acc: 0.9800\n",
            "Epoch 72/200\n",
            "100/100 [==============================] - 0s 263us/step - loss: 0.3041 - acc: 0.9700 - val_loss: 0.3444 - val_acc: 0.9800\n",
            "Epoch 73/200\n",
            "100/100 [==============================] - 0s 271us/step - loss: 0.2994 - acc: 0.9700 - val_loss: 0.3413 - val_acc: 1.0000\n",
            "Epoch 74/200\n",
            "100/100 [==============================] - 0s 292us/step - loss: 0.2978 - acc: 0.9700 - val_loss: 0.3373 - val_acc: 0.9800\n",
            "Epoch 75/200\n",
            "100/100 [==============================] - 0s 267us/step - loss: 0.2938 - acc: 0.9700 - val_loss: 0.3345 - val_acc: 0.9600\n",
            "Epoch 76/200\n",
            "100/100 [==============================] - 0s 262us/step - loss: 0.2908 - acc: 0.9700 - val_loss: 0.3305 - val_acc: 0.9800\n",
            "Epoch 77/200\n",
            "100/100 [==============================] - 0s 243us/step - loss: 0.2862 - acc: 0.9700 - val_loss: 0.3273 - val_acc: 0.9800\n",
            "Epoch 78/200\n",
            "100/100 [==============================] - 0s 280us/step - loss: 0.2843 - acc: 0.9700 - val_loss: 0.3242 - val_acc: 0.9800\n",
            "Epoch 79/200\n",
            "100/100 [==============================] - 0s 300us/step - loss: 0.2816 - acc: 0.9700 - val_loss: 0.3221 - val_acc: 1.0000\n",
            "Epoch 80/200\n",
            "100/100 [==============================] - 0s 278us/step - loss: 0.2771 - acc: 0.9700 - val_loss: 0.3179 - val_acc: 0.9800\n",
            "Epoch 81/200\n",
            "100/100 [==============================] - 0s 267us/step - loss: 0.2748 - acc: 0.9700 - val_loss: 0.3148 - val_acc: 0.9800\n",
            "Epoch 82/200\n",
            "100/100 [==============================] - 0s 272us/step - loss: 0.2707 - acc: 0.9700 - val_loss: 0.3120 - val_acc: 0.9800\n",
            "Epoch 83/200\n",
            "100/100 [==============================] - 0s 264us/step - loss: 0.2694 - acc: 0.9600 - val_loss: 0.3101 - val_acc: 1.0000\n",
            "Epoch 84/200\n",
            "100/100 [==============================] - 0s 248us/step - loss: 0.2654 - acc: 0.9700 - val_loss: 0.3064 - val_acc: 0.9800\n",
            "Epoch 85/200\n",
            "100/100 [==============================] - 0s 268us/step - loss: 0.2643 - acc: 0.9700 - val_loss: 0.3034 - val_acc: 0.9800\n",
            "Epoch 86/200\n",
            "100/100 [==============================] - 0s 250us/step - loss: 0.2612 - acc: 0.9700 - val_loss: 0.3006 - val_acc: 0.9800\n",
            "Epoch 87/200\n",
            "100/100 [==============================] - 0s 290us/step - loss: 0.2578 - acc: 0.9700 - val_loss: 0.2980 - val_acc: 0.9800\n",
            "Epoch 88/200\n",
            "100/100 [==============================] - 0s 241us/step - loss: 0.2557 - acc: 0.9600 - val_loss: 0.2958 - val_acc: 1.0000\n",
            "Epoch 89/200\n",
            "100/100 [==============================] - 0s 301us/step - loss: 0.2529 - acc: 0.9700 - val_loss: 0.2924 - val_acc: 0.9800\n",
            "Epoch 90/200\n",
            "100/100 [==============================] - 0s 267us/step - loss: 0.2505 - acc: 0.9700 - val_loss: 0.2904 - val_acc: 0.9800\n",
            "Epoch 91/200\n",
            "100/100 [==============================] - 0s 311us/step - loss: 0.2494 - acc: 0.9700 - val_loss: 0.2876 - val_acc: 0.9800\n",
            "Epoch 92/200\n",
            "100/100 [==============================] - 0s 250us/step - loss: 0.2459 - acc: 0.9700 - val_loss: 0.2850 - val_acc: 0.9800\n",
            "Epoch 93/200\n",
            "100/100 [==============================] - 0s 264us/step - loss: 0.2436 - acc: 0.9600 - val_loss: 0.2831 - val_acc: 1.0000\n",
            "Epoch 94/200\n",
            "100/100 [==============================] - 0s 262us/step - loss: 0.2408 - acc: 0.9600 - val_loss: 0.2802 - val_acc: 0.9800\n",
            "Epoch 95/200\n",
            "100/100 [==============================] - 0s 269us/step - loss: 0.2399 - acc: 0.9700 - val_loss: 0.2777 - val_acc: 0.9800\n",
            "Epoch 96/200\n",
            "100/100 [==============================] - 0s 243us/step - loss: 0.2366 - acc: 0.9600 - val_loss: 0.2761 - val_acc: 0.9800\n",
            "Epoch 97/200\n",
            "100/100 [==============================] - 0s 276us/step - loss: 0.2346 - acc: 0.9600 - val_loss: 0.2734 - val_acc: 0.9800\n",
            "Epoch 98/200\n",
            "100/100 [==============================] - 0s 289us/step - loss: 0.2337 - acc: 0.9700 - val_loss: 0.2708 - val_acc: 0.9800\n",
            "Epoch 99/200\n",
            "100/100 [==============================] - 0s 250us/step - loss: 0.2301 - acc: 0.9700 - val_loss: 0.2691 - val_acc: 0.9800\n",
            "Epoch 100/200\n",
            "100/100 [==============================] - 0s 289us/step - loss: 0.2291 - acc: 0.9600 - val_loss: 0.2668 - val_acc: 0.9800\n",
            "Epoch 101/200\n",
            "100/100 [==============================] - 0s 298us/step - loss: 0.2273 - acc: 0.9700 - val_loss: 0.2645 - val_acc: 0.9800\n",
            "Epoch 102/200\n",
            "100/100 [==============================] - 0s 247us/step - loss: 0.2257 - acc: 0.9600 - val_loss: 0.2625 - val_acc: 0.9800\n",
            "Epoch 103/200\n",
            "100/100 [==============================] - 0s 264us/step - loss: 0.2224 - acc: 0.9600 - val_loss: 0.2620 - val_acc: 1.0000\n",
            "Epoch 104/200\n",
            "100/100 [==============================] - 0s 272us/step - loss: 0.2210 - acc: 0.9600 - val_loss: 0.2585 - val_acc: 0.9800\n",
            "Epoch 105/200\n",
            "100/100 [==============================] - 0s 265us/step - loss: 0.2187 - acc: 0.9700 - val_loss: 0.2564 - val_acc: 0.9800\n",
            "Epoch 106/200\n",
            "100/100 [==============================] - 0s 273us/step - loss: 0.2167 - acc: 0.9700 - val_loss: 0.2549 - val_acc: 0.9800\n",
            "Epoch 107/200\n",
            "100/100 [==============================] - 0s 273us/step - loss: 0.2155 - acc: 0.9600 - val_loss: 0.2535 - val_acc: 1.0000\n",
            "Epoch 108/200\n",
            "100/100 [==============================] - 0s 261us/step - loss: 0.2136 - acc: 0.9700 - val_loss: 0.2507 - val_acc: 0.9800\n",
            "Epoch 109/200\n",
            "100/100 [==============================] - 0s 270us/step - loss: 0.2133 - acc: 0.9600 - val_loss: 0.2488 - val_acc: 0.9800\n",
            "Epoch 110/200\n",
            "100/100 [==============================] - 0s 300us/step - loss: 0.2109 - acc: 0.9700 - val_loss: 0.2473 - val_acc: 0.9800\n",
            "Epoch 111/200\n",
            "100/100 [==============================] - 0s 257us/step - loss: 0.2088 - acc: 0.9700 - val_loss: 0.2461 - val_acc: 1.0000\n",
            "Epoch 112/200\n",
            "100/100 [==============================] - 0s 283us/step - loss: 0.2079 - acc: 0.9700 - val_loss: 0.2441 - val_acc: 0.9800\n",
            "Epoch 113/200\n",
            "100/100 [==============================] - 0s 239us/step - loss: 0.2083 - acc: 0.9600 - val_loss: 0.2418 - val_acc: 0.9800\n",
            "Epoch 114/200\n",
            "100/100 [==============================] - 0s 317us/step - loss: 0.2033 - acc: 0.9700 - val_loss: 0.2408 - val_acc: 0.9800\n",
            "Epoch 115/200\n",
            "100/100 [==============================] - 0s 272us/step - loss: 0.2027 - acc: 0.9700 - val_loss: 0.2390 - val_acc: 0.9800\n",
            "Epoch 116/200\n",
            "100/100 [==============================] - 0s 265us/step - loss: 0.2005 - acc: 0.9700 - val_loss: 0.2372 - val_acc: 0.9800\n",
            "Epoch 117/200\n",
            "100/100 [==============================] - 0s 257us/step - loss: 0.2010 - acc: 0.9700 - val_loss: 0.2354 - val_acc: 0.9800\n",
            "Epoch 118/200\n",
            "100/100 [==============================] - 0s 284us/step - loss: 0.2031 - acc: 0.9700 - val_loss: 0.2364 - val_acc: 1.0000\n",
            "Epoch 119/200\n",
            "100/100 [==============================] - 0s 245us/step - loss: 0.1991 - acc: 0.9700 - val_loss: 0.2325 - val_acc: 0.9800\n",
            "Epoch 120/200\n",
            "100/100 [==============================] - 0s 318us/step - loss: 0.1966 - acc: 0.9600 - val_loss: 0.2320 - val_acc: 1.0000\n",
            "Epoch 121/200\n",
            "100/100 [==============================] - 0s 294us/step - loss: 0.1934 - acc: 0.9700 - val_loss: 0.2292 - val_acc: 0.9800\n",
            "Epoch 122/200\n",
            "100/100 [==============================] - 0s 282us/step - loss: 0.1922 - acc: 0.9700 - val_loss: 0.2277 - val_acc: 0.9800\n",
            "Epoch 123/200\n",
            "100/100 [==============================] - 0s 284us/step - loss: 0.1913 - acc: 0.9600 - val_loss: 0.2270 - val_acc: 0.9800\n",
            "Epoch 124/200\n",
            "100/100 [==============================] - 0s 271us/step - loss: 0.1895 - acc: 0.9600 - val_loss: 0.2248 - val_acc: 0.9800\n",
            "Epoch 125/200\n",
            "100/100 [==============================] - 0s 258us/step - loss: 0.1887 - acc: 0.9700 - val_loss: 0.2238 - val_acc: 0.9800\n",
            "Epoch 126/200\n",
            "100/100 [==============================] - 0s 263us/step - loss: 0.1875 - acc: 0.9600 - val_loss: 0.2221 - val_acc: 0.9800\n",
            "Epoch 127/200\n",
            "100/100 [==============================] - 0s 287us/step - loss: 0.1856 - acc: 0.9600 - val_loss: 0.2219 - val_acc: 1.0000\n",
            "Epoch 128/200\n",
            "100/100 [==============================] - 0s 266us/step - loss: 0.1868 - acc: 0.9800 - val_loss: 0.2208 - val_acc: 1.0000\n",
            "Epoch 129/200\n",
            "100/100 [==============================] - 0s 290us/step - loss: 0.1835 - acc: 0.9700 - val_loss: 0.2179 - val_acc: 0.9800\n",
            "Epoch 130/200\n",
            "100/100 [==============================] - 0s 265us/step - loss: 0.1849 - acc: 0.9600 - val_loss: 0.2172 - val_acc: 0.9800\n",
            "Epoch 131/200\n",
            "100/100 [==============================] - 0s 282us/step - loss: 0.1829 - acc: 0.9600 - val_loss: 0.2153 - val_acc: 0.9800\n",
            "Epoch 132/200\n",
            "100/100 [==============================] - 0s 320us/step - loss: 0.1812 - acc: 0.9700 - val_loss: 0.2143 - val_acc: 0.9800\n",
            "Epoch 133/200\n",
            "100/100 [==============================] - 0s 269us/step - loss: 0.1820 - acc: 0.9900 - val_loss: 0.2156 - val_acc: 1.0000\n",
            "Epoch 134/200\n",
            "100/100 [==============================] - 0s 266us/step - loss: 0.1771 - acc: 0.9700 - val_loss: 0.2126 - val_acc: 1.0000\n",
            "Epoch 135/200\n",
            "100/100 [==============================] - 0s 271us/step - loss: 0.1765 - acc: 0.9600 - val_loss: 0.2106 - val_acc: 0.9800\n",
            "Epoch 136/200\n",
            "100/100 [==============================] - 0s 261us/step - loss: 0.1754 - acc: 0.9600 - val_loss: 0.2093 - val_acc: 0.9800\n",
            "Epoch 137/200\n",
            "100/100 [==============================] - 0s 306us/step - loss: 0.1747 - acc: 0.9700 - val_loss: 0.2081 - val_acc: 0.9800\n",
            "Epoch 138/200\n",
            "100/100 [==============================] - 0s 327us/step - loss: 0.1733 - acc: 0.9600 - val_loss: 0.2076 - val_acc: 0.9800\n",
            "Epoch 139/200\n",
            "100/100 [==============================] - 0s 279us/step - loss: 0.1723 - acc: 0.9600 - val_loss: 0.2067 - val_acc: 0.9800\n",
            "Epoch 140/200\n",
            "100/100 [==============================] - 0s 249us/step - loss: 0.1723 - acc: 0.9600 - val_loss: 0.2045 - val_acc: 0.9800\n",
            "Epoch 141/200\n",
            "100/100 [==============================] - 0s 257us/step - loss: 0.1696 - acc: 0.9700 - val_loss: 0.2043 - val_acc: 0.9800\n",
            "Epoch 142/200\n",
            "100/100 [==============================] - 0s 277us/step - loss: 0.1693 - acc: 0.9600 - val_loss: 0.2036 - val_acc: 1.0000\n",
            "Epoch 143/200\n",
            "100/100 [==============================] - 0s 268us/step - loss: 0.1688 - acc: 0.9700 - val_loss: 0.2030 - val_acc: 1.0000\n",
            "Epoch 144/200\n",
            "100/100 [==============================] - 0s 290us/step - loss: 0.1692 - acc: 0.9600 - val_loss: 0.2001 - val_acc: 0.9800\n",
            "Epoch 145/200\n",
            "100/100 [==============================] - 0s 267us/step - loss: 0.1658 - acc: 0.9700 - val_loss: 0.1995 - val_acc: 0.9800\n",
            "Epoch 146/200\n",
            "100/100 [==============================] - 0s 284us/step - loss: 0.1656 - acc: 0.9700 - val_loss: 0.1995 - val_acc: 1.0000\n",
            "Epoch 147/200\n",
            "100/100 [==============================] - 0s 262us/step - loss: 0.1654 - acc: 0.9600 - val_loss: 0.1980 - val_acc: 0.9800\n",
            "Epoch 148/200\n",
            "100/100 [==============================] - 0s 263us/step - loss: 0.1638 - acc: 0.9600 - val_loss: 0.1963 - val_acc: 0.9800\n",
            "Epoch 149/200\n",
            "100/100 [==============================] - 0s 266us/step - loss: 0.1628 - acc: 0.9600 - val_loss: 0.1960 - val_acc: 0.9800\n",
            "Epoch 150/200\n",
            "100/100 [==============================] - 0s 267us/step - loss: 0.1630 - acc: 0.9700 - val_loss: 0.1957 - val_acc: 1.0000\n",
            "Epoch 151/200\n",
            "100/100 [==============================] - 0s 239us/step - loss: 0.1609 - acc: 0.9700 - val_loss: 0.1931 - val_acc: 0.9800\n",
            "Epoch 152/200\n",
            "100/100 [==============================] - 0s 260us/step - loss: 0.1629 - acc: 0.9700 - val_loss: 0.1940 - val_acc: 1.0000\n",
            "Epoch 153/200\n",
            "100/100 [==============================] - 0s 292us/step - loss: 0.1591 - acc: 0.9800 - val_loss: 0.1912 - val_acc: 0.9800\n",
            "Epoch 154/200\n",
            "100/100 [==============================] - 0s 265us/step - loss: 0.1586 - acc: 0.9600 - val_loss: 0.1909 - val_acc: 0.9800\n",
            "Epoch 155/200\n",
            "100/100 [==============================] - 0s 271us/step - loss: 0.1573 - acc: 0.9600 - val_loss: 0.1901 - val_acc: 0.9800\n",
            "Epoch 156/200\n",
            "100/100 [==============================] - 0s 261us/step - loss: 0.1563 - acc: 0.9700 - val_loss: 0.1892 - val_acc: 0.9800\n",
            "Epoch 157/200\n",
            "100/100 [==============================] - 0s 253us/step - loss: 0.1576 - acc: 0.9600 - val_loss: 0.1876 - val_acc: 0.9800\n",
            "Epoch 158/200\n",
            "100/100 [==============================] - 0s 248us/step - loss: 0.1555 - acc: 0.9600 - val_loss: 0.1885 - val_acc: 1.0000\n",
            "Epoch 159/200\n",
            "100/100 [==============================] - 0s 255us/step - loss: 0.1546 - acc: 0.9700 - val_loss: 0.1869 - val_acc: 1.0000\n",
            "Epoch 160/200\n",
            "100/100 [==============================] - 0s 279us/step - loss: 0.1544 - acc: 0.9700 - val_loss: 0.1847 - val_acc: 0.9800\n",
            "Epoch 161/200\n",
            "100/100 [==============================] - 0s 272us/step - loss: 0.1527 - acc: 0.9700 - val_loss: 0.1849 - val_acc: 0.9800\n",
            "Epoch 162/200\n",
            "100/100 [==============================] - 0s 266us/step - loss: 0.1524 - acc: 0.9600 - val_loss: 0.1838 - val_acc: 0.9800\n",
            "Epoch 163/200\n",
            "100/100 [==============================] - 0s 252us/step - loss: 0.1516 - acc: 0.9600 - val_loss: 0.1827 - val_acc: 0.9800\n",
            "Epoch 164/200\n",
            "100/100 [==============================] - 0s 251us/step - loss: 0.1503 - acc: 0.9600 - val_loss: 0.1819 - val_acc: 0.9800\n",
            "Epoch 165/200\n",
            "100/100 [==============================] - 0s 266us/step - loss: 0.1493 - acc: 0.9600 - val_loss: 0.1807 - val_acc: 0.9800\n",
            "Epoch 166/200\n",
            "100/100 [==============================] - 0s 295us/step - loss: 0.1493 - acc: 0.9700 - val_loss: 0.1813 - val_acc: 1.0000\n",
            "Epoch 167/200\n",
            "100/100 [==============================] - 0s 262us/step - loss: 0.1481 - acc: 0.9600 - val_loss: 0.1788 - val_acc: 0.9800\n",
            "Epoch 168/200\n",
            "100/100 [==============================] - 0s 300us/step - loss: 0.1483 - acc: 0.9600 - val_loss: 0.1791 - val_acc: 0.9800\n",
            "Epoch 169/200\n",
            "100/100 [==============================] - 0s 281us/step - loss: 0.1465 - acc: 0.9700 - val_loss: 0.1776 - val_acc: 0.9800\n",
            "Epoch 170/200\n",
            "100/100 [==============================] - 0s 265us/step - loss: 0.1461 - acc: 0.9600 - val_loss: 0.1768 - val_acc: 0.9800\n",
            "Epoch 171/200\n",
            "100/100 [==============================] - 0s 274us/step - loss: 0.1453 - acc: 0.9600 - val_loss: 0.1757 - val_acc: 0.9800\n",
            "Epoch 172/200\n",
            "100/100 [==============================] - 0s 255us/step - loss: 0.1462 - acc: 0.9700 - val_loss: 0.1761 - val_acc: 0.9800\n",
            "Epoch 173/200\n",
            "100/100 [==============================] - 0s 255us/step - loss: 0.1435 - acc: 0.9600 - val_loss: 0.1747 - val_acc: 0.9800\n",
            "Epoch 174/200\n",
            "100/100 [==============================] - 0s 258us/step - loss: 0.1433 - acc: 0.9600 - val_loss: 0.1736 - val_acc: 0.9800\n",
            "Epoch 175/200\n",
            "100/100 [==============================] - 0s 285us/step - loss: 0.1422 - acc: 0.9600 - val_loss: 0.1730 - val_acc: 0.9800\n",
            "Epoch 176/200\n",
            "100/100 [==============================] - 0s 322us/step - loss: 0.1422 - acc: 0.9600 - val_loss: 0.1720 - val_acc: 0.9800\n",
            "Epoch 177/200\n",
            "100/100 [==============================] - 0s 235us/step - loss: 0.1421 - acc: 0.9700 - val_loss: 0.1723 - val_acc: 0.9800\n",
            "Epoch 178/200\n",
            "100/100 [==============================] - 0s 243us/step - loss: 0.1423 - acc: 0.9700 - val_loss: 0.1733 - val_acc: 1.0000\n",
            "Epoch 179/200\n",
            "100/100 [==============================] - 0s 256us/step - loss: 0.1403 - acc: 0.9600 - val_loss: 0.1698 - val_acc: 0.9800\n",
            "Epoch 180/200\n",
            "100/100 [==============================] - 0s 262us/step - loss: 0.1402 - acc: 0.9600 - val_loss: 0.1692 - val_acc: 0.9800\n",
            "Epoch 181/200\n",
            "100/100 [==============================] - 0s 274us/step - loss: 0.1394 - acc: 0.9600 - val_loss: 0.1686 - val_acc: 0.9800\n",
            "Epoch 182/200\n",
            "100/100 [==============================] - 0s 273us/step - loss: 0.1382 - acc: 0.9700 - val_loss: 0.1687 - val_acc: 0.9800\n",
            "Epoch 183/200\n",
            "100/100 [==============================] - 0s 313us/step - loss: 0.1377 - acc: 0.9700 - val_loss: 0.1684 - val_acc: 0.9800\n",
            "Epoch 184/200\n",
            "100/100 [==============================] - 0s 277us/step - loss: 0.1370 - acc: 0.9600 - val_loss: 0.1672 - val_acc: 0.9800\n",
            "Epoch 185/200\n",
            "100/100 [==============================] - 0s 276us/step - loss: 0.1360 - acc: 0.9700 - val_loss: 0.1666 - val_acc: 0.9800\n",
            "Epoch 186/200\n",
            "100/100 [==============================] - 0s 263us/step - loss: 0.1357 - acc: 0.9600 - val_loss: 0.1657 - val_acc: 0.9800\n",
            "Epoch 187/200\n",
            "100/100 [==============================] - 0s 266us/step - loss: 0.1353 - acc: 0.9700 - val_loss: 0.1647 - val_acc: 0.9800\n",
            "Epoch 188/200\n",
            "100/100 [==============================] - 0s 260us/step - loss: 0.1344 - acc: 0.9600 - val_loss: 0.1643 - val_acc: 0.9800\n",
            "Epoch 189/200\n",
            "100/100 [==============================] - 0s 249us/step - loss: 0.1375 - acc: 0.9700 - val_loss: 0.1644 - val_acc: 0.9800\n",
            "Epoch 190/200\n",
            "100/100 [==============================] - 0s 297us/step - loss: 0.1327 - acc: 0.9700 - val_loss: 0.1631 - val_acc: 0.9800\n",
            "Epoch 191/200\n",
            "100/100 [==============================] - 0s 347us/step - loss: 0.1328 - acc: 0.9600 - val_loss: 0.1620 - val_acc: 0.9800\n",
            "Epoch 192/200\n",
            "100/100 [==============================] - 0s 248us/step - loss: 0.1324 - acc: 0.9600 - val_loss: 0.1618 - val_acc: 0.9800\n",
            "Epoch 193/200\n",
            "100/100 [==============================] - 0s 246us/step - loss: 0.1325 - acc: 0.9600 - val_loss: 0.1613 - val_acc: 0.9800\n",
            "Epoch 194/200\n",
            "100/100 [==============================] - 0s 258us/step - loss: 0.1317 - acc: 0.9700 - val_loss: 0.1607 - val_acc: 0.9800\n",
            "Epoch 195/200\n",
            "100/100 [==============================] - 0s 303us/step - loss: 0.1304 - acc: 0.9600 - val_loss: 0.1597 - val_acc: 0.9800\n",
            "Epoch 196/200\n",
            "100/100 [==============================] - 0s 274us/step - loss: 0.1306 - acc: 0.9600 - val_loss: 0.1593 - val_acc: 0.9800\n",
            "Epoch 197/200\n",
            "100/100 [==============================] - 0s 273us/step - loss: 0.1299 - acc: 0.9700 - val_loss: 0.1597 - val_acc: 0.9800\n",
            "Epoch 198/200\n",
            "100/100 [==============================] - 0s 287us/step - loss: 0.1291 - acc: 0.9700 - val_loss: 0.1579 - val_acc: 0.9800\n",
            "Epoch 199/200\n",
            "100/100 [==============================] - 0s 277us/step - loss: 0.1308 - acc: 0.9600 - val_loss: 0.1589 - val_acc: 1.0000\n",
            "Epoch 200/200\n",
            "100/100 [==============================] - 0s 263us/step - loss: 0.1287 - acc: 0.9700 - val_loss: 0.1568 - val_acc: 0.9800\n"
          ],
          "name": "stdout"
        }
      ]
    },
    {
      "cell_type": "code",
      "metadata": {
        "id": "BwYPK696zTqu",
        "colab_type": "code",
        "outputId": "3faecccf-79d7-4cb0-d5d7-5c02e5684ead",
        "colab": {
          "base_uri": "https://localhost:8080/",
          "height": 621
        }
      },
      "source": [
        "plot_acc_loss(history)"
      ],
      "execution_count": 28,
      "outputs": [
        {
          "output_type": "display_data",
          "data": {
            "image/png": "[encoded data removed]",
            "text/plain": [
              "<Figure size 720x720 with 2 Axes>"
            ]
          },
          "metadata": {
            "tags": []
          }
        }
      ]
    },
    {
      "cell_type": "markdown",
      "metadata": {
        "id": "vw2wWtw5zTqy",
        "colab_type": "text"
      },
      "source": [
        "### Evaluate the model\n",
        "Now that we have trained our model, we can evaluate the performance on the test data."
      ]
    },
    {
      "cell_type": "code",
      "metadata": {
        "id": "KQtZLcOdzTq0",
        "colab_type": "code",
        "outputId": "894f2bd5-c716-46f1-bb8b-fb160561acff",
        "colab": {
          "base_uri": "https://localhost:8080/",
          "height": 85
        }
      },
      "source": [
        "scores = model.evaluate(X, y_one_hot_encoded)\n",
        "print(\"\\n\\n{0}: {1:.2f}%\".format(model.metrics_names[1], scores[1]*100))"
      ],
      "execution_count": 29,
      "outputs": [
        {
          "output_type": "stream",
          "text": [
            "150/150 [==============================] - 0s 44us/step\n",
            "\n",
            "\n",
            "acc: 96.67%\n"
          ],
          "name": "stdout"
        }
      ]
    },
    {
      "cell_type": "code",
      "metadata": {
        "id": "PEnF0buSzTq4",
        "colab_type": "code",
        "colab": {
          "base_uri": "https://localhost:8080/",
          "height": 68
        },
        "outputId": "536032ef-6786-47a5-96b4-5cc638448f79"
      },
      "source": [
        "y_pred = model.predict_classes(X)\n",
        "matrix = metrics.confusion_matrix(y_encoded, y_pred) # (y_true,y_pred)\n",
        "print(matrix)"
      ],
      "execution_count": 31,
      "outputs": [
        {
          "output_type": "stream",
          "text": [
            "[[50  0  0]\n",
            " [ 0 46  4]\n",
            " [ 0  1 49]]\n"
          ],
          "name": "stdout"
        }
      ]
    },
    {
      "cell_type": "code",
      "metadata": {
        "id": "IhOFX6LUzTrD",
        "colab_type": "code",
        "outputId": "408524c3-d008-4514-b80e-f56fc7ba3fd8",
        "colab": {
          "base_uri": "https://localhost:8080/",
          "height": 34
        }
      },
      "source": [
        "print(\"acc: {0:.2f}%\".format(((50+46+49)/(50+46+49+1+4))*100))"
      ],
      "execution_count": 37,
      "outputs": [
        {
          "output_type": "stream",
          "text": [
            "acc: 96.67%\n"
          ],
          "name": "stdout"
        }
      ]
    }
  ]
}