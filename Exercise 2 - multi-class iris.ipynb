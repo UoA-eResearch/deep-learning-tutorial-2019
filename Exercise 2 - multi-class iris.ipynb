{
  "nbformat": 4,
  "nbformat_minor": 0,
  "metadata": {
    "colab": {
      "name": "Exercise 2 - multi-class iris.ipynb",
      "version": "0.3.2",
      "provenance": [],
      "include_colab_link": true
    },
    "language_info": {
      "codemirror_mode": {
        "name": "ipython",
        "version": 3
      },
      "file_extension": ".py",
      "mimetype": "text/x-python",
      "name": "python",
      "nbconvert_exporter": "python",
      "pygments_lexer": "ipython3",
      "version": "3.6.8"
    },
    "kernelspec": {
      "display_name": "Python 3",
      "language": "python",
      "name": "python3"
    }
  },
  "cells": [
    {
      "cell_type": "markdown",
      "metadata": {
        "id": "view-in-github",
        "colab_type": "text"
      },
      "source": [
        "<a href=\"https://colab.research.google.com/github/UoA-eResearch/deep-learning-tutorial-2019/blob/master/Exercise%202%20-%20multi-class%20iris.ipynb\" target=\"_parent\"><img src=\"https://colab.research.google.com/assets/colab-badge.svg\" alt=\"Open In Colab\"/></a>"
      ]
    },
    {
      "cell_type": "markdown",
      "metadata": {
        "id": "xPQTvjnTzTqM",
        "colab_type": "text"
      },
      "source": [
        "## Exercise 2: The Iris Dataset\n",
        "In this exercise we will create a neural network to classify 3 different types of Iris (Setosa, Versicolor and Virginica) based on their sepal length, sepal width, petal length and petal width.\n",
        "\n",
        "![Irises](http://dataaspirant.com/wp-content/uploads/2017/01/irises.png)\n",
        "\n",
        "This is a multi class classification problem. It is similar to the Pima Indian's binary classification exercise, but with three classes to predict instead of two."
      ]
    },
    {
      "cell_type": "markdown",
      "metadata": {
        "id": "l6B9pUqCzTqO",
        "colab_type": "text"
      },
      "source": [
        "### Import dependencies\n",
        "Start by importing the dependencies we will need for the project. In the last exercise we imported depedencies piece by piece to provide a better idea of what they do but typically it's better to organise them at the top of your code."
      ]
    },
    {
      "cell_type": "code",
      "metadata": {
        "id": "JB8CJHppzTqP",
        "colab_type": "code",
        "colab": {}
      },
      "source": [
        "from keras.models import Sequential\n",
        "from keras.layers import Dense\n",
        "import numpy as np\n",
        "from sklearn.model_selection import train_test_split\n",
        "from sklearn.preprocessing import LabelEncoder\n",
        "from keras.utils import np_utils\n",
        "import matplotlib.pyplot as plt\n",
        "from sklearn import metrics\n",
        "import seaborn as sns"
      ],
      "execution_count": 0,
      "outputs": []
    },
    {
      "cell_type": "markdown",
      "metadata": {
        "id": "OxNqXnJTzTqY",
        "colab_type": "text"
      },
      "source": [
        "### Import data\n",
        "The Iris dataset contains four features from 150 different Iris flowers. The features in the dataset are described below.\n",
        "\n",
        "* Sepal length (cm)\n",
        "* Sepal width (cm)\n",
        "* Petal length (cm)\n",
        "* Petal width (cm)\n",
        "* Class: Iris setosa, Iris versicolor or Iris virginica\n",
        "\n",
        "Sepals are the part of a flower that protect and support the petals. The petals surround the reproductive parts of the flower.\n",
        "\n",
        "![Iris labeled](http://terpconnect.umd.edu/~petersd/666/html/iris_with_labels.jpg)\n",
        "\n",
        "A snapshot of the dataset is illustrated below (not in order).\n",
        "\n",
        "|Sepal Length|Sepal Width|Petal Length|Petal Width|Class|\n",
        "|---|---|---|---|-----------|\n",
        "|5.1|3.5|1.4|0.2|Iris-setosa|\n",
        "|4.9|3.0|1.4|0.2|Iris-setosa|\n",
        "|7.0|3.2|4.7|1.4|Iris-versicolor|\n",
        "|6.4|3.2|4.5|1.5|Iris-versicolor|\n",
        "|6.3|3.3|6.0|2.5|Iris-virginica|\n",
        "|5.8|2.7|5.1|1.9|Iris-virginica|\n",
        "\n",
        "To load this data into memory, use the `np.loadtxt` function. The data type (`dtype`) is set to `str` because our input data is a mix of numbers and strings. This will be dealt with when we split the data."
      ]
    },
    {
      "cell_type": "code",
      "metadata": {
        "id": "-wYz6SEDzTqY",
        "colab_type": "code",
        "outputId": "9af1f7bb-e456-4fa3-d804-b3c799d49355",
        "colab": {
          "base_uri": "https://localhost:8080/",
          "height": 119
        }
      },
      "source": [
        "data = np.loadtxt('https://raw.githubusercontent.com/UoA-eResearch/deep-learning-tutorial-2019/master/data/iris.csv', delimiter=\",\", dtype=str)\n",
        "print(data[:6]) #Show the first 6 rows"
      ],
      "execution_count": 435,
      "outputs": [
        {
          "output_type": "stream",
          "text": [
            "[['5.1' '3.5' '1.4' '0.2' 'Iris-setosa']\n",
            " ['4.9' '3.0' '1.4' '0.2' 'Iris-setosa']\n",
            " ['4.7' '3.2' '1.3' '0.2' 'Iris-setosa']\n",
            " ['4.6' '3.1' '1.5' '0.2' 'Iris-setosa']\n",
            " ['5.0' '3.6' '1.4' '0.2' 'Iris-setosa']\n",
            " ['5.4' '3.9' '1.7' '0.4' 'Iris-setosa']]\n"
          ],
          "name": "stdout"
        }
      ]
    },
    {
      "cell_type": "markdown",
      "metadata": {
        "id": "KGLO13AQzTqb",
        "colab_type": "text"
      },
      "source": [
        "Separate the data into input (X) and output (y) variables.\n",
        "\n",
        "Note that we convert the input data into floats."
      ]
    },
    {
      "cell_type": "code",
      "metadata": {
        "id": "y-EcR4awzTqb",
        "colab_type": "code",
        "colab": {
          "base_uri": "https://localhost:8080/",
          "height": 51
        },
        "outputId": "63e15913-6c0f-494c-8658-6b30c8c4aa88"
      },
      "source": [
        "X = data[:, 0:4].astype(float) # No row splitting present hence the leading semicolon, splitting in columns\n",
        "y = data[:, 4]\n",
        "\n",
        "print('First X element: ', X[1])\n",
        "print('First y element: ', y[1])"
      ],
      "execution_count": 436,
      "outputs": [
        {
          "output_type": "stream",
          "text": [
            "First X element:  [4.9 3.  1.4 0.2]\n",
            "First y element:  Iris-setosa\n"
          ],
          "name": "stdout"
        }
      ]
    },
    {
      "cell_type": "markdown",
      "metadata": {
        "id": "A2zYDMAbzTqd",
        "colab_type": "text"
      },
      "source": [
        "If you look carefully at the target values, you will notice that they are strings, i.e. 'Iris-setosa', 'Iris-versicolor' and 'Iris-virginica'.\n",
        "\n",
        "**Keras needs numbers or matrices to work with, so we will need to reformat the target values.**\n",
        "\n",
        "The problem with converting the class values to numbers (e.g. 'Iris-setosa' becomes 0, 'Iris-versicolor' 1 etc) is that it implies that the target values are ordinal. That is, 'Iris-setosa' is somehow less than 'Iris-versicolor', which is not the case for this dataset.\n",
        "\n",
        "A better way to represent classes in a multi-class classification problem, is to 'one hot encode' the target values. An example is shown below. A matrix of zeros is generated. Each row corresponds to a sample and each column corresponds to a particular class. A 1 is placed into the column to incidicate the class that it belongs too.\n",
        "\n",
        "|Iris-setosa|Iris-versicolor|Iris-virginica|\n",
        "|---|---|---|\n",
        "|1|0|0|\n",
        "|0|1|0|\n",
        "|0|0|1|\n",
        "\n",
        "One hot encoding is a two step process. First encode the target values (y) into an array of numbers using the `LabelEncoder` from scikit-learn and then one hot encode the numbers with the `np_utils.to_categorical` function."
      ]
    },
    {
      "cell_type": "code",
      "metadata": {
        "id": "QmReXRywzTqe",
        "colab_type": "code",
        "outputId": "8c44d3bb-73b1-4f55-bca1-afbcce61da89",
        "colab": {
          "base_uri": "https://localhost:8080/",
          "height": 34
        }
      },
      "source": [
        "y_encoded = LabelEncoder().fit(y).transform(y) # Convert the classes into numbers\n",
        "y_encoded[45:55]"
      ],
      "execution_count": 437,
      "outputs": [
        {
          "output_type": "execute_result",
          "data": {
            "text/plain": [
              "array([0, 0, 0, 0, 0, 1, 1, 1, 1, 1])"
            ]
          },
          "metadata": {
            "tags": []
          },
          "execution_count": 437
        }
      ]
    },
    {
      "cell_type": "code",
      "metadata": {
        "id": "jQgfvZcfzTqi",
        "colab_type": "code",
        "outputId": "b78d224f-8685-4f4d-e4fd-3aea18e788b8",
        "colab": {
          "base_uri": "https://localhost:8080/",
          "height": 187
        }
      },
      "source": [
        "y_one_hot_encoded = np_utils.to_categorical(y_encoded) # One hot encode the numbers\n",
        "y_one_hot_encoded[45:55]"
      ],
      "execution_count": 438,
      "outputs": [
        {
          "output_type": "execute_result",
          "data": {
            "text/plain": [
              "array([[1., 0., 0.],\n",
              "       [1., 0., 0.],\n",
              "       [1., 0., 0.],\n",
              "       [1., 0., 0.],\n",
              "       [1., 0., 0.],\n",
              "       [0., 1., 0.],\n",
              "       [0., 1., 0.],\n",
              "       [0., 1., 0.],\n",
              "       [0., 1., 0.],\n",
              "       [0., 1., 0.]], dtype=float32)"
            ]
          },
          "metadata": {
            "tags": []
          },
          "execution_count": 438
        }
      ]
    },
    {
      "cell_type": "markdown",
      "metadata": {
        "id": "CMbd6-LV9Rm_",
        "colab_type": "text"
      },
      "source": [
        "### Set seed\n",
        "Set a seed value so that when we repeatedly run our code we will get the same result. Using the same seed is important when you want to compare algorithms."
      ]
    },
    {
      "cell_type": "code",
      "metadata": {
        "id": "FvjmpbYM9UN7",
        "colab_type": "code",
        "colab": {}
      },
      "source": [
        "seed = 7\n",
        "np.random.seed(seed)"
      ],
      "execution_count": 0,
      "outputs": []
    },
    {
      "cell_type": "markdown",
      "metadata": {
        "id": "O9s47Jx9zTqk",
        "colab_type": "text"
      },
      "source": [
        "Like the previous exercise, use the `train_test_split` function from scikit-learn to split the input and target data into training, validation and test datasets."
      ]
    },
    {
      "cell_type": "code",
      "metadata": {
        "id": "8qdeRm6LzTql",
        "colab_type": "code",
        "colab": {}
      },
      "source": [
        "X_train, X_test, y_train, y_test = train_test_split(X, y_one_hot_encoded, test_size=0.2, random_state=seed)\n",
        "\n",
        "X_train, X_val, y_train, y_val = train_test_split(X_train, y_train, test_size=0.2, random_state=seed)"
      ],
      "execution_count": 0,
      "outputs": []
    },
    {
      "cell_type": "markdown",
      "metadata": {
        "id": "9Gp1FcnQzTqn",
        "colab_type": "text"
      },
      "source": [
        "### Create the model\n",
        "The code snippet below creates a very basic neural network model, with three layers: an input layer, a hidden layer and an output layer.\n",
        "\n",
        "The first layer is a fully connected `Dense` layer. We use four neurons in the hidden layer and have 4 input neurons for the 4 features.\n",
        "\n",
        "The last layer has 3 neurons, one for each class.\n",
        "\n",
        "The kernel initializer is set to normal. This is our way of specifying the starting weights for the neurons in the network. There are many ways this can be set but we won't go into detail today."
      ]
    },
    {
      "cell_type": "code",
      "metadata": {
        "id": "hG9oXx6dzTqn",
        "colab_type": "code",
        "colab": {}
      },
      "source": [
        "model = Sequential()\n",
        "model.add(Dense(4, input_dim=4, activation='sigmoid', kernel_initializer='normal'))\n",
        "model.add(Dense(3, activation='sigmoid', kernel_initializer='normal'))"
      ],
      "execution_count": 0,
      "outputs": []
    },
    {
      "cell_type": "markdown",
      "metadata": {
        "id": "McwgpeyfzTqp",
        "colab_type": "text"
      },
      "source": [
        "### Compile the model\n",
        "We then compile the model. The loss function is set to `categorical_crossentropy` (different from the loss function used in the binary classification exercise) because we are performing multi-class classification."
      ]
    },
    {
      "cell_type": "code",
      "metadata": {
        "id": "F86R20yJzTqp",
        "colab_type": "code",
        "colab": {}
      },
      "source": [
        "model.compile(loss='categorical_crossentropy', optimizer='adam', metrics=['accuracy'])"
      ],
      "execution_count": 0,
      "outputs": []
    },
    {
      "cell_type": "markdown",
      "metadata": {
        "id": "Hr-3q6CEzTqs",
        "colab_type": "text"
      },
      "source": [
        "### Fit the model\n",
        "Now that we have compiled the model, we can train it with the data we prepared earlier. We are using more epochs but a smaller batch size than the previous exercise.\n",
        "\n",
        "To see the model training history in text, just don't include `verbose=0`"
      ]
    },
    {
      "cell_type": "code",
      "metadata": {
        "id": "t0ohIS-DzTqs",
        "colab_type": "code",
        "outputId": "f525e48e-3a52-4f98-f306-f99af5321f93",
        "colab": {
          "base_uri": "https://localhost:8080/",
          "height": 1000
        }
      },
      "source": [
        "history = model.fit(X_train, y_train, validation_data=(X_val, y_val), epochs=200, batch_size=5)"
      ],
      "execution_count": 443,
      "outputs": [
        {
          "output_type": "stream",
          "text": [
            "Train on 96 samples, validate on 24 samples\n",
            "Epoch 1/200\n",
            "96/96 [==============================] - 2s 19ms/step - loss: 1.0998 - acc: 0.3438 - val_loss: 1.0955 - val_acc: 0.4167\n",
            "Epoch 2/200\n",
            "96/96 [==============================] - 0s 344us/step - loss: 1.0990 - acc: 0.3438 - val_loss: 1.0956 - val_acc: 0.4167\n",
            "Epoch 3/200\n",
            "96/96 [==============================] - 0s 346us/step - loss: 1.0986 - acc: 0.3438 - val_loss: 1.0952 - val_acc: 0.4167\n",
            "Epoch 4/200\n",
            "96/96 [==============================] - 0s 334us/step - loss: 1.0980 - acc: 0.3438 - val_loss: 1.0956 - val_acc: 0.4167\n",
            "Epoch 5/200\n",
            "96/96 [==============================] - 0s 344us/step - loss: 1.0973 - acc: 0.3438 - val_loss: 1.0953 - val_acc: 0.4167\n",
            "Epoch 6/200\n",
            "96/96 [==============================] - 0s 361us/step - loss: 1.0968 - acc: 0.3438 - val_loss: 1.0952 - val_acc: 0.4167\n",
            "Epoch 7/200\n",
            "96/96 [==============================] - 0s 347us/step - loss: 1.0963 - acc: 0.3438 - val_loss: 1.0948 - val_acc: 0.4167\n",
            "Epoch 8/200\n",
            "96/96 [==============================] - 0s 349us/step - loss: 1.0958 - acc: 0.3438 - val_loss: 1.0940 - val_acc: 0.4167\n",
            "Epoch 9/200\n",
            "96/96 [==============================] - 0s 349us/step - loss: 1.0951 - acc: 0.3438 - val_loss: 1.0935 - val_acc: 0.4167\n",
            "Epoch 10/200\n",
            "96/96 [==============================] - 0s 362us/step - loss: 1.0942 - acc: 0.3438 - val_loss: 1.0930 - val_acc: 0.4583\n",
            "Epoch 11/200\n",
            "96/96 [==============================] - 0s 367us/step - loss: 1.0934 - acc: 0.3854 - val_loss: 1.0919 - val_acc: 0.4583\n",
            "Epoch 12/200\n",
            "96/96 [==============================] - 0s 422us/step - loss: 1.0925 - acc: 0.4792 - val_loss: 1.0910 - val_acc: 0.6667\n",
            "Epoch 13/200\n",
            "96/96 [==============================] - 0s 361us/step - loss: 1.0913 - acc: 0.4688 - val_loss: 1.0889 - val_acc: 0.5000\n",
            "Epoch 14/200\n",
            "96/96 [==============================] - 0s 350us/step - loss: 1.0899 - acc: 0.5833 - val_loss: 1.0877 - val_acc: 0.6667\n",
            "Epoch 15/200\n",
            "96/96 [==============================] - 0s 337us/step - loss: 1.0881 - acc: 0.6042 - val_loss: 1.0854 - val_acc: 0.6667\n",
            "Epoch 16/200\n",
            "96/96 [==============================] - 0s 358us/step - loss: 1.0862 - acc: 0.5625 - val_loss: 1.0826 - val_acc: 0.6250\n",
            "Epoch 17/200\n",
            "96/96 [==============================] - 0s 343us/step - loss: 1.0842 - acc: 0.6250 - val_loss: 1.0808 - val_acc: 0.6667\n",
            "Epoch 18/200\n",
            "96/96 [==============================] - 0s 359us/step - loss: 1.0813 - acc: 0.6354 - val_loss: 1.0768 - val_acc: 0.6667\n",
            "Epoch 19/200\n",
            "96/96 [==============================] - 0s 355us/step - loss: 1.0781 - acc: 0.6146 - val_loss: 1.0728 - val_acc: 0.6667\n",
            "Epoch 20/200\n",
            "96/96 [==============================] - 0s 367us/step - loss: 1.0748 - acc: 0.5417 - val_loss: 1.0678 - val_acc: 0.6250\n",
            "Epoch 21/200\n",
            "96/96 [==============================] - 0s 408us/step - loss: 1.0712 - acc: 0.5104 - val_loss: 1.0627 - val_acc: 0.6250\n",
            "Epoch 22/200\n",
            "96/96 [==============================] - 0s 346us/step - loss: 1.0668 - acc: 0.5938 - val_loss: 1.0584 - val_acc: 0.6667\n",
            "Epoch 23/200\n",
            "96/96 [==============================] - 0s 343us/step - loss: 1.0624 - acc: 0.6250 - val_loss: 1.0523 - val_acc: 0.6667\n",
            "Epoch 24/200\n",
            "96/96 [==============================] - 0s 371us/step - loss: 1.0568 - acc: 0.6458 - val_loss: 1.0455 - val_acc: 0.6667\n",
            "Epoch 25/200\n",
            "96/96 [==============================] - 0s 369us/step - loss: 1.0510 - acc: 0.6563 - val_loss: 1.0390 - val_acc: 0.6667\n",
            "Epoch 26/200\n",
            "96/96 [==============================] - 0s 350us/step - loss: 1.0450 - acc: 0.6667 - val_loss: 1.0303 - val_acc: 0.6667\n",
            "Epoch 27/200\n",
            "96/96 [==============================] - 0s 348us/step - loss: 1.0380 - acc: 0.6771 - val_loss: 1.0245 - val_acc: 0.6667\n",
            "Epoch 28/200\n",
            "96/96 [==============================] - 0s 346us/step - loss: 1.0305 - acc: 0.6875 - val_loss: 1.0143 - val_acc: 0.6667\n",
            "Epoch 29/200\n",
            "96/96 [==============================] - 0s 387us/step - loss: 1.0229 - acc: 0.6875 - val_loss: 1.0069 - val_acc: 0.6667\n",
            "Epoch 30/200\n",
            "96/96 [==============================] - 0s 380us/step - loss: 1.0141 - acc: 0.6875 - val_loss: 0.9966 - val_acc: 0.6667\n",
            "Epoch 31/200\n",
            "96/96 [==============================] - 0s 352us/step - loss: 1.0062 - acc: 0.6875 - val_loss: 0.9881 - val_acc: 0.6667\n",
            "Epoch 32/200\n",
            "96/96 [==============================] - 0s 348us/step - loss: 0.9974 - acc: 0.6875 - val_loss: 0.9772 - val_acc: 0.6667\n",
            "Epoch 33/200\n",
            "96/96 [==============================] - 0s 345us/step - loss: 0.9881 - acc: 0.6875 - val_loss: 0.9678 - val_acc: 0.6667\n",
            "Epoch 34/200\n",
            "96/96 [==============================] - 0s 348us/step - loss: 0.9786 - acc: 0.6875 - val_loss: 0.9570 - val_acc: 0.6667\n",
            "Epoch 35/200\n",
            "96/96 [==============================] - 0s 363us/step - loss: 0.9688 - acc: 0.6875 - val_loss: 0.9447 - val_acc: 0.6667\n",
            "Epoch 36/200\n",
            "96/96 [==============================] - 0s 353us/step - loss: 0.9588 - acc: 0.6875 - val_loss: 0.9340 - val_acc: 0.6667\n",
            "Epoch 37/200\n",
            "96/96 [==============================] - 0s 347us/step - loss: 0.9490 - acc: 0.6875 - val_loss: 0.9245 - val_acc: 0.6667\n",
            "Epoch 38/200\n",
            "96/96 [==============================] - 0s 356us/step - loss: 0.9389 - acc: 0.6875 - val_loss: 0.9132 - val_acc: 0.6667\n",
            "Epoch 39/200\n",
            "96/96 [==============================] - 0s 368us/step - loss: 0.9287 - acc: 0.6875 - val_loss: 0.9024 - val_acc: 0.6667\n",
            "Epoch 40/200\n",
            "96/96 [==============================] - 0s 338us/step - loss: 0.9184 - acc: 0.6875 - val_loss: 0.8910 - val_acc: 0.6667\n",
            "Epoch 41/200\n",
            "96/96 [==============================] - 0s 366us/step - loss: 0.9077 - acc: 0.6875 - val_loss: 0.8804 - val_acc: 0.6667\n",
            "Epoch 42/200\n",
            "96/96 [==============================] - 0s 346us/step - loss: 0.8975 - acc: 0.6875 - val_loss: 0.8697 - val_acc: 0.6667\n",
            "Epoch 43/200\n",
            "96/96 [==============================] - 0s 350us/step - loss: 0.8869 - acc: 0.6875 - val_loss: 0.8583 - val_acc: 0.6667\n",
            "Epoch 44/200\n",
            "96/96 [==============================] - 0s 354us/step - loss: 0.8758 - acc: 0.6875 - val_loss: 0.8459 - val_acc: 0.6667\n",
            "Epoch 45/200\n",
            "96/96 [==============================] - 0s 372us/step - loss: 0.8650 - acc: 0.6875 - val_loss: 0.8340 - val_acc: 0.6667\n",
            "Epoch 46/200\n",
            "96/96 [==============================] - 0s 375us/step - loss: 0.8544 - acc: 0.6875 - val_loss: 0.8222 - val_acc: 0.6667\n",
            "Epoch 47/200\n",
            "96/96 [==============================] - 0s 404us/step - loss: 0.8439 - acc: 0.6875 - val_loss: 0.8117 - val_acc: 0.6667\n",
            "Epoch 48/200\n",
            "96/96 [==============================] - 0s 383us/step - loss: 0.8335 - acc: 0.6875 - val_loss: 0.8010 - val_acc: 0.6667\n",
            "Epoch 49/200\n",
            "96/96 [==============================] - 0s 349us/step - loss: 0.8236 - acc: 0.6875 - val_loss: 0.7906 - val_acc: 0.6667\n",
            "Epoch 50/200\n",
            "96/96 [==============================] - 0s 381us/step - loss: 0.8141 - acc: 0.6875 - val_loss: 0.7794 - val_acc: 0.6667\n",
            "Epoch 51/200\n",
            "96/96 [==============================] - 0s 345us/step - loss: 0.8033 - acc: 0.6875 - val_loss: 0.7693 - val_acc: 0.6667\n",
            "Epoch 52/200\n",
            "96/96 [==============================] - 0s 365us/step - loss: 0.7939 - acc: 0.6875 - val_loss: 0.7597 - val_acc: 0.6667\n",
            "Epoch 53/200\n",
            "96/96 [==============================] - 0s 364us/step - loss: 0.7847 - acc: 0.6875 - val_loss: 0.7501 - val_acc: 0.6667\n",
            "Epoch 54/200\n",
            "96/96 [==============================] - 0s 383us/step - loss: 0.7757 - acc: 0.6875 - val_loss: 0.7408 - val_acc: 0.6667\n",
            "Epoch 55/200\n",
            "96/96 [==============================] - 0s 386us/step - loss: 0.7666 - acc: 0.6875 - val_loss: 0.7314 - val_acc: 0.6667\n",
            "Epoch 56/200\n",
            "96/96 [==============================] - 0s 350us/step - loss: 0.7579 - acc: 0.6875 - val_loss: 0.7226 - val_acc: 0.6667\n",
            "Epoch 57/200\n",
            "96/96 [==============================] - 0s 381us/step - loss: 0.7495 - acc: 0.6875 - val_loss: 0.7136 - val_acc: 0.6667\n",
            "Epoch 58/200\n",
            "96/96 [==============================] - 0s 362us/step - loss: 0.7411 - acc: 0.6875 - val_loss: 0.7054 - val_acc: 0.6667\n",
            "Epoch 59/200\n",
            "96/96 [==============================] - 0s 355us/step - loss: 0.7329 - acc: 0.6875 - val_loss: 0.6964 - val_acc: 0.6667\n",
            "Epoch 60/200\n",
            "96/96 [==============================] - 0s 345us/step - loss: 0.7250 - acc: 0.6875 - val_loss: 0.6883 - val_acc: 0.6667\n",
            "Epoch 61/200\n",
            "96/96 [==============================] - 0s 362us/step - loss: 0.7174 - acc: 0.6875 - val_loss: 0.6801 - val_acc: 0.6667\n",
            "Epoch 62/200\n",
            "96/96 [==============================] - 0s 354us/step - loss: 0.7098 - acc: 0.6875 - val_loss: 0.6726 - val_acc: 0.6667\n",
            "Epoch 63/200\n",
            "96/96 [==============================] - 0s 401us/step - loss: 0.7025 - acc: 0.6875 - val_loss: 0.6651 - val_acc: 0.6667\n",
            "Epoch 64/200\n",
            "96/96 [==============================] - 0s 354us/step - loss: 0.6955 - acc: 0.6875 - val_loss: 0.6576 - val_acc: 0.7083\n",
            "Epoch 65/200\n",
            "96/96 [==============================] - 0s 350us/step - loss: 0.6887 - acc: 0.6875 - val_loss: 0.6504 - val_acc: 0.7083\n",
            "Epoch 66/200\n",
            "96/96 [==============================] - 0s 357us/step - loss: 0.6821 - acc: 0.6875 - val_loss: 0.6442 - val_acc: 0.6667\n",
            "Epoch 67/200\n",
            "96/96 [==============================] - 0s 360us/step - loss: 0.6757 - acc: 0.6875 - val_loss: 0.6373 - val_acc: 0.6667\n",
            "Epoch 68/200\n",
            "96/96 [==============================] - 0s 347us/step - loss: 0.6694 - acc: 0.6875 - val_loss: 0.6306 - val_acc: 0.6667\n",
            "Epoch 69/200\n",
            "96/96 [==============================] - 0s 357us/step - loss: 0.6634 - acc: 0.6875 - val_loss: 0.6241 - val_acc: 0.7083\n",
            "Epoch 70/200\n",
            "96/96 [==============================] - 0s 342us/step - loss: 0.6575 - acc: 0.6875 - val_loss: 0.6181 - val_acc: 0.6667\n",
            "Epoch 71/200\n",
            "96/96 [==============================] - 0s 378us/step - loss: 0.6516 - acc: 0.6875 - val_loss: 0.6122 - val_acc: 0.7083\n",
            "Epoch 72/200\n",
            "96/96 [==============================] - 0s 393us/step - loss: 0.6461 - acc: 0.6875 - val_loss: 0.6062 - val_acc: 0.7083\n",
            "Epoch 73/200\n",
            "96/96 [==============================] - 0s 355us/step - loss: 0.6408 - acc: 0.6875 - val_loss: 0.6006 - val_acc: 0.7083\n",
            "Epoch 74/200\n",
            "96/96 [==============================] - 0s 354us/step - loss: 0.6359 - acc: 0.6875 - val_loss: 0.5954 - val_acc: 0.7083\n",
            "Epoch 75/200\n",
            "96/96 [==============================] - 0s 354us/step - loss: 0.6308 - acc: 0.6875 - val_loss: 0.5905 - val_acc: 0.7083\n",
            "Epoch 76/200\n",
            "96/96 [==============================] - 0s 358us/step - loss: 0.6260 - acc: 0.6875 - val_loss: 0.5858 - val_acc: 0.6667\n",
            "Epoch 77/200\n",
            "96/96 [==============================] - 0s 373us/step - loss: 0.6215 - acc: 0.6875 - val_loss: 0.5812 - val_acc: 0.6667\n",
            "Epoch 78/200\n",
            "96/96 [==============================] - 0s 365us/step - loss: 0.6171 - acc: 0.6875 - val_loss: 0.5769 - val_acc: 0.6667\n",
            "Epoch 79/200\n",
            "96/96 [==============================] - 0s 390us/step - loss: 0.6127 - acc: 0.6875 - val_loss: 0.5725 - val_acc: 0.6667\n",
            "Epoch 80/200\n",
            "96/96 [==============================] - 0s 387us/step - loss: 0.6086 - acc: 0.6875 - val_loss: 0.5681 - val_acc: 0.6667\n",
            "Epoch 81/200\n",
            "96/96 [==============================] - 0s 361us/step - loss: 0.6045 - acc: 0.6875 - val_loss: 0.5637 - val_acc: 0.7083\n",
            "Epoch 82/200\n",
            "96/96 [==============================] - 0s 369us/step - loss: 0.6006 - acc: 0.6875 - val_loss: 0.5599 - val_acc: 0.6667\n",
            "Epoch 83/200\n",
            "96/96 [==============================] - 0s 337us/step - loss: 0.5969 - acc: 0.6875 - val_loss: 0.5563 - val_acc: 0.6667\n",
            "Epoch 84/200\n",
            "96/96 [==============================] - 0s 352us/step - loss: 0.5934 - acc: 0.6875 - val_loss: 0.5527 - val_acc: 0.6667\n",
            "Epoch 85/200\n",
            "96/96 [==============================] - 0s 350us/step - loss: 0.5898 - acc: 0.6875 - val_loss: 0.5491 - val_acc: 0.6667\n",
            "Epoch 86/200\n",
            "96/96 [==============================] - 0s 351us/step - loss: 0.5863 - acc: 0.6875 - val_loss: 0.5453 - val_acc: 0.6667\n",
            "Epoch 87/200\n",
            "96/96 [==============================] - 0s 367us/step - loss: 0.5830 - acc: 0.6875 - val_loss: 0.5419 - val_acc: 0.6667\n",
            "Epoch 88/200\n",
            "96/96 [==============================] - 0s 372us/step - loss: 0.5798 - acc: 0.6875 - val_loss: 0.5382 - val_acc: 0.7083\n",
            "Epoch 89/200\n",
            "96/96 [==============================] - 0s 348us/step - loss: 0.5766 - acc: 0.6875 - val_loss: 0.5350 - val_acc: 0.7083\n",
            "Epoch 90/200\n",
            "96/96 [==============================] - 0s 346us/step - loss: 0.5737 - acc: 0.6875 - val_loss: 0.5318 - val_acc: 0.7083\n",
            "Epoch 91/200\n",
            "96/96 [==============================] - 0s 337us/step - loss: 0.5707 - acc: 0.6875 - val_loss: 0.5289 - val_acc: 0.7083\n",
            "Epoch 92/200\n",
            "96/96 [==============================] - 0s 345us/step - loss: 0.5679 - acc: 0.6875 - val_loss: 0.5262 - val_acc: 0.7083\n",
            "Epoch 93/200\n",
            "96/96 [==============================] - 0s 354us/step - loss: 0.5653 - acc: 0.6875 - val_loss: 0.5237 - val_acc: 0.6667\n",
            "Epoch 94/200\n",
            "96/96 [==============================] - 0s 345us/step - loss: 0.5626 - acc: 0.6875 - val_loss: 0.5208 - val_acc: 0.7083\n",
            "Epoch 95/200\n",
            "96/96 [==============================] - 0s 336us/step - loss: 0.5601 - acc: 0.6875 - val_loss: 0.5183 - val_acc: 0.7083\n",
            "Epoch 96/200\n",
            "96/96 [==============================] - 0s 384us/step - loss: 0.5577 - acc: 0.6875 - val_loss: 0.5159 - val_acc: 0.6667\n",
            "Epoch 97/200\n",
            "96/96 [==============================] - 0s 349us/step - loss: 0.5552 - acc: 0.6875 - val_loss: 0.5133 - val_acc: 0.7083\n",
            "Epoch 98/200\n",
            "96/96 [==============================] - 0s 345us/step - loss: 0.5529 - acc: 0.6875 - val_loss: 0.5106 - val_acc: 0.7083\n",
            "Epoch 99/200\n",
            "96/96 [==============================] - 0s 348us/step - loss: 0.5506 - acc: 0.6875 - val_loss: 0.5081 - val_acc: 0.7083\n",
            "Epoch 100/200\n",
            "96/96 [==============================] - 0s 345us/step - loss: 0.5484 - acc: 0.6875 - val_loss: 0.5061 - val_acc: 0.7083\n",
            "Epoch 101/200\n",
            "96/96 [==============================] - 0s 372us/step - loss: 0.5463 - acc: 0.6875 - val_loss: 0.5039 - val_acc: 0.7083\n",
            "Epoch 102/200\n",
            "96/96 [==============================] - 0s 355us/step - loss: 0.5442 - acc: 0.6875 - val_loss: 0.5017 - val_acc: 0.7083\n",
            "Epoch 103/200\n",
            "96/96 [==============================] - 0s 358us/step - loss: 0.5422 - acc: 0.6875 - val_loss: 0.4993 - val_acc: 0.7083\n",
            "Epoch 104/200\n",
            "96/96 [==============================] - 0s 381us/step - loss: 0.5401 - acc: 0.6875 - val_loss: 0.4972 - val_acc: 0.7083\n",
            "Epoch 105/200\n",
            "96/96 [==============================] - 0s 384us/step - loss: 0.5382 - acc: 0.6875 - val_loss: 0.4951 - val_acc: 0.7083\n",
            "Epoch 106/200\n",
            "96/96 [==============================] - 0s 354us/step - loss: 0.5363 - acc: 0.6979 - val_loss: 0.4931 - val_acc: 0.7083\n",
            "Epoch 107/200\n",
            "96/96 [==============================] - 0s 371us/step - loss: 0.5345 - acc: 0.6979 - val_loss: 0.4914 - val_acc: 0.7083\n",
            "Epoch 108/200\n",
            "96/96 [==============================] - 0s 355us/step - loss: 0.5328 - acc: 0.6979 - val_loss: 0.4897 - val_acc: 0.7083\n",
            "Epoch 109/200\n",
            "96/96 [==============================] - 0s 351us/step - loss: 0.5311 - acc: 0.6979 - val_loss: 0.4878 - val_acc: 0.7083\n",
            "Epoch 110/200\n",
            "96/96 [==============================] - 0s 348us/step - loss: 0.5294 - acc: 0.6979 - val_loss: 0.4861 - val_acc: 0.7083\n",
            "Epoch 111/200\n",
            "96/96 [==============================] - 0s 340us/step - loss: 0.5277 - acc: 0.6979 - val_loss: 0.4841 - val_acc: 0.7083\n",
            "Epoch 112/200\n",
            "96/96 [==============================] - 0s 365us/step - loss: 0.5261 - acc: 0.6979 - val_loss: 0.4824 - val_acc: 0.7083\n",
            "Epoch 113/200\n",
            "96/96 [==============================] - 0s 398us/step - loss: 0.5246 - acc: 0.7188 - val_loss: 0.4806 - val_acc: 0.7083\n",
            "Epoch 114/200\n",
            "96/96 [==============================] - 0s 363us/step - loss: 0.5231 - acc: 0.7188 - val_loss: 0.4790 - val_acc: 0.7083\n",
            "Epoch 115/200\n",
            "96/96 [==============================] - 0s 354us/step - loss: 0.5217 - acc: 0.7188 - val_loss: 0.4777 - val_acc: 0.7083\n",
            "Epoch 116/200\n",
            "96/96 [==============================] - 0s 348us/step - loss: 0.5202 - acc: 0.7188 - val_loss: 0.4759 - val_acc: 0.7083\n",
            "Epoch 117/200\n",
            "96/96 [==============================] - 0s 358us/step - loss: 0.5187 - acc: 0.7188 - val_loss: 0.4744 - val_acc: 0.7083\n",
            "Epoch 118/200\n",
            "96/96 [==============================] - 0s 368us/step - loss: 0.5174 - acc: 0.7188 - val_loss: 0.4727 - val_acc: 0.7083\n",
            "Epoch 119/200\n",
            "96/96 [==============================] - 0s 356us/step - loss: 0.5161 - acc: 0.7188 - val_loss: 0.4716 - val_acc: 0.7083\n",
            "Epoch 120/200\n",
            "96/96 [==============================] - 0s 368us/step - loss: 0.5148 - acc: 0.7292 - val_loss: 0.4699 - val_acc: 0.7083\n",
            "Epoch 121/200\n",
            "96/96 [==============================] - 0s 343us/step - loss: 0.5134 - acc: 0.7396 - val_loss: 0.4686 - val_acc: 0.7083\n",
            "Epoch 122/200\n",
            "96/96 [==============================] - 0s 355us/step - loss: 0.5122 - acc: 0.7396 - val_loss: 0.4674 - val_acc: 0.7083\n",
            "Epoch 123/200\n",
            "96/96 [==============================] - 0s 348us/step - loss: 0.5110 - acc: 0.7396 - val_loss: 0.4663 - val_acc: 0.7083\n",
            "Epoch 124/200\n",
            "96/96 [==============================] - 0s 346us/step - loss: 0.5100 - acc: 0.7396 - val_loss: 0.4655 - val_acc: 0.7083\n",
            "Epoch 125/200\n",
            "96/96 [==============================] - 0s 345us/step - loss: 0.5087 - acc: 0.7292 - val_loss: 0.4643 - val_acc: 0.7083\n",
            "Epoch 126/200\n",
            "96/96 [==============================] - 0s 345us/step - loss: 0.5077 - acc: 0.7396 - val_loss: 0.4624 - val_acc: 0.7083\n",
            "Epoch 127/200\n",
            "96/96 [==============================] - 0s 351us/step - loss: 0.5062 - acc: 0.7500 - val_loss: 0.4612 - val_acc: 0.7083\n",
            "Epoch 128/200\n",
            "96/96 [==============================] - 0s 386us/step - loss: 0.5050 - acc: 0.7500 - val_loss: 0.4595 - val_acc: 0.7500\n",
            "Epoch 129/200\n",
            "96/96 [==============================] - 0s 350us/step - loss: 0.5038 - acc: 0.7813 - val_loss: 0.4581 - val_acc: 0.7500\n",
            "Epoch 130/200\n",
            "96/96 [==============================] - 0s 355us/step - loss: 0.5026 - acc: 0.8229 - val_loss: 0.4563 - val_acc: 0.7917\n",
            "Epoch 131/200\n",
            "96/96 [==============================] - 0s 341us/step - loss: 0.5011 - acc: 0.8646 - val_loss: 0.4548 - val_acc: 0.8333\n",
            "Epoch 132/200\n",
            "96/96 [==============================] - 0s 346us/step - loss: 0.5000 - acc: 0.8646 - val_loss: 0.4536 - val_acc: 0.8750\n",
            "Epoch 133/200\n",
            "96/96 [==============================] - 0s 348us/step - loss: 0.4987 - acc: 0.8854 - val_loss: 0.4520 - val_acc: 0.8750\n",
            "Epoch 134/200\n",
            "96/96 [==============================] - 0s 348us/step - loss: 0.4973 - acc: 0.9375 - val_loss: 0.4502 - val_acc: 0.9167\n",
            "Epoch 135/200\n",
            "96/96 [==============================] - 0s 347us/step - loss: 0.4960 - acc: 0.9479 - val_loss: 0.4493 - val_acc: 0.9167\n",
            "Epoch 136/200\n",
            "96/96 [==============================] - 0s 346us/step - loss: 0.4945 - acc: 0.9688 - val_loss: 0.4476 - val_acc: 0.9583\n",
            "Epoch 137/200\n",
            "96/96 [==============================] - 0s 395us/step - loss: 0.4929 - acc: 0.9792 - val_loss: 0.4460 - val_acc: 0.9583\n",
            "Epoch 138/200\n",
            "96/96 [==============================] - 0s 358us/step - loss: 0.4913 - acc: 0.9792 - val_loss: 0.4439 - val_acc: 0.9583\n",
            "Epoch 139/200\n",
            "96/96 [==============================] - 0s 339us/step - loss: 0.4891 - acc: 0.9792 - val_loss: 0.4418 - val_acc: 0.9583\n",
            "Epoch 140/200\n",
            "96/96 [==============================] - 0s 365us/step - loss: 0.4872 - acc: 0.9792 - val_loss: 0.4394 - val_acc: 1.0000\n",
            "Epoch 141/200\n",
            "96/96 [==============================] - 0s 374us/step - loss: 0.4847 - acc: 0.9583 - val_loss: 0.4367 - val_acc: 1.0000\n",
            "Epoch 142/200\n",
            "96/96 [==============================] - 0s 355us/step - loss: 0.4821 - acc: 0.8958 - val_loss: 0.4329 - val_acc: 0.9583\n",
            "Epoch 143/200\n",
            "96/96 [==============================] - 0s 354us/step - loss: 0.4799 - acc: 0.8854 - val_loss: 0.4305 - val_acc: 0.9583\n",
            "Epoch 144/200\n",
            "96/96 [==============================] - 0s 350us/step - loss: 0.4775 - acc: 0.8750 - val_loss: 0.4281 - val_acc: 0.9583\n",
            "Epoch 145/200\n",
            "96/96 [==============================] - 0s 402us/step - loss: 0.4754 - acc: 0.8229 - val_loss: 0.4248 - val_acc: 0.7917\n",
            "Epoch 146/200\n",
            "96/96 [==============================] - 0s 374us/step - loss: 0.4726 - acc: 0.8125 - val_loss: 0.4225 - val_acc: 0.7917\n",
            "Epoch 147/200\n",
            "96/96 [==============================] - 0s 351us/step - loss: 0.4700 - acc: 0.7604 - val_loss: 0.4188 - val_acc: 0.7500\n",
            "Epoch 148/200\n",
            "96/96 [==============================] - 0s 357us/step - loss: 0.4674 - acc: 0.7396 - val_loss: 0.4162 - val_acc: 0.7500\n",
            "Epoch 149/200\n",
            "96/96 [==============================] - 0s 370us/step - loss: 0.4649 - acc: 0.7083 - val_loss: 0.4133 - val_acc: 0.7500\n",
            "Epoch 150/200\n",
            "96/96 [==============================] - 0s 340us/step - loss: 0.4627 - acc: 0.6875 - val_loss: 0.4102 - val_acc: 0.7500\n",
            "Epoch 151/200\n",
            "96/96 [==============================] - 0s 441us/step - loss: 0.4599 - acc: 0.6979 - val_loss: 0.4082 - val_acc: 0.7500\n",
            "Epoch 152/200\n",
            "96/96 [==============================] - 0s 456us/step - loss: 0.4574 - acc: 0.7083 - val_loss: 0.4055 - val_acc: 0.7500\n",
            "Epoch 153/200\n",
            "96/96 [==============================] - 0s 374us/step - loss: 0.4553 - acc: 0.7083 - val_loss: 0.4034 - val_acc: 0.7500\n",
            "Epoch 154/200\n",
            "96/96 [==============================] - 0s 431us/step - loss: 0.4524 - acc: 0.7083 - val_loss: 0.4003 - val_acc: 0.7500\n",
            "Epoch 155/200\n",
            "96/96 [==============================] - 0s 356us/step - loss: 0.4499 - acc: 0.6875 - val_loss: 0.3970 - val_acc: 0.7500\n",
            "Epoch 156/200\n",
            "96/96 [==============================] - 0s 367us/step - loss: 0.4476 - acc: 0.6771 - val_loss: 0.3941 - val_acc: 0.7500\n",
            "Epoch 157/200\n",
            "96/96 [==============================] - 0s 434us/step - loss: 0.4450 - acc: 0.6771 - val_loss: 0.3916 - val_acc: 0.7500\n",
            "Epoch 158/200\n",
            "96/96 [==============================] - 0s 437us/step - loss: 0.4427 - acc: 0.6771 - val_loss: 0.3889 - val_acc: 0.7500\n",
            "Epoch 159/200\n",
            "96/96 [==============================] - 0s 366us/step - loss: 0.4402 - acc: 0.6771 - val_loss: 0.3865 - val_acc: 0.7500\n",
            "Epoch 160/200\n",
            "96/96 [==============================] - 0s 416us/step - loss: 0.4375 - acc: 0.6875 - val_loss: 0.3842 - val_acc: 0.7500\n",
            "Epoch 161/200\n",
            "96/96 [==============================] - 0s 368us/step - loss: 0.4352 - acc: 0.6875 - val_loss: 0.3818 - val_acc: 0.7500\n",
            "Epoch 162/200\n",
            "96/96 [==============================] - 0s 362us/step - loss: 0.4327 - acc: 0.7396 - val_loss: 0.3806 - val_acc: 0.7917\n",
            "Epoch 163/200\n",
            "96/96 [==============================] - 0s 375us/step - loss: 0.4305 - acc: 0.7604 - val_loss: 0.3785 - val_acc: 0.7917\n",
            "Epoch 164/200\n",
            "96/96 [==============================] - 0s 383us/step - loss: 0.4282 - acc: 0.7708 - val_loss: 0.3770 - val_acc: 0.7917\n",
            "Epoch 165/200\n",
            "96/96 [==============================] - 0s 371us/step - loss: 0.4255 - acc: 0.7813 - val_loss: 0.3740 - val_acc: 0.7917\n",
            "Epoch 166/200\n",
            "96/96 [==============================] - 0s 365us/step - loss: 0.4234 - acc: 0.7813 - val_loss: 0.3717 - val_acc: 0.7917\n",
            "Epoch 167/200\n",
            "96/96 [==============================] - 0s 350us/step - loss: 0.4206 - acc: 0.7813 - val_loss: 0.3691 - val_acc: 0.7917\n",
            "Epoch 168/200\n",
            "96/96 [==============================] - 0s 364us/step - loss: 0.4182 - acc: 0.8021 - val_loss: 0.3668 - val_acc: 0.7917\n",
            "Epoch 169/200\n",
            "96/96 [==============================] - 0s 339us/step - loss: 0.4158 - acc: 0.8125 - val_loss: 0.3639 - val_acc: 0.7917\n",
            "Epoch 170/200\n",
            "96/96 [==============================] - 0s 352us/step - loss: 0.4135 - acc: 0.7917 - val_loss: 0.3610 - val_acc: 0.7917\n",
            "Epoch 171/200\n",
            "96/96 [==============================] - 0s 433us/step - loss: 0.4106 - acc: 0.8125 - val_loss: 0.3588 - val_acc: 0.7917\n",
            "Epoch 172/200\n",
            "96/96 [==============================] - 0s 336us/step - loss: 0.4084 - acc: 0.7917 - val_loss: 0.3556 - val_acc: 0.7917\n",
            "Epoch 173/200\n",
            "96/96 [==============================] - 0s 353us/step - loss: 0.4058 - acc: 0.8125 - val_loss: 0.3534 - val_acc: 0.7917\n",
            "Epoch 174/200\n",
            "96/96 [==============================] - 0s 354us/step - loss: 0.4031 - acc: 0.8229 - val_loss: 0.3520 - val_acc: 0.8750\n",
            "Epoch 175/200\n",
            "96/96 [==============================] - 0s 350us/step - loss: 0.4004 - acc: 0.8229 - val_loss: 0.3509 - val_acc: 0.9583\n",
            "Epoch 176/200\n",
            "96/96 [==============================] - 0s 360us/step - loss: 0.3981 - acc: 0.8750 - val_loss: 0.3487 - val_acc: 0.9583\n",
            "Epoch 177/200\n",
            "96/96 [==============================] - 0s 341us/step - loss: 0.3957 - acc: 0.8854 - val_loss: 0.3463 - val_acc: 0.9583\n",
            "Epoch 178/200\n",
            "96/96 [==============================] - 0s 336us/step - loss: 0.3934 - acc: 0.8646 - val_loss: 0.3428 - val_acc: 0.9583\n",
            "Epoch 179/200\n",
            "96/96 [==============================] - 0s 358us/step - loss: 0.3919 - acc: 0.8438 - val_loss: 0.3396 - val_acc: 0.9167\n",
            "Epoch 180/200\n",
            "96/96 [==============================] - 0s 370us/step - loss: 0.3882 - acc: 0.8854 - val_loss: 0.3389 - val_acc: 0.9583\n",
            "Epoch 181/200\n",
            "96/96 [==============================] - 0s 359us/step - loss: 0.3859 - acc: 0.8854 - val_loss: 0.3366 - val_acc: 0.9583\n",
            "Epoch 182/200\n",
            "96/96 [==============================] - 0s 349us/step - loss: 0.3836 - acc: 0.8854 - val_loss: 0.3339 - val_acc: 0.9583\n",
            "Epoch 183/200\n",
            "96/96 [==============================] - 0s 360us/step - loss: 0.3809 - acc: 0.8854 - val_loss: 0.3320 - val_acc: 0.9583\n",
            "Epoch 184/200\n",
            "96/96 [==============================] - 0s 391us/step - loss: 0.3785 - acc: 0.9063 - val_loss: 0.3315 - val_acc: 0.9583\n",
            "Epoch 185/200\n",
            "96/96 [==============================] - 0s 365us/step - loss: 0.3765 - acc: 0.9167 - val_loss: 0.3284 - val_acc: 0.9583\n",
            "Epoch 186/200\n",
            "96/96 [==============================] - 0s 333us/step - loss: 0.3738 - acc: 0.9167 - val_loss: 0.3271 - val_acc: 0.9583\n",
            "Epoch 187/200\n",
            "96/96 [==============================] - 0s 376us/step - loss: 0.3716 - acc: 0.9167 - val_loss: 0.3243 - val_acc: 0.9583\n",
            "Epoch 188/200\n",
            "96/96 [==============================] - 0s 340us/step - loss: 0.3694 - acc: 0.9167 - val_loss: 0.3222 - val_acc: 0.9583\n",
            "Epoch 189/200\n",
            "96/96 [==============================] - 0s 360us/step - loss: 0.3669 - acc: 0.9271 - val_loss: 0.3209 - val_acc: 1.0000\n",
            "Epoch 190/200\n",
            "96/96 [==============================] - 0s 352us/step - loss: 0.3644 - acc: 0.9375 - val_loss: 0.3184 - val_acc: 1.0000\n",
            "Epoch 191/200\n",
            "96/96 [==============================] - 0s 359us/step - loss: 0.3621 - acc: 0.9271 - val_loss: 0.3156 - val_acc: 1.0000\n",
            "Epoch 192/200\n",
            "96/96 [==============================] - 0s 348us/step - loss: 0.3595 - acc: 0.9271 - val_loss: 0.3128 - val_acc: 1.0000\n",
            "Epoch 193/200\n",
            "96/96 [==============================] - 0s 346us/step - loss: 0.3574 - acc: 0.9271 - val_loss: 0.3107 - val_acc: 1.0000\n",
            "Epoch 194/200\n",
            "96/96 [==============================] - 0s 362us/step - loss: 0.3556 - acc: 0.9167 - val_loss: 0.3082 - val_acc: 1.0000\n",
            "Epoch 195/200\n",
            "96/96 [==============================] - 0s 369us/step - loss: 0.3532 - acc: 0.9375 - val_loss: 0.3067 - val_acc: 1.0000\n",
            "Epoch 196/200\n",
            "96/96 [==============================] - 0s 409us/step - loss: 0.3511 - acc: 0.9271 - val_loss: 0.3055 - val_acc: 1.0000\n",
            "Epoch 197/200\n",
            "96/96 [==============================] - 0s 355us/step - loss: 0.3488 - acc: 0.9375 - val_loss: 0.3038 - val_acc: 1.0000\n",
            "Epoch 198/200\n",
            "96/96 [==============================] - 0s 361us/step - loss: 0.3464 - acc: 0.9375 - val_loss: 0.3011 - val_acc: 1.0000\n",
            "Epoch 199/200\n",
            "96/96 [==============================] - 0s 353us/step - loss: 0.3439 - acc: 0.9375 - val_loss: 0.2992 - val_acc: 1.0000\n",
            "Epoch 200/200\n",
            "96/96 [==============================] - 0s 354us/step - loss: 0.3422 - acc: 0.9271 - val_loss: 0.2962 - val_acc: 1.0000\n"
          ],
          "name": "stdout"
        }
      ]
    },
    {
      "cell_type": "markdown",
      "metadata": {
        "id": "HHreB--UHEuB",
        "colab_type": "text"
      },
      "source": [
        "### Examining the plot\n",
        "\n",
        "In this model loss plot we can see that the model's loss gradually drops at it reaches 200 epochs and that our training and validation data loss do not deviate from each other meaning there is no overfitting present.\n",
        "\n",
        "We can also see that the accuracy of the training and validation data sets increase in accuracy in a similar fashion meaning which also indicates that there is no significant overfitting in our model."
      ]
    },
    {
      "cell_type": "code",
      "metadata": {
        "id": "BwYPK696zTqu",
        "colab_type": "code",
        "outputId": "db614930-e66c-4304-f1e7-97e8d817bf09",
        "colab": {
          "base_uri": "https://localhost:8080/",
          "height": 621
        }
      },
      "source": [
        "def plot_acc_loss(history):\n",
        "    f, (ax1, ax2) = plt.subplots(2,1, figsize=(10,10))\n",
        "    \n",
        "    # Summarize history of accuracy\n",
        "    ax1.plot(history.history['loss'])\n",
        "    ax1.plot(history.history['val_loss'])\n",
        "    ax1.set_title('model loss')\n",
        "    ax1.legend(['train', 'val'], loc='upper left')\n",
        "    \n",
        "    # Summarize history of accuracy\n",
        "    ax2.plot(history.history['acc'])\n",
        "    ax2.plot(history.history['val_acc'])\n",
        "    ax2.set_title('model accuracy')\n",
        "    ax2.set_xlabel('epoch')\n",
        "    ax2.legend(['train', 'val'], loc='upper left')\n",
        "    \n",
        "    plt.subplots_adjust(hspace=0.5)\n",
        "    plt.show()\n",
        "    \n",
        "plot_acc_loss(history)"
      ],
      "execution_count": 444,
      "outputs": [
        {
          "output_type": "display_data",
          "data": {
            "image/png": "[encoded data removed]",
            "text/plain": [
              "<Figure size 720x720 with 2 Axes>"
            ]
          },
          "metadata": {
            "tags": []
          }
        }
      ]
    },
    {
      "cell_type": "markdown",
      "metadata": {
        "id": "vw2wWtw5zTqy",
        "colab_type": "text"
      },
      "source": [
        "### Evaluate the model\n",
        "Now that we have trained our model, we can evaluate it's predictive performance on our test data."
      ]
    },
    {
      "cell_type": "code",
      "metadata": {
        "id": "KQtZLcOdzTq0",
        "colab_type": "code",
        "outputId": "a0387234-fce1-44c4-f64b-df1d14f4c711",
        "colab": {
          "base_uri": "https://localhost:8080/",
          "height": 85
        }
      },
      "source": [
        "scores = model.evaluate(X_test, y_test)\n",
        "print(\"\\n\\n{0}: {1:.2f}%\".format(model.metrics_names[1], scores[1]*100))"
      ],
      "execution_count": 445,
      "outputs": [
        {
          "output_type": "stream",
          "text": [
            "\r30/30 [==============================] - 0s 183us/step\n",
            "\n",
            "\n",
            "acc: 90.00%\n"
          ],
          "name": "stdout"
        }
      ]
    },
    {
      "cell_type": "markdown",
      "metadata": {
        "id": "LR2ihtRTBQ9R",
        "colab_type": "text"
      },
      "source": [
        "Our accuracy across our test set is 90% meaning that if we were to use this model on new data from the same Iris dataset, it would correctly classify the Iris species 90% of the time."
      ]
    },
    {
      "cell_type": "markdown",
      "metadata": {
        "id": "xnnHSuWHBmIT",
        "colab_type": "text"
      },
      "source": [
        "### The Confusion Matrix\n",
        "\n",
        "A confusion matrix is useful for describing the performance of a classification model. Instead of seeing generalised accuracy, we're able to look how each individual classification performs. \n",
        "\n",
        "In this case we can see that a sample of Versicolor was incorrectly classified as Virginica which we could try to improve in the future for example using feature selection to remove excessive features or adjusting the settings of our model."
      ]
    },
    {
      "cell_type": "code",
      "metadata": {
        "id": "PEnF0buSzTq4",
        "colab_type": "code",
        "outputId": "0b7f363b-6331-4418-b2ec-94ee77acc192",
        "colab": {
          "base_uri": "https://localhost:8080/",
          "height": 283
        }
      },
      "source": [
        "def draw_confusion_matrix(true, pred, labels,str_labels):\n",
        "  \"\"\"\n",
        "  Drawing confusion matrix\n",
        "  \"\"\"\n",
        "  cm = metrics.confusion_matrix(true, pred, labels)\n",
        "  ax = plt.subplot()\n",
        "  sns.heatmap(cm, annot=True, ax=ax)\n",
        "  ax.set_xticklabels(str_labels+labels)\n",
        "  ax.set_yticklabels(str_labels+labels)\n",
        "  ax.set_xlabel(\"Predicted Classification\")\n",
        "  ax.set_ylabel(\"True Classification\")\n",
        "  plt.show()\n",
        "  return cm\n",
        "\n",
        "y_pred = model.predict_classes(X_test)\n",
        "y_test_encoded = [np.argmax(i) for i in y_test] # Reverse one hot encoded to label encoded\n",
        "matrix = draw_confusion_matrix(y_test_encoded, y_pred, [0,1,2], ['Setosa', 'Versicolor', 'Virginica']) #[setosa,versicolor, virginica]\n"
      ],
      "execution_count": 446,
      "outputs": [
        {
          "output_type": "display_data",
          "data": {
            "image/png": "[encoded data removed]",
            "text/plain": [
              "<Figure size 432x288 with 2 Axes>"
            ]
          },
          "metadata": {
            "tags": []
          }
        }
      ]
    },
    {
      "cell_type": "code",
      "metadata": {
        "id": "IhOFX6LUzTrD",
        "colab_type": "code",
        "outputId": "1115fd85-33e9-4584-cf25-090ae6fccd49",
        "colab": {
          "base_uri": "https://localhost:8080/",
          "height": 34
        }
      },
      "source": [
        "print(\"acc: {0:.2f}%\".format(np.sum(np.diag(matrix))*100/np.sum(matrix)))"
      ],
      "execution_count": 447,
      "outputs": [
        {
          "output_type": "stream",
          "text": [
            "acc: 90.00%\n"
          ],
          "name": "stdout"
        }
      ]
    },
    {
      "cell_type": "markdown",
      "metadata": {
        "id": "CHe0CcqcsO1Q",
        "colab_type": "text"
      },
      "source": [
        "# Key Points\n",
        "\n",
        "\n",
        "*   Created a neural network to solve multiclass classification problem\n",
        "*   \"One hot encoded\" to categorise string target variable\n",
        "*  Different loss functions for different classfication problems\n",
        "* Confusion matrix and model improvements\n",
        "\n",
        "\n"
      ]
    }
  ]
}