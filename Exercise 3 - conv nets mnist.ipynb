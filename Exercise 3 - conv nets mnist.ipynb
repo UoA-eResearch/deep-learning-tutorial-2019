{
  "nbformat": 4,
  "nbformat_minor": 0,
  "metadata": {
    "colab": {
      "name": "Exercise 4 - conv nets mnist.ipynb",
      "version": "0.3.2",
      "provenance": [],
      "include_colab_link": true
    },
    "language_info": {
      "codemirror_mode": {
        "name": "ipython",
        "version": 3
      },
      "file_extension": ".py",
      "mimetype": "text/x-python",
      "name": "python",
      "nbconvert_exporter": "python",
      "pygments_lexer": "ipython3",
      "version": "3.6.8"
    },
    "kernelspec": {
      "name": "python3",
      "display_name": "Python 3"
    },
    "accelerator": "TPU"
  },
  "cells": [
    {
      "cell_type": "markdown",
      "metadata": {
        "id": "view-in-github",
        "colab_type": "text"
      },
      "source": [
        "<a href=\"https://colab.research.google.com/github/UoA-eResearch/deep-learning-tutorial-2019/blob/master/Exercise%203%20-%20conv%20nets%20mnist.ipynb\" target=\"_parent\"><img src=\"https://colab.research.google.com/assets/colab-badge.svg\" alt=\"Open In Colab\"/></a>"
      ]
    },
    {
      "cell_type": "markdown",
      "metadata": {
        "id": "InMicKsvPay_",
        "colab_type": "text"
      },
      "source": [
        "## Exercise 3: MNIST\n",
        "Lets first look at [this fun video](https://www.youtube.com/watch?v=p_7GWRup-nQ) or [this technical video](https://www.youtube.com/watch?v=FmpDIaiMIeA) to get an understanding of what a convolutional neural network is.\n",
        "\n",
        "### Goal in this exercise\n",
        "We will create a convolutional neural network that classifies handwritten digits (0-9) from the [MNIST dataset](http://yann.lecun.com/exdb/mnist/). The MNIST dataset has 60,000 training examples and 10,000 test samples. The digits are normalised for size and centred.\n",
        "\n",
        "![MNIST Digits](https://camo.githubusercontent.com/d440ac2eee1cb3ea33340a2c5f6f15a0878e9275/687474703a2f2f692e7974696d672e636f6d2f76692f3051493378675875422d512f687164656661756c742e6a7067)\n",
        "\n",
        "### Q: How many output classes do we have in this problem? Please name the type of problem we are trying to solve.\n",
        "\n",
        "*Answer...*\n",
        "\n",
        "*This is a multi-class classification problem. The main difference between the previous exercises is that we are now processing images rather than a vector of numbers. Also, we are going to use the GPU to speed up computation.*\n",
        "\n",
        "#### To use GPU on the Google Colab notebook,\n",
        "\n",
        "Navigate to the \"Runtime\" tab --> \"Change runtime type\". In the pop-up window, under \"Hardware accelerator\" select \"GPU\".\n",
        "\n",
        "#### The last step of this exercise contains a task."
      ]
    },
    {
      "cell_type": "markdown",
      "metadata": {
        "id": "65_UWdwWPazB",
        "colab_type": "text"
      },
      "source": [
        "### Import dependencies\n",
        "Start by importing the dependencies we will need for the project"
      ]
    },
    {
      "cell_type": "code",
      "metadata": {
        "id": "mT-sc0grPazC",
        "colab_type": "code",
        "colab": {
          "base_uri": "https://localhost:8080/",
          "height": 34
        },
        "outputId": "eaf83e61-e705-41d4-c2ed-e7fedf5dcf69"
      },
      "source": [
        "import numpy\n",
        "from keras.datasets import mnist\n",
        "from keras.models import Sequential\n",
        "from keras.layers import Dense\n",
        "from keras.layers import Dropout\n",
        "from keras.layers import Flatten\n",
        "from keras.layers.convolutional import Conv2D\n",
        "from keras.layers.convolutional import MaxPooling2D\n",
        "from keras.utils import np_utils\n",
        "from keras import backend as K\n",
        "import matplotlib.pyplot as plt\n",
        "import numpy as np\n",
        "from sklearn import metrics\n",
        "\n",
        "if K.image_dim_ordering() != \"tf\":\n",
        "  print(\"Backend image dimension ordering is inappropriate. Change it by typing K.image_dim_ordering('tf')\")"
      ],
      "execution_count": 1,
      "outputs": [
        {
          "output_type": "stream",
          "text": [
            "Using TensorFlow backend.\n"
          ],
          "name": "stderr"
        }
      ]
    },
    {
      "cell_type": "code",
      "metadata": {
        "id": "fJ7DRdLfPazH",
        "colab_type": "code",
        "colab": {}
      },
      "source": [
        "def plot_acc_loss(history):\n",
        "    f, (ax1, ax2) = plt.subplots(2,1, figsize=(10,10))\n",
        "    \n",
        "    # Summarize history of accuracy\n",
        "    ax1.plot(history.history['loss'])\n",
        "    ax1.plot(history.history['val_loss'])\n",
        "    ax1.set_title('model loss')\n",
        "    ax1.legend(['train', 'test'], loc='upper left')\n",
        "    \n",
        "    # Summarize history of accuracy\n",
        "    ax2.plot(history.history['acc'])\n",
        "    ax2.plot(history.history['val_acc'])\n",
        "    ax2.set_title('model accuracy')\n",
        "    ax2.set_xlabel('epoch')\n",
        "    ax2.legend(['train', 'test'], loc='upper left')\n",
        "    \n",
        "    plt.subplots_adjust(hspace=0.5)\n",
        "    plt.show()"
      ],
      "execution_count": 0,
      "outputs": []
    },
    {
      "cell_type": "markdown",
      "metadata": {
        "id": "4IaKUu9iPazI",
        "colab_type": "text"
      },
      "source": [
        "### Set seed\n",
        "Set a seed value so that when we repeatedly run our code we will get the same result. Using the same seed is important when you want to compare algorithms."
      ]
    },
    {
      "cell_type": "code",
      "metadata": {
        "id": "aHY6TUaIPazJ",
        "colab_type": "code",
        "colab": {}
      },
      "source": [
        "seed = 7\n",
        "numpy.random.seed(seed)"
      ],
      "execution_count": 0,
      "outputs": []
    },
    {
      "cell_type": "markdown",
      "metadata": {
        "id": "ym1Hpf4yPazL",
        "colab_type": "text"
      },
      "source": [
        "### Import data\n",
        "The MNIST dataset has  60,000 training samples and 10,000 test samples.\n",
        "\n",
        "Keras includes a number of datasets, including MNIST in the `keras.datasets` module. To download the MNIST dataset call `mnist.load_data()`."
      ]
    },
    {
      "cell_type": "code",
      "metadata": {
        "id": "LgaFPEQqPazL",
        "colab_type": "code",
        "colab": {
          "base_uri": "https://localhost:8080/",
          "height": 51
        },
        "outputId": "a76095d6-cb63-48f4-a4d0-c6f8f7e728da"
      },
      "source": [
        "(X_train, y_train), (X_test, y_test) = mnist.load_data()"
      ],
      "execution_count": 4,
      "outputs": [
        {
          "output_type": "stream",
          "text": [
            "Downloading data from https://s3.amazonaws.com/img-datasets/mnist.npz\n",
            "11493376/11490434 [==============================] - 0s 0us/step\n"
          ],
          "name": "stdout"
        }
      ]
    },
    {
      "cell_type": "markdown",
      "metadata": {
        "id": "gpplR83PPazO",
        "colab_type": "text"
      },
      "source": [
        "A two dimensional convolutional neural network expects data to be arranged in a four dimensional shape: *number of samples*  x  *width*  x *height*  x *channels*.\n",
        "\n",
        "For example, assume we have 10 RGB images, with widths and heights of 20 pixels. This would need to be shaped into 10 samples, each RGB channel would be split into three separate images (1 for red, 1 for green and 1 for blue). Each image would then be a 2D array with 20 rows and columns.\n",
        "\n",
        "The MNIST data has the wrong shape for a 2D convolutional neural network (3 dimensions rather than four):"
      ]
    },
    {
      "cell_type": "code",
      "metadata": {
        "id": "ncPzS_pgPazO",
        "colab_type": "code",
        "outputId": "400c8f51-fb8f-4aab-c19d-26c8db2ba227",
        "colab": {
          "base_uri": "https://localhost:8080/",
          "height": 34
        }
      },
      "source": [
        "print(X_train.shape)"
      ],
      "execution_count": 5,
      "outputs": [
        {
          "output_type": "stream",
          "text": [
            "(60000, 28, 28)\n"
          ],
          "name": "stdout"
        }
      ]
    },
    {
      "cell_type": "markdown",
      "metadata": {
        "id": "UGzJ70itPazR",
        "colab_type": "text"
      },
      "source": [
        "The data is missing the dimension for channels, so we need to reshape the data to add it in. The images in the MNIST example are gray scale, so they only have 1 channel.\n",
        "\n",
        "This is done using the numpy `reshape` method."
      ]
    },
    {
      "cell_type": "code",
      "metadata": {
        "id": "oVUverfbPazR",
        "colab_type": "code",
        "colab": {}
      },
      "source": [
        "X_train = X_train.reshape(X_train.shape[0], 28, 28, 1).astype('float32')\n",
        "X_test = X_test.reshape(X_test.shape[0], 28, 28, 1).astype('float32')"
      ],
      "execution_count": 0,
      "outputs": []
    },
    {
      "cell_type": "code",
      "metadata": {
        "id": "hslyE7ZtQd9U",
        "colab_type": "code",
        "outputId": "06ba251a-f5f2-4789-de70-4f7223e57ee1",
        "colab": {
          "base_uri": "https://localhost:8080/",
          "height": 34
        }
      },
      "source": [
        "X_train.shape"
      ],
      "execution_count": 7,
      "outputs": [
        {
          "output_type": "execute_result",
          "data": {
            "text/plain": [
              "(60000, 28, 28, 1)"
            ]
          },
          "metadata": {
            "tags": []
          },
          "execution_count": 7
        }
      ]
    },
    {
      "cell_type": "markdown",
      "metadata": {
        "id": "EG_Y_bglPazT",
        "colab_type": "text"
      },
      "source": [
        "Normalize the pixels to the range 0 - 1"
      ]
    },
    {
      "cell_type": "markdown",
      "metadata": {
        "id": "p0YtCKi2BWp3",
        "colab_type": "text"
      },
      "source": [
        "#### Understanding image data"
      ]
    },
    {
      "cell_type": "code",
      "metadata": {
        "id": "7194uirnPazU",
        "colab_type": "code",
        "colab": {}
      },
      "source": [
        "X_train = X_train / 255\n",
        "X_test = X_test / 255"
      ],
      "execution_count": 0,
      "outputs": []
    },
    {
      "cell_type": "code",
      "metadata": {
        "id": "Do74SQpq-kcE",
        "colab_type": "code",
        "outputId": "511d38c4-970c-4859-b663-3f3463b82860",
        "colab": {
          "base_uri": "https://localhost:8080/",
          "height": 286
        }
      },
      "source": [
        "# Show the first image in the train dataset and the corresponding output variable\n",
        "plt.imshow(np.array(X_train[1,:,:,0]), cmap='gray')\n",
        "print(y_train[1])"
      ],
      "execution_count": 9,
      "outputs": [
        {
          "output_type": "stream",
          "text": [
            "0\n"
          ],
          "name": "stdout"
        },
        {
          "output_type": "display_data",
          "data": {
            "image/png": "[encoded data removed]",
            "text/plain": [
              "<Figure size 432x288 with 1 Axes>"
            ]
          },
          "metadata": {
            "tags": []
          }
        }
      ]
    },
    {
      "cell_type": "code",
      "metadata": {
        "id": "RkDQnDiH_o39",
        "colab_type": "code",
        "outputId": "b4e2833b-48cb-4db0-92ca-7a41fc70b078",
        "colab": {
          "base_uri": "https://localhost:8080/",
          "height": 502
        }
      },
      "source": [
        "# Showing the pixel values\n",
        "five = X_train[1].reshape(28,28)\n",
        "for row in range(28):\n",
        "  for col in range(28):\n",
        "    print(\"%.F \" % five[row][col], end=\"\")\n",
        "  print(\"\")"
      ],
      "execution_count": 10,
      "outputs": [
        {
          "output_type": "stream",
          "text": [
            "0 0 0 0 0 0 0 0 0 0 0 0 0 0 0 0 0 0 0 0 0 0 0 0 0 0 0 0 \n",
            "0 0 0 0 0 0 0 0 0 0 0 0 0 0 0 0 0 0 0 0 0 0 0 0 0 0 0 0 \n",
            "0 0 0 0 0 0 0 0 0 0 0 0 0 0 0 0 0 0 0 0 0 0 0 0 0 0 0 0 \n",
            "0 0 0 0 0 0 0 0 0 0 0 0 0 0 0 0 0 0 0 0 0 0 0 0 0 0 0 0 \n",
            "0 0 0 0 0 0 0 0 0 0 0 0 0 0 0 0 1 1 1 0 0 0 0 0 0 0 0 0 \n",
            "0 0 0 0 0 0 0 0 0 0 0 0 0 0 0 1 1 1 1 1 0 0 0 0 0 0 0 0 \n",
            "0 0 0 0 0 0 0 0 0 0 0 0 0 0 1 1 1 1 1 1 0 0 0 0 0 0 0 0 \n",
            "0 0 0 0 0 0 0 0 0 0 0 0 0 1 1 1 1 1 0 1 1 0 0 0 0 0 0 0 \n",
            "0 0 0 0 0 0 0 0 0 0 0 1 1 1 1 1 1 1 0 1 1 1 0 0 0 0 0 0 \n",
            "0 0 0 0 0 0 0 0 0 0 0 1 1 1 1 0 1 1 0 0 1 1 0 0 0 0 0 0 \n",
            "0 0 0 0 0 0 0 0 0 0 1 1 1 1 0 0 0 0 0 0 1 1 0 0 0 0 0 0 \n",
            "0 0 0 0 0 0 0 0 0 1 1 1 1 0 0 0 0 0 0 0 1 1 1 0 0 0 0 0 \n",
            "0 0 0 0 0 0 0 0 1 1 1 0 0 0 0 0 0 0 0 0 1 1 1 0 0 0 0 0 \n",
            "0 0 0 0 0 0 0 0 1 1 0 0 0 0 0 0 0 0 0 0 1 1 1 0 0 0 0 0 \n",
            "0 0 0 0 0 0 0 1 1 1 0 0 0 0 0 0 0 0 0 0 1 1 1 0 0 0 0 0 \n",
            "0 0 0 0 0 0 0 1 1 0 0 0 0 0 0 0 0 0 0 0 1 1 1 0 0 0 0 0 \n",
            "0 0 0 0 0 0 0 1 1 0 0 0 0 0 0 0 0 0 0 1 1 1 0 0 0 0 0 0 \n",
            "0 0 0 0 0 0 0 1 1 0 0 0 0 0 0 0 0 0 1 1 1 0 0 0 0 0 0 0 \n",
            "0 0 0 0 0 0 0 1 1 0 0 0 0 0 0 0 0 1 1 1 0 0 0 0 0 0 0 0 \n",
            "0 0 0 0 0 0 0 1 1 0 0 0 0 0 0 0 1 1 1 0 0 0 0 0 0 0 0 0 \n",
            "0 0 0 0 0 0 0 1 1 1 0 0 0 1 1 1 1 1 0 0 0 0 0 0 0 0 0 0 \n",
            "0 0 0 0 0 0 0 1 1 1 1 1 1 1 1 1 1 0 0 0 0 0 0 0 0 0 0 0 \n",
            "0 0 0 0 0 0 0 1 1 1 1 1 1 1 1 0 0 0 0 0 0 0 0 0 0 0 0 0 \n",
            "0 0 0 0 0 0 0 0 1 1 1 1 1 0 0 0 0 0 0 0 0 0 0 0 0 0 0 0 \n",
            "0 0 0 0 0 0 0 0 0 0 0 0 0 0 0 0 0 0 0 0 0 0 0 0 0 0 0 0 \n",
            "0 0 0 0 0 0 0 0 0 0 0 0 0 0 0 0 0 0 0 0 0 0 0 0 0 0 0 0 \n",
            "0 0 0 0 0 0 0 0 0 0 0 0 0 0 0 0 0 0 0 0 0 0 0 0 0 0 0 0 \n",
            "0 0 0 0 0 0 0 0 0 0 0 0 0 0 0 0 0 0 0 0 0 0 0 0 0 0 0 0 \n"
          ],
          "name": "stdout"
        }
      ]
    },
    {
      "cell_type": "code",
      "metadata": {
        "id": "14_WkFwH0HEG",
        "colab_type": "code",
        "colab": {
          "base_uri": "https://localhost:8080/",
          "height": 34
        },
        "outputId": "c9ebb29e-5165-4ed1-90f9-ee41da9fab58"
      },
      "source": [
        "y_train[1:10]"
      ],
      "execution_count": 11,
      "outputs": [
        {
          "output_type": "execute_result",
          "data": {
            "text/plain": [
              "array([0, 4, 1, 9, 2, 1, 3, 1, 4], dtype=uint8)"
            ]
          },
          "metadata": {
            "tags": []
          },
          "execution_count": 11
        }
      ]
    },
    {
      "cell_type": "markdown",
      "metadata": {
        "id": "_r-iaVYvPazV",
        "colab_type": "text"
      },
      "source": [
        "One hot encode the target variables as you did in the Iris classification exercise. The data is already numeric so you do not need to use the LabelEncoder."
      ]
    },
    {
      "cell_type": "code",
      "metadata": {
        "id": "KVPnWNm5PazW",
        "colab_type": "code",
        "outputId": "92432db3-cae8-433f-b523-84b0cc8fe18c",
        "colab": {
          "base_uri": "https://localhost:8080/",
          "height": 34
        }
      },
      "source": [
        "y_train = np_utils.to_categorical(y_train)\n",
        "y_test = np_utils.to_categorical(y_test)\n",
        "num_classes = y_test.shape[1]\n",
        "print(\"Number of classes: {0}\".format(num_classes))"
      ],
      "execution_count": 12,
      "outputs": [
        {
          "output_type": "stream",
          "text": [
            "Number of classes: 10\n"
          ],
          "name": "stdout"
        }
      ]
    },
    {
      "cell_type": "markdown",
      "metadata": {
        "id": "7hs9WqjwPazY",
        "colab_type": "text"
      },
      "source": [
        "### Create the model\n",
        "\n",
        "1. The input layer takes inputs with a dimension 28x28x1\n",
        "2. The first hidden layer is a `Conv2D` layer. We have set it to have 30 filters (the number of output filters) and the size of the kernel to 5x5.\n",
        "3. The `MaxPooling2D` has a kernel size of 2x2. This downsamples the output of the previous layer by selecting the maxiumum value in each kernel. An example is illustrated below: \n",
        "\n",
        "![Max pooling](https://computersciencewiki.org/images/8/8a/MaxpoolSample2.png)\n",
        "4. The `Dropout` layer is used to prevent overfitting. It does this by randomly turning off neurons (50% in this example). \n",
        "![Dropout layer](https://s3-ap-south-1.amazonaws.com/av-blog-media/wp-content/uploads/2018/04/1IrdJ5PghD9YoOyVAQ73MJw.gif)\n",
        "5. The `Flatten` layer flattens the Conv2D layers into a normal fully connected layer that can be connected to a Dense layer. \n",
        "![Flatten layer](https://sds-platform-private.s3-us-east-2.amazonaws.com/uploads/73_blog_image_1.png)\n",
        "6. A `Dense` fully connected layer is added with 50 neurons.\n",
        "7. The last layer is the output layer, which has 10 neurons (one for each class/digit)."
      ]
    },
    {
      "cell_type": "code",
      "metadata": {
        "id": "wpYkWScaPazZ",
        "colab_type": "code",
        "outputId": "e17e0b39-47d7-487e-f06c-79a947ce2913",
        "colab": {
          "base_uri": "https://localhost:8080/",
          "height": 314
        }
      },
      "source": [
        "model = Sequential()\n",
        "model.add(Conv2D(30, (5, 5), input_shape=(28, 28, 1), activation='relu'))\n",
        "model.add(MaxPooling2D(pool_size=(2, 2)))\n",
        "model.add(Dropout(0.2))\n",
        "model.add(Flatten())\n",
        "model.add(Dense(50, activation='relu', kernel_initializer='normal'))\n",
        "model.add(Dense(num_classes, activation='softmax', kernel_initializer='normal'))"
      ],
      "execution_count": 13,
      "outputs": [
        {
          "output_type": "stream",
          "text": [
            "WARNING: Logging before flag parsing goes to stderr.\n",
            "W0701 04:51:14.285164 139733662820224 deprecation_wrapper.py:119] From /usr/local/lib/python3.6/dist-packages/keras/backend/tensorflow_backend.py:74: The name tf.get_default_graph is deprecated. Please use tf.compat.v1.get_default_graph instead.\n",
            "\n",
            "W0701 04:51:14.319924 139733662820224 deprecation_wrapper.py:119] From /usr/local/lib/python3.6/dist-packages/keras/backend/tensorflow_backend.py:517: The name tf.placeholder is deprecated. Please use tf.compat.v1.placeholder instead.\n",
            "\n",
            "W0701 04:51:14.326993 139733662820224 deprecation_wrapper.py:119] From /usr/local/lib/python3.6/dist-packages/keras/backend/tensorflow_backend.py:4138: The name tf.random_uniform is deprecated. Please use tf.random.uniform instead.\n",
            "\n",
            "W0701 04:51:14.364472 139733662820224 deprecation_wrapper.py:119] From /usr/local/lib/python3.6/dist-packages/keras/backend/tensorflow_backend.py:3976: The name tf.nn.max_pool is deprecated. Please use tf.nn.max_pool2d instead.\n",
            "\n",
            "W0701 04:51:14.367571 139733662820224 deprecation_wrapper.py:119] From /usr/local/lib/python3.6/dist-packages/keras/backend/tensorflow_backend.py:133: The name tf.placeholder_with_default is deprecated. Please use tf.compat.v1.placeholder_with_default instead.\n",
            "\n",
            "W0701 04:51:14.379833 139733662820224 deprecation.py:506] From /usr/local/lib/python3.6/dist-packages/keras/backend/tensorflow_backend.py:3445: calling dropout (from tensorflow.python.ops.nn_ops) with keep_prob is deprecated and will be removed in a future version.\n",
            "Instructions for updating:\n",
            "Please use `rate` instead of `keep_prob`. Rate should be set to `rate = 1 - keep_prob`.\n",
            "W0701 04:51:14.409229 139733662820224 deprecation_wrapper.py:119] From /usr/local/lib/python3.6/dist-packages/keras/backend/tensorflow_backend.py:4115: The name tf.random_normal is deprecated. Please use tf.random.normal instead.\n",
            "\n"
          ],
          "name": "stderr"
        }
      ]
    },
    {
      "cell_type": "markdown",
      "metadata": {
        "id": "4Bbm7yaaPazb",
        "colab_type": "text"
      },
      "source": [
        "### Compile the model\n",
        "The next step is to compile the model. The loss function (`categorical_crossentropy`) is the same as the Iris multi-class classification exercise."
      ]
    },
    {
      "cell_type": "code",
      "metadata": {
        "id": "VF64rw4CPazc",
        "colab_type": "code",
        "outputId": "86541a06-d019-44c5-a7d8-6a1203ddab67",
        "colab": {
          "base_uri": "https://localhost:8080/",
          "height": 71
        }
      },
      "source": [
        "model.compile(loss='categorical_crossentropy', optimizer='adam', metrics=['accuracy'])"
      ],
      "execution_count": 14,
      "outputs": [
        {
          "output_type": "stream",
          "text": [
            "W0701 04:51:14.449603 139733662820224 deprecation_wrapper.py:119] From /usr/local/lib/python3.6/dist-packages/keras/optimizers.py:790: The name tf.train.Optimizer is deprecated. Please use tf.compat.v1.train.Optimizer instead.\n",
            "\n"
          ],
          "name": "stderr"
        }
      ]
    },
    {
      "cell_type": "markdown",
      "metadata": {
        "id": "D_zIbC2DPaze",
        "colab_type": "text"
      },
      "source": [
        "### Fit the model\n",
        "The next step is to train the model. It takes a lot more computing resources to train convultional neural networks, so note that far less `epochs` are used, but a much larger `batch_size` is used due to a much larger data set."
      ]
    },
    {
      "cell_type": "code",
      "metadata": {
        "id": "gZVKLVd7Pazf",
        "colab_type": "code",
        "outputId": "162312ae-72e8-4f2f-b29e-286d3f325c9a",
        "colab": {
          "base_uri": "https://localhost:8080/",
          "height": 453
        }
      },
      "source": [
        "history = model.fit(X_train, y_train, validation_data=(X_test, y_test), epochs=10, batch_size=200)"
      ],
      "execution_count": 15,
      "outputs": [
        {
          "output_type": "stream",
          "text": [
            "W0701 04:51:17.708031 139733662820224 deprecation.py:323] From /usr/local/lib/python3.6/dist-packages/tensorflow/python/ops/math_grad.py:1250: add_dispatch_support.<locals>.wrapper (from tensorflow.python.ops.array_ops) is deprecated and will be removed in a future version.\n",
            "Instructions for updating:\n",
            "Use tf.where in 2.0, which has the same broadcast rule as np.where\n"
          ],
          "name": "stderr"
        },
        {
          "output_type": "stream",
          "text": [
            "Train on 60000 samples, validate on 10000 samples\n",
            "Epoch 1/10\n",
            "60000/60000 [==============================] - 30s 493us/step - loss: 0.4058 - acc: 0.8842 - val_loss: 0.1336 - val_acc: 0.9620\n",
            "Epoch 2/10\n",
            "60000/60000 [==============================] - 29s 478us/step - loss: 0.1204 - acc: 0.9650 - val_loss: 0.0701 - val_acc: 0.9787\n",
            "Epoch 3/10\n",
            "60000/60000 [==============================] - 29s 482us/step - loss: 0.0814 - acc: 0.9761 - val_loss: 0.0535 - val_acc: 0.9820\n",
            "Epoch 4/10\n",
            "60000/60000 [==============================] - 29s 482us/step - loss: 0.0646 - acc: 0.9802 - val_loss: 0.0532 - val_acc: 0.9835\n",
            "Epoch 5/10\n",
            "60000/60000 [==============================] - 29s 480us/step - loss: 0.0544 - acc: 0.9835 - val_loss: 0.0427 - val_acc: 0.9863\n",
            "Epoch 6/10\n",
            "60000/60000 [==============================] - 29s 482us/step - loss: 0.0460 - acc: 0.9860 - val_loss: 0.0382 - val_acc: 0.9867\n",
            "Epoch 7/10\n",
            "60000/60000 [==============================] - 29s 481us/step - loss: 0.0408 - acc: 0.9874 - val_loss: 0.0386 - val_acc: 0.9870\n",
            "Epoch 8/10\n",
            "60000/60000 [==============================] - 29s 480us/step - loss: 0.0352 - acc: 0.9887 - val_loss: 0.0349 - val_acc: 0.9872\n",
            "Epoch 9/10\n",
            "60000/60000 [==============================] - 29s 479us/step - loss: 0.0329 - acc: 0.9897 - val_loss: 0.0344 - val_acc: 0.9876\n",
            "Epoch 10/10\n",
            "60000/60000 [==============================] - 29s 478us/step - loss: 0.0285 - acc: 0.9907 - val_loss: 0.0314 - val_acc: 0.9896\n"
          ],
          "name": "stdout"
        }
      ]
    },
    {
      "cell_type": "code",
      "metadata": {
        "id": "Gj792fukPazj",
        "colab_type": "code",
        "colab": {}
      },
      "source": [
        "plot_acc_loss(history)"
      ],
      "execution_count": 0,
      "outputs": []
    },
    {
      "cell_type": "markdown",
      "metadata": {
        "id": "MxF4uux0Pazm",
        "colab_type": "text"
      },
      "source": [
        "### Evaluate the model\n",
        "Now that we have trained our model, we can evaluate the performance on the test data."
      ]
    },
    {
      "cell_type": "code",
      "metadata": {
        "id": "mkiqn2WvPazn",
        "colab_type": "code",
        "colab": {}
      },
      "source": [
        "scores = model.evaluate(numpy.concatenate((X_train, X_test), axis=0), numpy.concatenate((y_train, y_test), axis=0), verbose=0)\n",
        "print(\"Accuracy: {0:.2f}%, Error: {1:.2f}%. \".format(scores[1]*100, 100-scores[1]*100))"
      ],
      "execution_count": 0,
      "outputs": []
    },
    {
      "cell_type": "code",
      "metadata": {
        "id": "PWu-8MWGIWfx",
        "colab_type": "code",
        "colab": {}
      },
      "source": [
        "# Combing train and test datasets\n",
        "X = numpy.concatenate((X_train, X_test), axis=0)\n",
        "y=np.concatenate((y_train,y_test),axis=0)\n",
        "                     "
      ],
      "execution_count": 0,
      "outputs": []
    },
    {
      "cell_type": "code",
      "metadata": {
        "id": "tjANu_nnT6dU",
        "colab_type": "code",
        "colab": {}
      },
      "source": [
        "y_pred = model.predict_classes(X)"
      ],
      "execution_count": 0,
      "outputs": []
    },
    {
      "cell_type": "code",
      "metadata": {
        "id": "AYMZulmTIuAJ",
        "colab_type": "code",
        "colab": {}
      },
      "source": [
        "y"
      ],
      "execution_count": 0,
      "outputs": []
    },
    {
      "cell_type": "code",
      "metadata": {
        "id": "_jcvokSwVqbs",
        "colab_type": "code",
        "colab": {}
      },
      "source": [
        "\n",
        "y=np.asarray([np.where(r==1)[0][0] for r in y])"
      ],
      "execution_count": 0,
      "outputs": []
    },
    {
      "cell_type": "code",
      "metadata": {
        "id": "P2RadD5bVP8B",
        "colab_type": "code",
        "colab": {}
      },
      "source": [
        "matrix = metrics.confusion_matrix(y, y_pred) # (y_true,y_pred)\n",
        "print(matrix)"
      ],
      "execution_count": 0,
      "outputs": []
    },
    {
      "cell_type": "markdown",
      "metadata": {
        "id": "erISkHH4Gq0g",
        "colab_type": "text"
      },
      "source": [
        "### Visualising errors\n"
      ]
    },
    {
      "cell_type": "code",
      "metadata": {
        "id": "gGJd3o5vGqR_",
        "colab_type": "code",
        "colab": {}
      },
      "source": [
        "pred_right = y == y_pred\n",
        "\n",
        "wrong = [i for i, pred in enumerate(pred_right) if pred==False]\n",
        "\n",
        "error_example = wrong[0]\n",
        "\n",
        "plt.imshow(X[error_example,:,:,0])\n",
        "print(\"{0}>{1}\".format(y[error_example], y_pred[error_example]))"
      ],
      "execution_count": 0,
      "outputs": []
    },
    {
      "cell_type": "markdown",
      "metadata": {
        "id": "8l8nl9Fc4JsH",
        "colab_type": "text"
      },
      "source": [
        "# Key Points\n",
        "\n",
        "\n",
        "*  Convolutional neural network\n",
        "*   Image data structure for a 2D convolutional neural network\n",
        "*  Some of the layers we can use in our model (e.g., max pooling, dropout)\n",
        "\n"
      ]
    },
    {
      "cell_type": "markdown",
      "metadata": {
        "id": "vlZJl-XAPazq",
        "colab_type": "text"
      },
      "source": [
        "### Network topologies\n",
        "Changing the structure of a neural network is one of the best methods for improving the accuracy of a neural network. There are two key ways to change your network topology:\n",
        "\n",
        "* Create a deeper network topology\n",
        "* Create a wider network topology\n",
        "\n",
        "Here are some examples of what this means in the context of the network used in the Iris neural network - exercise 2.\n",
        "\n",
        "#### Baseline\n",
        "This was our baseline model for the iris dataset:\n",
        "```python\n",
        "model = Sequential()\n",
        "model.add(Dense(4, input_dim=4, activation='relu', kernel_initializer='normal'))\n",
        "model.add(Dense(3, activation='sigmoid', kernel_initializer='normal'))\n",
        "```\n",
        "\n",
        "#### Deeper\n",
        "In a deeper network topology you simply increase the number of layers:\n",
        "```python\n",
        "model = Sequential()\n",
        "model.add(Dense(4, input_dim=4, activation='relu', kernel_initializer='normal'))\n",
        "model.add(Dense(4, activation='relu', kernel_initializer='normal'))\n",
        "model.add(Dense(3, activation='sigmoid', kernel_initializer='normal'))\n",
        "```\n",
        "\n",
        "#### Wider\n",
        "In a wider network topology you increase the number of neurons in the hidden layers:\n",
        "```python\n",
        "model = Sequential()\n",
        "model.add(Dense(8, input_dim=4, activation='relu', kernel_initializer='normal'))\n",
        "model.add(Dense(3, activation='sigmoid', kernel_initializer='normal'))\n",
        "```"
      ]
    },
    {
      "cell_type": "markdown",
      "metadata": {
        "id": "4__eh--XPazr",
        "colab_type": "text"
      },
      "source": [
        "## Task 2: create different network topologies\n",
        "Create a model with a wider and deeper network topology and see how it performs with regards to the simpler model.\n",
        "\n",
        "Hints:\n",
        "* Think about adding more Conv2D and MaxPooling2D layers, followed by the Flatten layer and Dense layers that decrease in the number of neurons (hundreds -> num_classes)"
      ]
    },
    {
      "cell_type": "code",
      "metadata": {
        "id": "otqKdAkBPazs",
        "colab_type": "code",
        "colab": {}
      },
      "source": [
        ""
      ],
      "execution_count": 0,
      "outputs": []
    }
  ]
}