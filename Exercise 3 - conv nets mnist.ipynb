{
  "nbformat": 4,
  "nbformat_minor": 0,
  "metadata": {
    "colab": {
      "name": "Exercise 4 - conv nets mnist.ipynb",
      "version": "0.3.2",
      "provenance": [],
      "include_colab_link": true
    },
    "language_info": {
      "codemirror_mode": {
        "name": "ipython",
        "version": 3
      },
      "file_extension": ".py",
      "mimetype": "text/x-python",
      "name": "python",
      "nbconvert_exporter": "python",
      "pygments_lexer": "ipython3",
      "version": "3.6.8"
    },
    "kernelspec": {
      "name": "python3",
      "display_name": "Python 3"
    },
    "accelerator": "TPU"
  },
  "cells": [
    {
      "cell_type": "markdown",
      "metadata": {
        "id": "view-in-github",
        "colab_type": "text"
      },
      "source": [
        "<a href=\"https://colab.research.google.com/github/UoA-eResearch/deep-learning-tutorial-2019/blob/master/Exercise%203%20-%20conv%20nets%20mnist.ipynb\" target=\"_parent\"><img src=\"https://colab.research.google.com/assets/colab-badge.svg\" alt=\"Open In Colab\"/></a>"
      ]
    },
    {
      "cell_type": "markdown",
      "metadata": {
        "id": "InMicKsvPay_",
        "colab_type": "text"
      },
      "source": [
        "## Exercise 4: MNIST\n",
        "Lets first look at [this fun video](https://www.youtube.com/watch?v=p_7GWRup-nQ) or [this technical video](https://www.youtube.com/watch?v=FmpDIaiMIeA) to get an understanding of what a convolutional neural network is.\n",
        "\n",
        "### Goal in this exercise\n",
        "We will create a convolutional neural network that classifies handwritten digits (0-9) from the [MNIST dataset](http://yann.lecun.com/exdb/mnist/). The MNIST dataset has 60,000 training examples and 10,000 test samples. The digits are normalised for size and centred.\n",
        "\n",
        "![MNIST Digits](https://camo.githubusercontent.com/d440ac2eee1cb3ea33340a2c5f6f15a0878e9275/687474703a2f2f692e7974696d672e636f6d2f76692f3051493378675875422d512f687164656661756c742e6a7067)\n",
        "\n",
        "### Q: How many output classes do we have in this problem? Please name the type of problem we are trying to solve.\n",
        "\n",
        "*Answer...*\n",
        "\n",
        "*This is a multi-class classification problem. The main difference between the previous exercises is that we are now processing images rather than a vector of numbers. Also, we are going to use the GPU to speed up computation.*\n",
        "\n",
        "#### To use GPU on the Google Colab notebook,\n",
        "\n",
        "Navigate to the \"Runtime\" tab --> \"Change runtime type\". In the pop-up window, under \"Hardware accelerator\" select \"GPU\".\n",
        "\n",
        "#### The last step of this exercise contains a task."
      ]
    },
    {
      "cell_type": "markdown",
      "metadata": {
        "id": "65_UWdwWPazB",
        "colab_type": "text"
      },
      "source": [
        "### Import dependencies\n",
        "Start by importing the dependencies we will need for the project"
      ]
    },
    {
      "cell_type": "code",
      "metadata": {
        "id": "mT-sc0grPazC",
        "colab_type": "code",
        "colab": {
          "base_uri": "https://localhost:8080/",
          "height": 34
        },
        "outputId": "35ba3967-de68-4dc8-f0fb-a2956d3a4001"
      },
      "source": [
        "import numpy\n",
        "from keras.datasets import mnist\n",
        "from keras.models import Sequential\n",
        "from keras.layers import Dense\n",
        "from keras.layers import Dropout\n",
        "from keras.layers import Flatten\n",
        "from keras.layers.convolutional import Conv2D\n",
        "from keras.layers.convolutional import MaxPooling2D\n",
        "from keras.utils import np_utils\n",
        "from keras import backend as K\n",
        "import matplotlib.pyplot as plt\n",
        "import numpy as np\n",
        "from sklearn import metrics\n",
        "\n",
        "if K.image_dim_ordering() != \"tf\":\n",
        "  print(\"Backend image dimension ordering is inappropriate. Change it by typing K.image_dim_ordering('tf')\")"
      ],
      "execution_count": 1,
      "outputs": [
        {
          "output_type": "stream",
          "text": [
            "Using TensorFlow backend.\n"
          ],
          "name": "stderr"
        }
      ]
    },
    {
      "cell_type": "code",
      "metadata": {
        "id": "fJ7DRdLfPazH",
        "colab_type": "code",
        "colab": {}
      },
      "source": [
        "def plot_acc_loss(history):\n",
        "    f, (ax1, ax2) = plt.subplots(2,1, figsize=(10,10))\n",
        "    \n",
        "    # Summarize history of accuracy\n",
        "    ax1.plot(history.history['loss'])\n",
        "    ax1.plot(history.history['val_loss'])\n",
        "    ax1.set_title('model loss')\n",
        "    ax1.legend(['train', 'test'], loc='upper left')\n",
        "    \n",
        "    # Summarize history of accuracy\n",
        "    ax2.plot(history.history['acc'])\n",
        "    ax2.plot(history.history['val_acc'])\n",
        "    ax2.set_title('model accuracy')\n",
        "    ax2.set_xlabel('epoch')\n",
        "    ax2.legend(['train', 'test'], loc='upper left')\n",
        "    \n",
        "    plt.subplots_adjust(hspace=0.5)\n",
        "    plt.show()"
      ],
      "execution_count": 0,
      "outputs": []
    },
    {
      "cell_type": "markdown",
      "metadata": {
        "id": "4IaKUu9iPazI",
        "colab_type": "text"
      },
      "source": [
        "### Set seed\n",
        "Set a seed value so that when we repeatedly run our code we will get the same result. Using the same seed is important when you want to compare algorithms."
      ]
    },
    {
      "cell_type": "code",
      "metadata": {
        "id": "aHY6TUaIPazJ",
        "colab_type": "code",
        "colab": {}
      },
      "source": [
        "seed = 7\n",
        "numpy.random.seed(seed)"
      ],
      "execution_count": 0,
      "outputs": []
    },
    {
      "cell_type": "markdown",
      "metadata": {
        "id": "ym1Hpf4yPazL",
        "colab_type": "text"
      },
      "source": [
        "### Import data\n",
        "The MNIST dataset has  60,000 training samples and 10,000 test samples.\n",
        "\n",
        "Keras includes a number of datasets, including MNIST in the `keras.datasets` module. To download the MNIST dataset call `mnist.load_data()`."
      ]
    },
    {
      "cell_type": "code",
      "metadata": {
        "id": "LgaFPEQqPazL",
        "colab_type": "code",
        "colab": {
          "base_uri": "https://localhost:8080/",
          "height": 51
        },
        "outputId": "4cee3b1f-f68f-428b-9426-5e82c396cf43"
      },
      "source": [
        "(X_train, y_train), (X_test, y_test) = mnist.load_data()"
      ],
      "execution_count": 4,
      "outputs": [
        {
          "output_type": "stream",
          "text": [
            "Downloading data from https://s3.amazonaws.com/img-datasets/mnist.npz\n",
            "11493376/11490434 [==============================] - 1s 0us/step\n"
          ],
          "name": "stdout"
        }
      ]
    },
    {
      "cell_type": "markdown",
      "metadata": {
        "id": "gpplR83PPazO",
        "colab_type": "text"
      },
      "source": [
        "A two dimensional convolutional neural network expects data to be arranged in a four dimensional shape: *number of samples*  x  *width*  x *height*  x *channels*.\n",
        "\n",
        "For example, assume we have 10 RGB images, with widths and heights of 20 pixels. This would need to be shaped into 10 samples, each RGB channel would be split into three separate images (1 for red, 1 for green and 1 for blue). Each image would then be a 2D array with 20 rows and columns.\n",
        "\n",
        "The MNIST data has the wrong shape for a 2D convolutional neural network (3 dimensions rather than four):"
      ]
    },
    {
      "cell_type": "code",
      "metadata": {
        "id": "ncPzS_pgPazO",
        "colab_type": "code",
        "outputId": "3e1e4354-2c9f-48b7-dc2e-002aed040d3b",
        "colab": {
          "base_uri": "https://localhost:8080/",
          "height": 34
        }
      },
      "source": [
        "print(X_train.shape)"
      ],
      "execution_count": 5,
      "outputs": [
        {
          "output_type": "stream",
          "text": [
            "(60000, 28, 28)\n"
          ],
          "name": "stdout"
        }
      ]
    },
    {
      "cell_type": "markdown",
      "metadata": {
        "id": "UGzJ70itPazR",
        "colab_type": "text"
      },
      "source": [
        "The data is missing the dimension for channels, so we need to reshape the data to add it in. The images in the MNIST example are gray scale, so they only have 1 channel.\n",
        "\n",
        "This is done using the numpy `reshape` method."
      ]
    },
    {
      "cell_type": "code",
      "metadata": {
        "id": "oVUverfbPazR",
        "colab_type": "code",
        "colab": {}
      },
      "source": [
        "X_train = X_train.reshape(X_train.shape[0], 28, 28, 1).astype('float32')\n",
        "X_test = X_test.reshape(X_test.shape[0], 28, 28, 1).astype('float32')"
      ],
      "execution_count": 0,
      "outputs": []
    },
    {
      "cell_type": "code",
      "metadata": {
        "id": "hslyE7ZtQd9U",
        "colab_type": "code",
        "outputId": "98f8e520-c272-42fb-a13e-74b3b033ed2e",
        "colab": {
          "base_uri": "https://localhost:8080/",
          "height": 34
        }
      },
      "source": [
        "X_train.shape"
      ],
      "execution_count": 7,
      "outputs": [
        {
          "output_type": "execute_result",
          "data": {
            "text/plain": [
              "(60000, 28, 28, 1)"
            ]
          },
          "metadata": {
            "tags": []
          },
          "execution_count": 7
        }
      ]
    },
    {
      "cell_type": "markdown",
      "metadata": {
        "id": "EG_Y_bglPazT",
        "colab_type": "text"
      },
      "source": [
        "Normalize the pixels to the range 0 - 1"
      ]
    },
    {
      "cell_type": "code",
      "metadata": {
        "id": "7194uirnPazU",
        "colab_type": "code",
        "colab": {}
      },
      "source": [
        "X_train = X_train / 255\n",
        "X_test = X_test / 255"
      ],
      "execution_count": 0,
      "outputs": []
    },
    {
      "cell_type": "code",
      "metadata": {
        "id": "Do74SQpq-kcE",
        "colab_type": "code",
        "colab": {
          "base_uri": "https://localhost:8080/",
          "height": 286
        },
        "outputId": "2a70ff1c-535b-4a5d-87cf-f8983bef62b6"
      },
      "source": [
        "# Show the first image in the train dataset and the corresponding output variable\n",
        "plt.imshow(np.array(X_train[1,:,:,0]), cmap='gray')\n",
        "print(y_train[1])"
      ],
      "execution_count": 41,
      "outputs": [
        {
          "output_type": "stream",
          "text": [
            "0\n"
          ],
          "name": "stdout"
        },
        {
          "output_type": "display_data",
          "data": {
            "image/png": "[encoded data removed]",
            "text/plain": [
              "<Figure size 432x288 with 1 Axes>"
            ]
          },
          "metadata": {
            "tags": []
          }
        }
      ]
    },
    {
      "cell_type": "code",
      "metadata": {
        "id": "RkDQnDiH_o39",
        "colab_type": "code",
        "colab": {
          "base_uri": "https://localhost:8080/",
          "height": 493
        },
        "outputId": "9aa8bfe2-d143-4b5e-d0d5-72ed237f52bd"
      },
      "source": [
        "# Showing the pixel values\n",
        "five = X_train[1].reshape(28,28)\n",
        "for row in range(28):\n",
        "  for col in range(28):\n",
        "    print(\"%.F \" % five[row][col], end=\"\")\n",
        "  print(\"\")"
      ],
      "execution_count": 43,
      "outputs": [
        {
          "output_type": "stream",
          "text": [
            "0 0 0 0 0 0 0 0 0 0 0 0 0 0 0 0 0 0 0 0 0 0 0 0 0 0 0 0 \n",
            "0 0 0 0 0 0 0 0 0 0 0 0 0 0 0 0 0 0 0 0 0 0 0 0 0 0 0 0 \n",
            "0 0 0 0 0 0 0 0 0 0 0 0 0 0 0 0 0 0 0 0 0 0 0 0 0 0 0 0 \n",
            "0 0 0 0 0 0 0 0 0 0 0 0 0 0 0 0 0 0 0 0 0 0 0 0 0 0 0 0 \n",
            "0 0 0 0 0 0 0 0 0 0 0 0 0 0 0 0 1 1 1 0 0 0 0 0 0 0 0 0 \n",
            "0 0 0 0 0 0 0 0 0 0 0 0 0 0 0 1 1 1 1 1 0 0 0 0 0 0 0 0 \n",
            "0 0 0 0 0 0 0 0 0 0 0 0 0 0 1 1 1 1 1 1 0 0 0 0 0 0 0 0 \n",
            "0 0 0 0 0 0 0 0 0 0 0 0 0 1 1 1 1 1 0 1 1 0 0 0 0 0 0 0 \n",
            "0 0 0 0 0 0 0 0 0 0 0 1 1 1 1 1 1 1 0 1 1 1 0 0 0 0 0 0 \n",
            "0 0 0 0 0 0 0 0 0 0 0 1 1 1 1 0 1 1 0 0 1 1 0 0 0 0 0 0 \n",
            "0 0 0 0 0 0 0 0 0 0 1 1 1 1 0 0 0 0 0 0 1 1 0 0 0 0 0 0 \n",
            "0 0 0 0 0 0 0 0 0 1 1 1 1 0 0 0 0 0 0 0 1 1 1 0 0 0 0 0 \n",
            "0 0 0 0 0 0 0 0 1 1 1 0 0 0 0 0 0 0 0 0 1 1 1 0 0 0 0 0 \n",
            "0 0 0 0 0 0 0 0 1 1 0 0 0 0 0 0 0 0 0 0 1 1 1 0 0 0 0 0 \n",
            "0 0 0 0 0 0 0 1 1 1 0 0 0 0 0 0 0 0 0 0 1 1 1 0 0 0 0 0 \n",
            "0 0 0 0 0 0 0 1 1 0 0 0 0 0 0 0 0 0 0 0 1 1 1 0 0 0 0 0 \n",
            "0 0 0 0 0 0 0 1 1 0 0 0 0 0 0 0 0 0 0 1 1 1 0 0 0 0 0 0 \n",
            "0 0 0 0 0 0 0 1 1 0 0 0 0 0 0 0 0 0 1 1 1 0 0 0 0 0 0 0 \n",
            "0 0 0 0 0 0 0 1 1 0 0 0 0 0 0 0 0 1 1 1 0 0 0 0 0 0 0 0 \n",
            "0 0 0 0 0 0 0 1 1 0 0 0 0 0 0 0 1 1 1 0 0 0 0 0 0 0 0 0 \n",
            "0 0 0 0 0 0 0 1 1 1 0 0 0 1 1 1 1 1 0 0 0 0 0 0 0 0 0 0 \n",
            "0 0 0 0 0 0 0 1 1 1 1 1 1 1 1 1 1 0 0 0 0 0 0 0 0 0 0 0 \n",
            "0 0 0 0 0 0 0 1 1 1 1 1 1 1 1 0 0 0 0 0 0 0 0 0 0 0 0 0 \n",
            "0 0 0 0 0 0 0 0 1 1 1 1 1 0 0 0 0 0 0 0 0 0 0 0 0 0 0 0 \n",
            "0 0 0 0 0 0 0 0 0 0 0 0 0 0 0 0 0 0 0 0 0 0 0 0 0 0 0 0 \n",
            "0 0 0 0 0 0 0 0 0 0 0 0 0 0 0 0 0 0 0 0 0 0 0 0 0 0 0 0 \n",
            "0 0 0 0 0 0 0 0 0 0 0 0 0 0 0 0 0 0 0 0 0 0 0 0 0 0 0 0 \n",
            "0 0 0 0 0 0 0 0 0 0 0 0 0 0 0 0 0 0 0 0 0 0 0 0 0 0 0 0 \n"
          ],
          "name": "stdout"
        }
      ]
    },
    {
      "cell_type": "markdown",
      "metadata": {
        "id": "_r-iaVYvPazV",
        "colab_type": "text"
      },
      "source": [
        "One hot encode the target variables as you did in the Iris classification exercise. The data is already numeric so you do not need to use the LabelEncoder."
      ]
    },
    {
      "cell_type": "code",
      "metadata": {
        "id": "KVPnWNm5PazW",
        "colab_type": "code",
        "outputId": "0c3d32d9-14cc-48e1-cb61-f9ee62a3d95f",
        "colab": {
          "base_uri": "https://localhost:8080/",
          "height": 34
        }
      },
      "source": [
        "y_train = np_utils.to_categorical(y_train)\n",
        "y_test = np_utils.to_categorical(y_test)\n",
        "num_classes = y_test.shape[1]\n",
        "print(\"Number of classes: {0}\".format(num_classes))"
      ],
      "execution_count": 44,
      "outputs": [
        {
          "output_type": "stream",
          "text": [
            "Number of classes: 10\n"
          ],
          "name": "stdout"
        }
      ]
    },
    {
      "cell_type": "markdown",
      "metadata": {
        "id": "7hs9WqjwPazY",
        "colab_type": "text"
      },
      "source": [
        "### Create the model\n",
        "\n",
        "1. The input layer takes inputs with a dimension 28x28x1\n",
        "2. The first hidden layer is a `Conv2D` layer. We have set it to have 30 filters (the number of output filters) and the size of the kernel to 5x5.\n",
        "3. The `MaxPooling2D` has a kernel size of 2x2. This downsamples the output of the previous layer by selecting the maxiumum value in each kernel. An example is illustrated below: \n",
        "![Max pooling](https://computersciencewiki.org/images/8/8a/MaxpoolSample2.png)\n",
        "4. The `Dropout` layer is used to prevent overfitting. It does this by randomly turning off neurons (20% in this case). \n",
        "![Dropout layer](https://s3-ap-south-1.amazonaws.com/av-blog-media/wp-content/uploads/2018/04/1IrdJ5PghD9YoOyVAQ73MJw.gif)\n",
        "5. The `Flatten` layer flattens the Conv2D layers into a normal fully connected layer that can be connected to a Dense layer. \n",
        "![Flatten layer](https://sds-platform-private.s3-us-east-2.amazonaws.com/uploads/73_blog_image_1.png)\n",
        "6. A `Dense` fully connected layer is added with 50 neurons.\n",
        "7. The last layer is the output layer, which has 10 neurons (one for each class/digit)."
      ]
    },
    {
      "cell_type": "code",
      "metadata": {
        "id": "wpYkWScaPazZ",
        "colab_type": "code",
        "outputId": "de525fef-5bb3-4c75-e075-fc2d24ea432e",
        "colab": {
          "base_uri": "https://localhost:8080/",
          "height": 119
        }
      },
      "source": [
        "model = Sequential()\n",
        "model.add(Conv2D(30, (5, 5), input_shape=(28, 28, 1), activation='relu'))\n",
        "model.add(MaxPooling2D(pool_size=(2, 2)))\n",
        "model.add(Dropout(0.2))\n",
        "model.add(Flatten())\n",
        "model.add(Dense(50, activation='relu', kernel_initializer='normal'))\n",
        "model.add(Dense(num_classes, activation='softmax', kernel_initializer='normal'))"
      ],
      "execution_count": 45,
      "outputs": [
        {
          "output_type": "stream",
          "text": [
            "WARNING:tensorflow:From /usr/local/lib/python3.6/dist-packages/tensorflow/python/framework/op_def_library.py:263: colocate_with (from tensorflow.python.framework.ops) is deprecated and will be removed in a future version.\n",
            "Instructions for updating:\n",
            "Colocations handled automatically by placer.\n",
            "WARNING:tensorflow:From /usr/local/lib/python3.6/dist-packages/keras/backend/tensorflow_backend.py:3445: calling dropout (from tensorflow.python.ops.nn_ops) with keep_prob is deprecated and will be removed in a future version.\n",
            "Instructions for updating:\n",
            "Please use `rate` instead of `keep_prob`. Rate should be set to `rate = 1 - keep_prob`.\n"
          ],
          "name": "stdout"
        }
      ]
    },
    {
      "cell_type": "markdown",
      "metadata": {
        "id": "4Bbm7yaaPazb",
        "colab_type": "text"
      },
      "source": [
        "### Compile the model\n",
        "The next step is to compile the model. The loss function (`categorical_crossentropy`) is the same as the Iris multi-class classification exercise."
      ]
    },
    {
      "cell_type": "code",
      "metadata": {
        "id": "VF64rw4CPazc",
        "colab_type": "code",
        "colab": {}
      },
      "source": [
        "model.compile(loss='categorical_crossentropy', optimizer='adam', metrics=['accuracy'])"
      ],
      "execution_count": 0,
      "outputs": []
    },
    {
      "cell_type": "markdown",
      "metadata": {
        "id": "D_zIbC2DPaze",
        "colab_type": "text"
      },
      "source": [
        "### Fit the model\n",
        "The next step is to train the model. It takes a lot more comuting resources to train convultional neural networks, so note that far less `epochs` are used, but a much larger `batch_size` is used due to a much larger data set."
      ]
    },
    {
      "cell_type": "code",
      "metadata": {
        "id": "gZVKLVd7Pazf",
        "colab_type": "code",
        "outputId": "9eb2cab8-c600-417f-907b-2be79f85d2cb",
        "colab": {
          "base_uri": "https://localhost:8080/",
          "height": 374
        }
      },
      "source": [
        "history = model.fit(X_train, y_train, validation_data=(X_test, y_test), epochs=10, batch_size=200)"
      ],
      "execution_count": 48,
      "outputs": [
        {
          "output_type": "stream",
          "text": [
            "Train on 60000 samples, validate on 10000 samples\n",
            "Epoch 1/10\n",
            "60000/60000 [==============================] - 42s 693us/step - loss: 0.2212 - acc: 0.9353 - val_loss: 0.1111 - val_acc: 0.9672\n",
            "Epoch 2/10\n",
            "60000/60000 [==============================] - 41s 691us/step - loss: 0.1057 - acc: 0.9680 - val_loss: 0.0687 - val_acc: 0.9795\n",
            "Epoch 3/10\n",
            "60000/60000 [==============================] - 42s 692us/step - loss: 0.0777 - acc: 0.9772 - val_loss: 0.0533 - val_acc: 0.9833\n",
            "Epoch 4/10\n",
            "60000/60000 [==============================] - 42s 696us/step - loss: 0.0615 - acc: 0.9816 - val_loss: 0.0502 - val_acc: 0.9834\n",
            "Epoch 5/10\n",
            "60000/60000 [==============================] - 42s 696us/step - loss: 0.0506 - acc: 0.9843 - val_loss: 0.0440 - val_acc: 0.9863\n",
            "Epoch 6/10\n",
            "60000/60000 [==============================] - 42s 694us/step - loss: 0.0437 - acc: 0.9865 - val_loss: 0.0433 - val_acc: 0.9857\n",
            "Epoch 7/10\n",
            "60000/60000 [==============================] - 42s 694us/step - loss: 0.0379 - acc: 0.9881 - val_loss: 0.0383 - val_acc: 0.9874\n",
            "Epoch 8/10\n",
            "60000/60000 [==============================] - 42s 695us/step - loss: 0.0332 - acc: 0.9896 - val_loss: 0.0349 - val_acc: 0.9891\n",
            "Epoch 9/10\n",
            "60000/60000 [==============================] - 42s 694us/step - loss: 0.0300 - acc: 0.9909 - val_loss: 0.0321 - val_acc: 0.9894\n",
            "Epoch 10/10\n",
            "60000/60000 [==============================] - 42s 693us/step - loss: 0.0276 - acc: 0.9910 - val_loss: 0.0351 - val_acc: 0.9875\n"
          ],
          "name": "stdout"
        }
      ]
    },
    {
      "cell_type": "code",
      "metadata": {
        "id": "Gj792fukPazj",
        "colab_type": "code",
        "outputId": "aead3ea4-efd1-4090-cb53-ba1b02de4897",
        "colab": {
          "base_uri": "https://localhost:8080/",
          "height": 621
        }
      },
      "source": [
        "plot_acc_loss(history)"
      ],
      "execution_count": 50,
      "outputs": [
        {
          "output_type": "display_data",
          "data": {
            "image/png": "[encoded data removed]",
            "text/plain": [
              "<Figure size 720x720 with 2 Axes>"
            ]
          },
          "metadata": {
            "tags": []
          }
        }
      ]
    },
    {
      "cell_type": "markdown",
      "metadata": {
        "id": "MxF4uux0Pazm",
        "colab_type": "text"
      },
      "source": [
        "### Evaluate the model\n",
        "Now that we have trained our model, we can evaluate the performance on the test data."
      ]
    },
    {
      "cell_type": "code",
      "metadata": {
        "id": "mkiqn2WvPazn",
        "colab_type": "code",
        "outputId": "0040af1a-c484-4cc8-9312-44ea0b993cda",
        "colab": {
          "base_uri": "https://localhost:8080/",
          "height": 34
        }
      },
      "source": [
        "scores = model.evaluate(numpy.concatenate((X_train, X_test), axis=0), numpy.concatenate((y_train, y_test), axis=0), verbose=0)\n",
        "print(\"Accuracy: {0:.2f}%, Error: {1:.2f}%. \".format(scores[1]*100, 100-scores[1]*100))"
      ],
      "execution_count": 51,
      "outputs": [
        {
          "output_type": "stream",
          "text": [
            "Accuracy: 99.35%, Error: 0.65%. \n"
          ],
          "name": "stdout"
        }
      ]
    },
    {
      "cell_type": "code",
      "metadata": {
        "id": "PWu-8MWGIWfx",
        "colab_type": "code",
        "colab": {}
      },
      "source": [
        "# Combing train and test datasets\n",
        "X = numpy.concatenate((X_train, X_test), axis=0)\n",
        "y=np.concatenate((y_train,y_test),axis=0)\n",
        "                     "
      ],
      "execution_count": 0,
      "outputs": []
    },
    {
      "cell_type": "code",
      "metadata": {
        "id": "tjANu_nnT6dU",
        "colab_type": "code",
        "colab": {}
      },
      "source": [
        "y_pred = model.predict_classes(X)"
      ],
      "execution_count": 0,
      "outputs": []
    },
    {
      "cell_type": "code",
      "metadata": {
        "id": "AYMZulmTIuAJ",
        "colab_type": "code",
        "colab": {
          "base_uri": "https://localhost:8080/",
          "height": 136
        },
        "outputId": "3b4fe125-b9ea-4ac1-c3fb-4ab8baadedd2"
      },
      "source": [
        "y"
      ],
      "execution_count": 73,
      "outputs": [
        {
          "output_type": "execute_result",
          "data": {
            "text/plain": [
              "array([[0., 0., 0., ..., 0., 0., 0.],\n",
              "       [1., 0., 0., ..., 0., 0., 0.],\n",
              "       [0., 0., 0., ..., 0., 0., 0.],\n",
              "       ...,\n",
              "       [0., 0., 0., ..., 0., 0., 0.],\n",
              "       [0., 0., 0., ..., 0., 0., 0.],\n",
              "       [0., 0., 0., ..., 0., 0., 0.]], dtype=float32)"
            ]
          },
          "metadata": {
            "tags": []
          },
          "execution_count": 73
        }
      ]
    },
    {
      "cell_type": "code",
      "metadata": {
        "id": "_jcvokSwVqbs",
        "colab_type": "code",
        "colab": {}
      },
      "source": [
        "\n",
        "y=np.asarray([np.where(r==1)[0][0] for r in y])"
      ],
      "execution_count": 0,
      "outputs": []
    },
    {
      "cell_type": "code",
      "metadata": {
        "id": "hqNTMOWgIwLv",
        "colab_type": "code",
        "colab": {
          "base_uri": "https://localhost:8080/",
          "height": 34
        },
        "outputId": "a4685d5a-81d1-4094-b8d2-c8f1b94a4baf"
      },
      "source": [
        "y"
      ],
      "execution_count": 75,
      "outputs": [
        {
          "output_type": "execute_result",
          "data": {
            "text/plain": [
              "array([5, 0, 4, ..., 4, 5, 6])"
            ]
          },
          "metadata": {
            "tags": []
          },
          "execution_count": 75
        }
      ]
    },
    {
      "cell_type": "code",
      "metadata": {
        "id": "P2RadD5bVP8B",
        "colab_type": "code",
        "outputId": "2c7217d4-6b8e-4edf-9753-e07f6803306a",
        "colab": {
          "base_uri": "https://localhost:8080/",
          "height": 187
        }
      },
      "source": [
        "matrix = metrics.confusion_matrix(y, y_pred) # (y_true,y_pred)\n",
        "print(matrix)"
      ],
      "execution_count": 54,
      "outputs": [
        {
          "output_type": "stream",
          "text": [
            "[[6846    2    6    1    0    3   18    9   14    4]\n",
            " [   0 7859    2    3    0    0    3    8    0    2]\n",
            " [   2   11 6929   11    0    0    2   25    7    3]\n",
            " [   0    1    4 7101    0    9    0    9    4   13]\n",
            " [   0    5    0    0 6776    0    4    7    3   29]\n",
            " [   2    1    0   14    0 6272   14    1    1    8]\n",
            " [   5    3    1    0    2    4 6861    0    0    0]\n",
            " [   0   12    8    2    0    0    0 7253    2   16]\n",
            " [   6    4    7   12    3    9   10    5 6737   32]\n",
            " [   4    3    0    6    7    6    0   16    3 6913]]\n"
          ],
          "name": "stdout"
        }
      ]
    },
    {
      "cell_type": "markdown",
      "metadata": {
        "id": "erISkHH4Gq0g",
        "colab_type": "text"
      },
      "source": [
        "### Visualising errors\n"
      ]
    },
    {
      "cell_type": "code",
      "metadata": {
        "id": "gGJd3o5vGqR_",
        "colab_type": "code",
        "colab": {
          "base_uri": "https://localhost:8080/",
          "height": 286
        },
        "outputId": "74bbfd01-731f-4fdf-cc3c-f2a0efd3f564"
      },
      "source": [
        "pred_right = y == y_pred\n",
        "\n",
        "wrong = [i for i, pred in enumerate(pred_right) if pred==False]\n",
        "\n",
        "error_example = wrong[0]\n",
        "\n",
        "plt.imshow(X[error_example,:,:,0])\n",
        "print(\"{0}>{1}\".format(y[error_example], y_pred[error_example]))"
      ],
      "execution_count": 78,
      "outputs": [
        {
          "output_type": "stream",
          "text": [
            "9>8\n"
          ],
          "name": "stdout"
        },
        {
          "output_type": "display_data",
          "data": {
            "image/png": "[encoded data removed]",
            "text/plain": [
              "<Figure size 432x288 with 1 Axes>"
            ]
          },
          "metadata": {
            "tags": []
          }
        }
      ]
    },
    {
      "cell_type": "markdown",
      "metadata": {
        "id": "vlZJl-XAPazq",
        "colab_type": "text"
      },
      "source": [
        "### Network topologies\n",
        "Changing the structure of a neural network is one of the best methods for improving the accuracy of a neural network. There are two key ways to change your network topology:\n",
        "\n",
        "* Create a deeper network topology\n",
        "* Create a wider network topology\n",
        "\n",
        "Here are some examples of what this means in the context of the network used in the Iris neural network - exercise 2.\n",
        "\n",
        "#### Baseline\n",
        "This was our baseline model for the iris dataset:\n",
        "```python\n",
        "model = Sequential()\n",
        "model.add(Dense(4, input_dim=4, activation='relu', kernel_initializer='normal'))\n",
        "model.add(Dense(3, activation='sigmoid', kernel_initializer='normal'))\n",
        "```\n",
        "\n",
        "#### Deeper\n",
        "In a deeper network topology you simply increase the number of layers:\n",
        "```python\n",
        "model = Sequential()\n",
        "model.add(Dense(4, input_dim=4, activation='relu', kernel_initializer='normal'))\n",
        "model.add(Dense(4, activation='relu', kernel_initializer='normal'))\n",
        "model.add(Dense(3, activation='sigmoid', kernel_initializer='normal'))\n",
        "```\n",
        "\n",
        "#### Wider\n",
        "In a wider network topology you increase the number of neurons in the hidden layers:\n",
        "```python\n",
        "model = Sequential()\n",
        "model.add(Dense(8, input_dim=4, activation='relu', kernel_initializer='normal'))\n",
        "model.add(Dense(3, activation='sigmoid', kernel_initializer='normal'))\n",
        "```"
      ]
    },
    {
      "cell_type": "markdown",
      "metadata": {
        "id": "4__eh--XPazr",
        "colab_type": "text"
      },
      "source": [
        "## Task 2: create different network topologies\n",
        "Create a model with a wider and deeper network topology and see how it performs with regards to the simpler model.\n",
        "\n",
        "Hints:\n",
        "* Think about adding more Conv2D and MaxPooling2D layers, followed by the Flatten layer and Dense layers that decrease in the number of neurons (hundreds -> num_classes)"
      ]
    },
    {
      "cell_type": "code",
      "metadata": {
        "id": "otqKdAkBPazs",
        "colab_type": "code",
        "colab": {}
      },
      "source": [
        ""
      ],
      "execution_count": 0,
      "outputs": []
    }
  ]
}