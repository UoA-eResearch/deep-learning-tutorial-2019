{
  "nbformat": 4,
  "nbformat_minor": 0,
  "metadata": {
    "colab": {
      "name": "Exercise 4 - conv nets mnist.ipynb",
      "version": "0.3.2",
      "provenance": [],
      "include_colab_link": true
    },
    "language_info": {
      "codemirror_mode": {
        "name": "ipython",
        "version": 3
      },
      "file_extension": ".py",
      "mimetype": "text/x-python",
      "name": "python",
      "nbconvert_exporter": "python",
      "pygments_lexer": "ipython3",
      "version": "3.6.8"
    },
    "kernelspec": {
      "name": "python3",
      "display_name": "Python 3"
    },
    "accelerator": "TPU"
  },
  "cells": [
    {
      "cell_type": "markdown",
      "metadata": {
        "id": "view-in-github",
        "colab_type": "text"
      },
      "source": [
        "<a href=\"https://colab.research.google.com/github/UoA-eResearch/deep-learning-tutorial-2019/blob/master/Exercise%203%20-%20conv%20nets%20mnist.ipynb\" target=\"_parent\"><img src=\"https://colab.research.google.com/assets/colab-badge.svg\" alt=\"Open In Colab\"/></a>"
      ]
    },
    {
      "cell_type": "markdown",
      "metadata": {
        "id": "InMicKsvPay_",
        "colab_type": "text"
      },
      "source": [
        "## Exercise 3: MNIST\n",
        "Lets first look at [this fun video](https://www.youtube.com/watch?v=p_7GWRup-nQ) or [this technical video](https://www.youtube.com/watch?v=FmpDIaiMIeA) to get an understanding of what a convolutional neural network is.\n",
        "\n",
        "### Goal in this exercise\n",
        "We will create a convolutional neural network that classifies handwritten digits (0-9) from the [MNIST dataset](http://yann.lecun.com/exdb/mnist/). The MNIST dataset has 60,000 training examples and 10,000 test samples. The digits are normalised for size and centred.\n",
        "\n",
        "![MNIST Digits](https://camo.githubusercontent.com/d440ac2eee1cb3ea33340a2c5f6f15a0878e9275/687474703a2f2f692e7974696d672e636f6d2f76692f3051493378675875422d512f687164656661756c742e6a7067)\n",
        "\n",
        "### Q: How many output classes do we have in this problem? Please name the type of problem we are trying to solve.\n",
        "\n",
        "*Answer...*\n",
        "\n",
        "The main difference between the previous exercises is that we are now processing images rather than a vector of numbers. Also, we are going to use the GPU to speed up computation.\n",
        "\n",
        "#### To use GPU on the Google Colab notebook,\n",
        "\n",
        "Navigate to the \"Runtime\" tab --> \"Change runtime type\". In the pop-up window, under \"Hardware accelerator\" select \"GPU\".\n",
        "\n",
        "#### The last step of this exercise contains a task."
      ]
    },
    {
      "cell_type": "markdown",
      "metadata": {
        "id": "65_UWdwWPazB",
        "colab_type": "text"
      },
      "source": [
        "### Import dependencies\n",
        "Start by importing the dependencies we will need for the project"
      ]
    },
    {
      "cell_type": "code",
      "metadata": {
        "id": "mT-sc0grPazC",
        "colab_type": "code",
        "colab": {
          "base_uri": "https://localhost:8080/",
          "height": 34
        },
        "outputId": "235b4342-a269-47af-b812-a65400d12c92"
      },
      "source": [
        "import numpy\n",
        "from keras.datasets import mnist\n",
        "from keras.models import Sequential\n",
        "from keras.layers import Dense\n",
        "from keras.layers import Dropout\n",
        "from keras.layers import Flatten\n",
        "from keras.layers.convolutional import Conv2D\n",
        "from keras.layers.convolutional import MaxPooling2D\n",
        "from sklearn.model_selection import train_test_split\n",
        "from keras.utils import np_utils\n",
        "from keras import backend as K\n",
        "import matplotlib.pyplot as plt\n",
        "import numpy as np\n",
        "from sklearn import metrics\n",
        "import seaborn as sns\n",
        "\n",
        "if K.image_dim_ordering() != \"tf\":\n",
        "  print(\"Backend image dimension ordering is inappropriate. Change it by typing K.image_dim_ordering('tf')\")"
      ],
      "execution_count": 1,
      "outputs": [
        {
          "output_type": "stream",
          "text": [
            "Using TensorFlow backend.\n"
          ],
          "name": "stderr"
        }
      ]
    },
    {
      "cell_type": "code",
      "metadata": {
        "id": "fJ7DRdLfPazH",
        "colab_type": "code",
        "colab": {}
      },
      "source": [
        "def plot_acc_loss(history):\n",
        "    f, (ax1, ax2) = plt.subplots(2,1, figsize=(10,10))\n",
        "    \n",
        "    # Summarize history of accuracy\n",
        "    ax1.plot(history.history['loss'])\n",
        "    ax1.plot(history.history['val_loss'])\n",
        "    ax1.set_title('model loss')\n",
        "    ax1.legend(['train', 'validation'], loc='upper left')\n",
        "    \n",
        "    # Summarize history of accuracy\n",
        "    ax2.plot(history.history['acc'])\n",
        "    ax2.plot(history.history['val_acc'])\n",
        "    ax2.set_title('model accuracy')\n",
        "    ax2.set_xlabel('epoch')\n",
        "    ax2.legend(['train', 'validation'], loc='upper left')\n",
        "    \n",
        "    plt.subplots_adjust(hspace=0.5)\n",
        "    plt.show()\n",
        "    \n",
        "def draw_confusion_matrix(true, pred, labels):\n",
        "    \"\"\"\n",
        "    Drawing confusion matrix\n",
        "    \"\"\"\n",
        "\n",
        "    cm = metrics.confusion_matrix(true, pred, labels)\n",
        "    ax = plt.subplot()\n",
        "    sns.heatmap(cm, annot=True, ax=ax, fmt=\"d\")\n",
        "    #ax.set_xticklabels(['']+labels)\n",
        "    #ax.set_yticklabels(['']+labels)\n",
        "    ax.set_xlabel(\"Predicted\")\n",
        "    ax.set_ylabel(\"True\")\n",
        "    plt.show()\n",
        "\n",
        "    return cm"
      ],
      "execution_count": 0,
      "outputs": []
    },
    {
      "cell_type": "markdown",
      "metadata": {
        "id": "ym1Hpf4yPazL",
        "colab_type": "text"
      },
      "source": [
        "### Import data\n",
        "The MNIST dataset has  60,000 training samples and 10,000 test samples.\n",
        "\n",
        "Keras includes a number of datasets, including MNIST in the `keras.datasets` module. To download the MNIST dataset call `mnist.load_data()`."
      ]
    },
    {
      "cell_type": "code",
      "metadata": {
        "id": "LgaFPEQqPazL",
        "colab_type": "code",
        "colab": {
          "base_uri": "https://localhost:8080/",
          "height": 51
        },
        "outputId": "4e55048a-c5cb-4419-ee73-568406b74a3d"
      },
      "source": [
        "(X_train, y_train), (X_test, y_test) = mnist.load_data()"
      ],
      "execution_count": 3,
      "outputs": [
        {
          "output_type": "stream",
          "text": [
            "Downloading data from https://s3.amazonaws.com/img-datasets/mnist.npz\n",
            "11493376/11490434 [==============================] - 0s 0us/step\n"
          ],
          "name": "stdout"
        }
      ]
    },
    {
      "cell_type": "markdown",
      "metadata": {
        "id": "R4iMUeB0slB0",
        "colab_type": "text"
      },
      "source": [
        "We further split our training data into training and validation data. And we will our validation set size to be 0.2"
      ]
    },
    {
      "cell_type": "markdown",
      "metadata": {
        "id": "4IaKUu9iPazI",
        "colab_type": "text"
      },
      "source": [
        "### Set seed\n",
        "Set a seed value so that when we repeatedly run our code we will get the same result. Using the same seed is important when you want to compare algorithms."
      ]
    },
    {
      "cell_type": "code",
      "metadata": {
        "id": "aHY6TUaIPazJ",
        "colab_type": "code",
        "colab": {}
      },
      "source": [
        "seed = 7\n",
        "numpy.random.seed(seed)"
      ],
      "execution_count": 0,
      "outputs": []
    },
    {
      "cell_type": "code",
      "metadata": {
        "id": "JSpzcyKaskYP",
        "colab_type": "code",
        "colab": {}
      },
      "source": [
        "X_train, X_val, y_train, y_val = train_test_split(X_train, y_train, test_size=0.2, random_state=seed)"
      ],
      "execution_count": 0,
      "outputs": []
    },
    {
      "cell_type": "markdown",
      "metadata": {
        "id": "gpplR83PPazO",
        "colab_type": "text"
      },
      "source": [
        "A two dimensional convolutional neural network expects data to be arranged in a four dimensional shape: *number of samples*  x  *width*  x *height*  x *channels*.\n",
        "\n",
        "For example, assume we have 10 RGB images, with widths and heights of 20 pixels. This would need to be shaped into 10 samples, each RGB channel would be split into three separate images (1 for red, 1 for green and 1 for blue). Each image would then be a 2D array with 20 rows and columns.\n",
        "\n",
        "The MNIST data has the wrong shape for a 2D convolutional neural network (3 dimensions rather than four):"
      ]
    },
    {
      "cell_type": "code",
      "metadata": {
        "id": "ncPzS_pgPazO",
        "colab_type": "code",
        "outputId": "2246c751-c5a4-481c-d1cf-a7023beb84b7",
        "colab": {
          "base_uri": "https://localhost:8080/",
          "height": 34
        }
      },
      "source": [
        "print(X_train.shape)"
      ],
      "execution_count": 6,
      "outputs": [
        {
          "output_type": "stream",
          "text": [
            "(48000, 28, 28)\n"
          ],
          "name": "stdout"
        }
      ]
    },
    {
      "cell_type": "markdown",
      "metadata": {
        "id": "UGzJ70itPazR",
        "colab_type": "text"
      },
      "source": [
        "The data is missing the dimension for channels, so we need to reshape the data to add it in. The images in the MNIST example are gray scale, so they only have 1 channel.\n",
        "\n",
        "This is done using the numpy `reshape` method."
      ]
    },
    {
      "cell_type": "code",
      "metadata": {
        "id": "oVUverfbPazR",
        "colab_type": "code",
        "colab": {}
      },
      "source": [
        "X_train = X_train.reshape(X_train.shape[0], 28, 28, 1).astype('float32')\n",
        "X_test = X_test.reshape(X_test.shape[0], 28, 28, 1).astype('float32')\n",
        "X_val = X_val.reshape(X_val.shape[0], 28, 28, 1).astype('float32')"
      ],
      "execution_count": 0,
      "outputs": []
    },
    {
      "cell_type": "code",
      "metadata": {
        "id": "hslyE7ZtQd9U",
        "colab_type": "code",
        "outputId": "106a6b32-a80f-42c8-f456-448377b400a3",
        "colab": {
          "base_uri": "https://localhost:8080/",
          "height": 34
        }
      },
      "source": [
        "X_train.shape"
      ],
      "execution_count": 8,
      "outputs": [
        {
          "output_type": "execute_result",
          "data": {
            "text/plain": [
              "(48000, 28, 28, 1)"
            ]
          },
          "metadata": {
            "tags": []
          },
          "execution_count": 8
        }
      ]
    },
    {
      "cell_type": "markdown",
      "metadata": {
        "id": "EG_Y_bglPazT",
        "colab_type": "text"
      },
      "source": [
        "Normalize the pixels to the range 0 - 1"
      ]
    },
    {
      "cell_type": "markdown",
      "metadata": {
        "id": "p0YtCKi2BWp3",
        "colab_type": "text"
      },
      "source": [
        "#### Understanding image data"
      ]
    },
    {
      "cell_type": "code",
      "metadata": {
        "id": "7194uirnPazU",
        "colab_type": "code",
        "colab": {}
      },
      "source": [
        "X_train = X_train / 255\n",
        "X_test = X_test / 255\n",
        "X_val = X_val / 255"
      ],
      "execution_count": 0,
      "outputs": []
    },
    {
      "cell_type": "code",
      "metadata": {
        "id": "Do74SQpq-kcE",
        "colab_type": "code",
        "outputId": "7ed1a3f5-c7de-4128-edbd-ba234a142b43",
        "colab": {
          "base_uri": "https://localhost:8080/",
          "height": 286
        }
      },
      "source": [
        "# Show the first image in the train dataset and the corresponding output variable\n",
        "plt.imshow(np.array(X_train[2,:,:,0]), cmap='gray')\n",
        "print(y_train[2])"
      ],
      "execution_count": 10,
      "outputs": [
        {
          "output_type": "stream",
          "text": [
            "0\n"
          ],
          "name": "stdout"
        },
        {
          "output_type": "display_data",
          "data": {
            "image/png": "[encoded data removed]",
            "text/plain": [
              "<Figure size 432x288 with 1 Axes>"
            ]
          },
          "metadata": {
            "tags": []
          }
        }
      ]
    },
    {
      "cell_type": "code",
      "metadata": {
        "id": "RkDQnDiH_o39",
        "colab_type": "code",
        "outputId": "12fb447b-7c73-4132-a4bd-bee2df02040b",
        "colab": {
          "base_uri": "https://localhost:8080/",
          "height": 493
        }
      },
      "source": [
        "# Showing the pixel values\n",
        "five = X_train[2].reshape(28,28)\n",
        "for row in range(28):\n",
        "  for col in range(28):\n",
        "    print(\"%.F \" % five[row][col], end=\"\")\n",
        "  print(\"\")"
      ],
      "execution_count": 11,
      "outputs": [
        {
          "output_type": "stream",
          "text": [
            "0 0 0 0 0 0 0 0 0 0 0 0 0 0 0 0 0 0 0 0 0 0 0 0 0 0 0 0 \n",
            "0 0 0 0 0 0 0 0 0 0 0 0 0 0 0 0 0 0 0 0 0 0 0 0 0 0 0 0 \n",
            "0 0 0 0 0 0 0 0 0 0 0 0 0 0 0 0 0 0 0 0 0 0 0 0 0 0 0 0 \n",
            "0 0 0 0 0 0 0 0 0 0 0 0 0 0 0 0 0 0 0 0 0 0 0 0 0 0 0 0 \n",
            "0 0 0 0 0 0 0 0 0 0 0 0 1 1 0 0 0 0 0 0 0 0 0 0 0 0 0 0 \n",
            "0 0 0 0 0 0 0 0 0 0 0 1 1 1 1 1 1 1 0 0 0 0 0 0 0 0 0 0 \n",
            "0 0 0 0 0 0 0 0 0 0 1 1 1 1 1 1 1 1 1 0 0 0 0 0 0 0 0 0 \n",
            "0 0 0 0 0 0 0 0 0 1 1 1 1 1 1 1 1 1 1 1 0 0 0 0 0 0 0 0 \n",
            "0 0 0 0 0 0 0 0 1 1 1 1 1 1 1 0 0 0 1 1 1 1 0 0 0 0 0 0 \n",
            "0 0 0 0 0 0 0 0 1 1 1 0 0 0 0 0 0 0 0 1 1 1 0 0 0 0 0 0 \n",
            "0 0 0 0 0 0 0 0 1 1 0 0 0 0 0 0 0 0 0 0 1 1 1 0 0 0 0 0 \n",
            "0 0 0 0 0 0 0 1 1 1 0 0 0 0 0 0 0 0 0 0 0 1 1 1 0 0 0 0 \n",
            "0 0 0 0 0 0 0 1 1 1 0 0 0 0 0 0 0 0 0 0 0 1 1 1 0 0 0 0 \n",
            "0 0 0 0 0 0 1 1 1 1 0 0 0 0 0 0 0 0 0 0 0 1 1 1 0 0 0 0 \n",
            "0 0 0 0 0 0 1 1 1 1 0 0 0 0 0 0 0 0 0 0 0 1 1 1 0 0 0 0 \n",
            "0 0 0 0 0 0 1 1 1 1 0 0 0 0 0 0 0 0 0 0 1 1 1 1 0 0 0 0 \n",
            "0 0 0 0 0 0 1 1 1 1 0 0 0 0 0 0 0 0 0 0 1 1 1 0 0 0 0 0 \n",
            "0 0 0 0 0 0 1 1 1 1 0 0 0 0 0 0 0 0 0 0 1 1 1 0 0 0 0 0 \n",
            "0 0 0 0 0 0 1 1 1 1 0 0 0 0 0 0 0 0 0 1 1 1 0 0 0 0 0 0 \n",
            "0 0 0 0 0 0 0 1 1 1 1 1 0 0 0 0 0 0 1 1 1 1 0 0 0 0 0 0 \n",
            "0 0 0 0 0 0 0 0 1 1 1 1 1 1 1 1 1 1 1 1 1 1 0 0 0 0 0 0 \n",
            "0 0 0 0 0 0 0 0 1 1 1 1 1 1 1 1 1 1 1 1 1 0 0 0 0 0 0 0 \n",
            "0 0 0 0 0 0 0 0 0 0 1 1 1 1 1 1 1 1 1 1 0 0 0 0 0 0 0 0 \n",
            "0 0 0 0 0 0 0 0 0 0 0 0 1 1 1 1 0 0 0 0 0 0 0 0 0 0 0 0 \n",
            "0 0 0 0 0 0 0 0 0 0 0 0 0 0 0 0 0 0 0 0 0 0 0 0 0 0 0 0 \n",
            "0 0 0 0 0 0 0 0 0 0 0 0 0 0 0 0 0 0 0 0 0 0 0 0 0 0 0 0 \n",
            "0 0 0 0 0 0 0 0 0 0 0 0 0 0 0 0 0 0 0 0 0 0 0 0 0 0 0 0 \n",
            "0 0 0 0 0 0 0 0 0 0 0 0 0 0 0 0 0 0 0 0 0 0 0 0 0 0 0 0 \n"
          ],
          "name": "stdout"
        }
      ]
    },
    {
      "cell_type": "code",
      "metadata": {
        "id": "14_WkFwH0HEG",
        "colab_type": "code",
        "outputId": "fa097313-d7ca-4885-c216-40fcf00104c8",
        "colab": {
          "base_uri": "https://localhost:8080/",
          "height": 34
        }
      },
      "source": [
        "y_train[1:10]"
      ],
      "execution_count": 12,
      "outputs": [
        {
          "output_type": "execute_result",
          "data": {
            "text/plain": [
              "array([8, 0, 8, 3, 9, 2, 8, 0, 2], dtype=uint8)"
            ]
          },
          "metadata": {
            "tags": []
          },
          "execution_count": 12
        }
      ]
    },
    {
      "cell_type": "markdown",
      "metadata": {
        "id": "_r-iaVYvPazV",
        "colab_type": "text"
      },
      "source": [
        "One hot encode the target variables as you did in the Iris classification exercise. The data is already numeric so you do not need to use the LabelEncoder."
      ]
    },
    {
      "cell_type": "code",
      "metadata": {
        "id": "KVPnWNm5PazW",
        "colab_type": "code",
        "outputId": "e6ade71c-28a3-487c-e731-787050ab0ea0",
        "colab": {
          "base_uri": "https://localhost:8080/",
          "height": 34
        }
      },
      "source": [
        "y_train = np_utils.to_categorical(y_train)\n",
        "y_test = np_utils.to_categorical(y_test)\n",
        "y_val = np_utils.to_categorical(y_val)\n",
        "num_classes = y_test.shape[1]\n",
        "print(\"Number of classes: {0}\".format(num_classes))"
      ],
      "execution_count": 13,
      "outputs": [
        {
          "output_type": "stream",
          "text": [
            "Number of classes: 10\n"
          ],
          "name": "stdout"
        }
      ]
    },
    {
      "cell_type": "markdown",
      "metadata": {
        "id": "7hs9WqjwPazY",
        "colab_type": "text"
      },
      "source": [
        "### Create the model\n",
        "\n",
        "1. The input layer takes inputs with a dimension 28x28x1\n",
        "2. The first hidden layer is a `Conv2D` layer. We have set it to have 30 filters (the number of output filters) and the size of the kernel to 5x5.\n",
        "3. The `MaxPooling2D` has a kernel size of 2x2. This downsamples the output of the previous layer by selecting the maxiumum value in each kernel. An example is illustrated below: \n",
        "\n",
        "![Max pooling](https://computersciencewiki.org/images/8/8a/MaxpoolSample2.png)\n",
        "4. The `Dropout` layer is used to prevent overfitting. It does this by randomly turning off neurons (50% in this example). \n",
        "![Dropout layer](https://s3-ap-south-1.amazonaws.com/av-blog-media/wp-content/uploads/2018/04/1IrdJ5PghD9YoOyVAQ73MJw.gif)\n",
        "5. The `Flatten` layer flattens the Conv2D layers into a normal fully connected layer that can be connected to a Dense layer. \n",
        "![Flatten layer](https://sds-platform-private.s3-us-east-2.amazonaws.com/uploads/73_blog_image_1.png)\n",
        "6. A `Dense` fully connected layer is added with 50 neurons.\n",
        "7. The last layer is the output layer, which has 10 neurons (one for each class/digit)."
      ]
    },
    {
      "cell_type": "code",
      "metadata": {
        "id": "wpYkWScaPazZ",
        "colab_type": "code",
        "colab": {
          "base_uri": "https://localhost:8080/",
          "height": 275
        },
        "outputId": "d1d55440-08e3-46d5-ecb1-bb4a710088c2"
      },
      "source": [
        "model = Sequential()\n",
        "model.add(Conv2D(30, (5, 5), input_shape=(28, 28, 1), activation='relu'))\n",
        "model.add(MaxPooling2D(pool_size=(2, 2)))\n",
        "model.add(Dropout(0.2))\n",
        "model.add(Flatten())\n",
        "model.add(Dense(50, activation='relu'))\n",
        "model.add(Dense(num_classes, activation='softmax'))"
      ],
      "execution_count": 14,
      "outputs": [
        {
          "output_type": "stream",
          "text": [
            "WARNING: Logging before flag parsing goes to stderr.\n",
            "W0710 02:31:33.983482 139636698449792 deprecation_wrapper.py:119] From /usr/local/lib/python3.6/dist-packages/keras/backend/tensorflow_backend.py:74: The name tf.get_default_graph is deprecated. Please use tf.compat.v1.get_default_graph instead.\n",
            "\n",
            "W0710 02:31:34.026873 139636698449792 deprecation_wrapper.py:119] From /usr/local/lib/python3.6/dist-packages/keras/backend/tensorflow_backend.py:517: The name tf.placeholder is deprecated. Please use tf.compat.v1.placeholder instead.\n",
            "\n",
            "W0710 02:31:34.036042 139636698449792 deprecation_wrapper.py:119] From /usr/local/lib/python3.6/dist-packages/keras/backend/tensorflow_backend.py:4138: The name tf.random_uniform is deprecated. Please use tf.random.uniform instead.\n",
            "\n",
            "W0710 02:31:34.082878 139636698449792 deprecation_wrapper.py:119] From /usr/local/lib/python3.6/dist-packages/keras/backend/tensorflow_backend.py:3976: The name tf.nn.max_pool is deprecated. Please use tf.nn.max_pool2d instead.\n",
            "\n",
            "W0710 02:31:34.085995 139636698449792 deprecation_wrapper.py:119] From /usr/local/lib/python3.6/dist-packages/keras/backend/tensorflow_backend.py:133: The name tf.placeholder_with_default is deprecated. Please use tf.compat.v1.placeholder_with_default instead.\n",
            "\n",
            "W0710 02:31:34.098550 139636698449792 deprecation.py:506] From /usr/local/lib/python3.6/dist-packages/keras/backend/tensorflow_backend.py:3445: calling dropout (from tensorflow.python.ops.nn_ops) with keep_prob is deprecated and will be removed in a future version.\n",
            "Instructions for updating:\n",
            "Please use `rate` instead of `keep_prob`. Rate should be set to `rate = 1 - keep_prob`.\n"
          ],
          "name": "stderr"
        }
      ]
    },
    {
      "cell_type": "markdown",
      "metadata": {
        "id": "4Bbm7yaaPazb",
        "colab_type": "text"
      },
      "source": [
        "### Compile the model\n",
        "The next step is to compile the model. The loss function (`categorical_crossentropy`) is the same as the Iris multi-class classification exercise."
      ]
    },
    {
      "cell_type": "code",
      "metadata": {
        "id": "VF64rw4CPazc",
        "colab_type": "code",
        "colab": {
          "base_uri": "https://localhost:8080/",
          "height": 105
        },
        "outputId": "38be40a6-543a-4242-d22e-6a1a33badcc3"
      },
      "source": [
        "model.compile(loss='categorical_crossentropy', optimizer='adam', metrics=['accuracy'])"
      ],
      "execution_count": 15,
      "outputs": [
        {
          "output_type": "stream",
          "text": [
            "W0710 02:31:34.162848 139636698449792 deprecation_wrapper.py:119] From /usr/local/lib/python3.6/dist-packages/keras/optimizers.py:790: The name tf.train.Optimizer is deprecated. Please use tf.compat.v1.train.Optimizer instead.\n",
            "\n",
            "W0710 02:31:34.196775 139636698449792 deprecation_wrapper.py:119] From /usr/local/lib/python3.6/dist-packages/keras/backend/tensorflow_backend.py:3295: The name tf.log is deprecated. Please use tf.math.log instead.\n",
            "\n"
          ],
          "name": "stderr"
        }
      ]
    },
    {
      "cell_type": "markdown",
      "metadata": {
        "id": "D_zIbC2DPaze",
        "colab_type": "text"
      },
      "source": [
        "### Fit the model\n",
        "The next step is to train the model. It takes a lot more computing resources to train convultional neural networks, so note that far less `epochs` are used, but a much larger `batch_size` is used due to a much larger data set."
      ]
    },
    {
      "cell_type": "code",
      "metadata": {
        "id": "gZVKLVd7Pazf",
        "colab_type": "code",
        "outputId": "a7f1d529-a10d-412e-c119-eb473aba822c",
        "colab": {
          "base_uri": "https://localhost:8080/",
          "height": 445
        }
      },
      "source": [
        "history = model.fit(X_train, y_train, validation_data=(X_val, y_val), epochs=10, batch_size=200)"
      ],
      "execution_count": 16,
      "outputs": [
        {
          "output_type": "stream",
          "text": [
            "W0710 02:31:34.353664 139636698449792 deprecation.py:323] From /usr/local/lib/python3.6/dist-packages/tensorflow/python/ops/math_grad.py:1250: add_dispatch_support.<locals>.wrapper (from tensorflow.python.ops.array_ops) is deprecated and will be removed in a future version.\n",
            "Instructions for updating:\n",
            "Use tf.where in 2.0, which has the same broadcast rule as np.where\n"
          ],
          "name": "stderr"
        },
        {
          "output_type": "stream",
          "text": [
            "Train on 48000 samples, validate on 12000 samples\n",
            "Epoch 1/10\n",
            "48000/48000 [==============================] - 24s 509us/step - loss: 0.3424 - acc: 0.9029 - val_loss: 0.1381 - val_acc: 0.9615\n",
            "Epoch 2/10\n",
            "48000/48000 [==============================] - 24s 501us/step - loss: 0.1024 - acc: 0.9694 - val_loss: 0.0843 - val_acc: 0.9764\n",
            "Epoch 3/10\n",
            "48000/48000 [==============================] - 24s 497us/step - loss: 0.0720 - acc: 0.9789 - val_loss: 0.0683 - val_acc: 0.9797\n",
            "Epoch 4/10\n",
            "48000/48000 [==============================] - 24s 497us/step - loss: 0.0571 - acc: 0.9828 - val_loss: 0.0584 - val_acc: 0.9842\n",
            "Epoch 5/10\n",
            "48000/48000 [==============================] - 24s 501us/step - loss: 0.0496 - acc: 0.9851 - val_loss: 0.0529 - val_acc: 0.9853\n",
            "Epoch 6/10\n",
            "48000/48000 [==============================] - 24s 501us/step - loss: 0.0415 - acc: 0.9867 - val_loss: 0.0514 - val_acc: 0.9855\n",
            "Epoch 7/10\n",
            "48000/48000 [==============================] - 24s 499us/step - loss: 0.0360 - acc: 0.9888 - val_loss: 0.0514 - val_acc: 0.9857\n",
            "Epoch 8/10\n",
            "48000/48000 [==============================] - 24s 501us/step - loss: 0.0330 - acc: 0.9893 - val_loss: 0.0441 - val_acc: 0.9876\n",
            "Epoch 9/10\n",
            "48000/48000 [==============================] - 24s 499us/step - loss: 0.0285 - acc: 0.9912 - val_loss: 0.0476 - val_acc: 0.9858\n",
            "Epoch 10/10\n",
            "48000/48000 [==============================] - 24s 498us/step - loss: 0.0262 - acc: 0.9913 - val_loss: 0.0481 - val_acc: 0.9859\n"
          ],
          "name": "stdout"
        }
      ]
    },
    {
      "cell_type": "code",
      "metadata": {
        "id": "Gj792fukPazj",
        "colab_type": "code",
        "outputId": "f3eeb374-a89f-4b6b-b4ff-aff48325ccc6",
        "colab": {
          "base_uri": "https://localhost:8080/",
          "height": 621
        }
      },
      "source": [
        "plot_acc_loss(history)"
      ],
      "execution_count": 17,
      "outputs": [
        {
          "output_type": "display_data",
          "data": {
            "image/png": "[encoded data removed]",
            "text/plain": [
              "<Figure size 720x720 with 2 Axes>"
            ]
          },
          "metadata": {
            "tags": []
          }
        }
      ]
    },
    {
      "cell_type": "markdown",
      "metadata": {
        "id": "MxF4uux0Pazm",
        "colab_type": "text"
      },
      "source": [
        "### Evaluate the model\n",
        "Now that we have trained our model, we can evaluate the performance on the test data."
      ]
    },
    {
      "cell_type": "code",
      "metadata": {
        "id": "mkiqn2WvPazn",
        "colab_type": "code",
        "outputId": "b84f0cf3-21c1-4844-f0cb-0121c15a345e",
        "colab": {
          "base_uri": "https://localhost:8080/",
          "height": 34
        }
      },
      "source": [
        "scores = model.evaluate(X_test, y_test, verbose=0)\n",
        "print(\"Accuracy: {0:.2f}%, Error: {1:.2f}%. \".format(scores[1]*100, 100-scores[1]*100))"
      ],
      "execution_count": 18,
      "outputs": [
        {
          "output_type": "stream",
          "text": [
            "Accuracy: 98.74%, Error: 1.26%. \n"
          ],
          "name": "stdout"
        }
      ]
    },
    {
      "cell_type": "code",
      "metadata": {
        "id": "tjANu_nnT6dU",
        "colab_type": "code",
        "colab": {}
      },
      "source": [
        "y_pred = model.predict_classes(X_test)\n",
        "y_test = [np.argmax(i) for i in y_test] # Reverse one hot encoded to label encoded"
      ],
      "execution_count": 0,
      "outputs": []
    },
    {
      "cell_type": "code",
      "metadata": {
        "id": "P2RadD5bVP8B",
        "colab_type": "code",
        "outputId": "931ef9ea-b1e3-44cc-b37a-e5f978819bb8",
        "colab": {
          "base_uri": "https://localhost:8080/",
          "height": 283
        }
      },
      "source": [
        "matrix = draw_confusion_matrix(y_test, y_pred, np.unique(y_test)) # (y_true,y_pred)"
      ],
      "execution_count": 20,
      "outputs": [
        {
          "output_type": "display_data",
          "data": {
            "image/png": "[encoded data removed]",
            "text/plain": [
              "<Figure size 432x288 with 2 Axes>"
            ]
          },
          "metadata": {
            "tags": []
          }
        }
      ]
    },
    {
      "cell_type": "markdown",
      "metadata": {
        "id": "erISkHH4Gq0g",
        "colab_type": "text"
      },
      "source": [
        "### Visualising errors\n"
      ]
    },
    {
      "cell_type": "code",
      "metadata": {
        "id": "gGJd3o5vGqR_",
        "colab_type": "code",
        "colab": {}
      },
      "source": [
        "pred_right = y_test == y_pred\n",
        "wrong = [i for i, pred in enumerate(pred_right) if pred==False]"
      ],
      "execution_count": 0,
      "outputs": []
    },
    {
      "cell_type": "code",
      "metadata": {
        "id": "cS-92IdHzPrB",
        "colab_type": "code",
        "outputId": "c63c1778-5916-460c-c0b4-2be253fdf6df",
        "colab": {
          "base_uri": "https://localhost:8080/",
          "height": 286
        }
      },
      "source": [
        "error_example = wrong[5]\n",
        "plt.imshow(X_test[error_example,:,:,0], cmap='gray')\n",
        "print(\"{0}>{1}\".format(y_test[error_example], y_pred[error_example]))"
      ],
      "execution_count": 22,
      "outputs": [
        {
          "output_type": "stream",
          "text": [
            "5>3\n"
          ],
          "name": "stdout"
        },
        {
          "output_type": "display_data",
          "data": {
            "image/png": "[encoded data removed]",
            "text/plain": [
              "<Figure size 432x288 with 1 Axes>"
            ]
          },
          "metadata": {
            "tags": []
          }
        }
      ]
    },
    {
      "cell_type": "markdown",
      "metadata": {
        "id": "8l8nl9Fc4JsH",
        "colab_type": "text"
      },
      "source": [
        "# Key Points\n",
        "\n",
        "\n",
        "*  Convolutional neural network\n",
        "*  Image data structure for a 2D convolutional neural network\n",
        "*  Some of the layers we can use in our model (e.g., max pooling, dropout)\n",
        "* Materials available on the git repo\n"
      ]
    },
    {
      "cell_type": "markdown",
      "metadata": {
        "id": "vlZJl-XAPazq",
        "colab_type": "text"
      },
      "source": [
        "### Network topologies\n",
        "Changing the structure of a neural network is one of the best methods for improving the accuracy of a neural network. There are two key ways to change your network topology:\n",
        "\n",
        "* Create a deeper network topology\n",
        "* Create a wider network topology\n",
        "\n",
        "Here are some examples of what this means in the context of the network used in the Iris neural network - exercise 2.\n",
        "\n",
        "#### Baseline\n",
        "This was our baseline model for the iris dataset:\n",
        "```python\n",
        "model = Sequential()\n",
        "model.add(Dense(4, input_dim=4, activation='relu', kernel_initializer='normal'))\n",
        "model.add(Dense(3, activation='sigmoid', kernel_initializer='normal'))\n",
        "```\n",
        "\n",
        "#### Deeper\n",
        "In a deeper network topology you simply increase the number of layers:\n",
        "```python\n",
        "model = Sequential()\n",
        "model.add(Dense(4, input_dim=4, activation='relu', kernel_initializer='normal'))\n",
        "model.add(Dense(4, activation='relu', kernel_initializer='normal'))\n",
        "model.add(Dense(3, activation='sigmoid', kernel_initializer='normal'))\n",
        "```\n",
        "\n",
        "#### Wider\n",
        "In a wider network topology you increase the number of neurons in the hidden layers:\n",
        "```python\n",
        "model = Sequential()\n",
        "model.add(Dense(8, input_dim=4, activation='relu', kernel_initializer='normal'))\n",
        "model.add(Dense(3, activation='sigmoid', kernel_initializer='normal'))\n",
        "```"
      ]
    },
    {
      "cell_type": "markdown",
      "metadata": {
        "id": "4__eh--XPazr",
        "colab_type": "text"
      },
      "source": [
        "## Task 2: create different network topologies\n",
        "Create a model with a wider and deeper network topology and see how it performs with regards to the simpler model.\n",
        "\n",
        "Hints:\n",
        "* Think about adding more Conv2D and MaxPooling2D layers, followed by the Flatten layer and Dense layers that decrease in the number of neurons (hundreds -> num_classes)"
      ]
    },
    {
      "cell_type": "code",
      "metadata": {
        "id": "otqKdAkBPazs",
        "colab_type": "code",
        "colab": {}
      },
      "source": [
        ""
      ],
      "execution_count": 0,
      "outputs": []
    }
  ]
}